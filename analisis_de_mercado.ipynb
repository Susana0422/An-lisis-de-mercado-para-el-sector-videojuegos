{
 "cells": [
  {
   "cell_type": "markdown",
   "metadata": {
    "tags": [
     "e5c1f0c2-db9f-43a0-99b9-4875c52427e8"
    ]
   },
   "source": [
    "# Planeación campaña para la tienda online Ice \n"
   ]
  },
  {
   "cell_type": "markdown",
   "metadata": {},
   "source": [
    "**Objetivo**: Detectar patrones para crear una campaña publicitaria para el mercado de los videojuegos para la tienda ICE.\n",
    "\n",
    "**Base de datos**: datos históricos sobre las ventas de juegos hasta el 2016."
   ]
  },
  {
   "cell_type": "markdown",
   "metadata": {},
   "source": [
    "# **Paso 1: Cargar y visulaizar la base de datos**"
   ]
  },
  {
   "cell_type": "code",
   "execution_count": 11,
   "metadata": {
    "trusted": true
   },
   "outputs": [],
   "source": [
    "#Cargar librerías a utilizar \n",
    "import pandas as pd\n",
    "import numpy as np\n",
    "import seaborn as sb\n",
    "import matplotlib.pyplot as plt\n",
    "import scipy.stats as st"
   ]
  },
  {
   "cell_type": "code",
   "execution_count": 12,
   "metadata": {
    "trusted": true
   },
   "outputs": [],
   "source": [
    "#Cargar la base de datos a trabajar\n",
    "df=pd.read_csv(\"Analisis de mercado/data/games.csv\")"
   ]
  },
  {
   "cell_type": "code",
   "execution_count": 13,
   "metadata": {
    "trusted": true
   },
   "outputs": [
    {
     "name": "stdout",
     "output_type": "stream",
     "text": [
      "<class 'pandas.core.frame.DataFrame'>\n",
      "RangeIndex: 16715 entries, 0 to 16714\n",
      "Data columns (total 11 columns):\n",
      " #   Column           Non-Null Count  Dtype  \n",
      "---  ------           --------------  -----  \n",
      " 0   Name             16713 non-null  object \n",
      " 1   Platform         16715 non-null  object \n",
      " 2   Year_of_Release  16446 non-null  float64\n",
      " 3   Genre            16713 non-null  object \n",
      " 4   NA_sales         16715 non-null  float64\n",
      " 5   EU_sales         16715 non-null  float64\n",
      " 6   JP_sales         16715 non-null  float64\n",
      " 7   Other_sales      16715 non-null  float64\n",
      " 8   Critic_Score     8137 non-null   float64\n",
      " 9   User_Score       10014 non-null  object \n",
      " 10  Rating           9949 non-null   object \n",
      "dtypes: float64(6), object(5)\n",
      "memory usage: 1.4+ MB\n"
     ]
    }
   ],
   "source": [
    "df.info()"
   ]
  },
  {
   "cell_type": "code",
   "execution_count": 14,
   "metadata": {
    "trusted": true
   },
   "outputs": [
    {
     "data": {
      "text/html": [
       "<div>\n",
       "<style scoped>\n",
       "    .dataframe tbody tr th:only-of-type {\n",
       "        vertical-align: middle;\n",
       "    }\n",
       "\n",
       "    .dataframe tbody tr th {\n",
       "        vertical-align: top;\n",
       "    }\n",
       "\n",
       "    .dataframe thead th {\n",
       "        text-align: right;\n",
       "    }\n",
       "</style>\n",
       "<table border=\"1\" class=\"dataframe\">\n",
       "  <thead>\n",
       "    <tr style=\"text-align: right;\">\n",
       "      <th></th>\n",
       "      <th>Name</th>\n",
       "      <th>Platform</th>\n",
       "      <th>Year_of_Release</th>\n",
       "      <th>Genre</th>\n",
       "      <th>NA_sales</th>\n",
       "      <th>EU_sales</th>\n",
       "      <th>JP_sales</th>\n",
       "      <th>Other_sales</th>\n",
       "      <th>Critic_Score</th>\n",
       "      <th>User_Score</th>\n",
       "      <th>Rating</th>\n",
       "    </tr>\n",
       "  </thead>\n",
       "  <tbody>\n",
       "    <tr>\n",
       "      <th>6780</th>\n",
       "      <td>Hasbro Family Game Night 3</td>\n",
       "      <td>PS3</td>\n",
       "      <td>2010.0</td>\n",
       "      <td>Misc</td>\n",
       "      <td>0.18</td>\n",
       "      <td>0.04</td>\n",
       "      <td>0.00</td>\n",
       "      <td>0.03</td>\n",
       "      <td>NaN</td>\n",
       "      <td>tbd</td>\n",
       "      <td>E</td>\n",
       "    </tr>\n",
       "    <tr>\n",
       "      <th>387</th>\n",
       "      <td>Tekken 4</td>\n",
       "      <td>PS2</td>\n",
       "      <td>2002.0</td>\n",
       "      <td>Fighting</td>\n",
       "      <td>1.55</td>\n",
       "      <td>1.27</td>\n",
       "      <td>0.33</td>\n",
       "      <td>0.29</td>\n",
       "      <td>79.0</td>\n",
       "      <td>8.3</td>\n",
       "      <td>T</td>\n",
       "    </tr>\n",
       "    <tr>\n",
       "      <th>11524</th>\n",
       "      <td>Sherlock Holmes: Crimes &amp; Punishments</td>\n",
       "      <td>XOne</td>\n",
       "      <td>2014.0</td>\n",
       "      <td>Adventure</td>\n",
       "      <td>0.03</td>\n",
       "      <td>0.04</td>\n",
       "      <td>0.00</td>\n",
       "      <td>0.01</td>\n",
       "      <td>NaN</td>\n",
       "      <td>NaN</td>\n",
       "      <td>NaN</td>\n",
       "    </tr>\n",
       "    <tr>\n",
       "      <th>9605</th>\n",
       "      <td>Drome Racers</td>\n",
       "      <td>PS2</td>\n",
       "      <td>2002.0</td>\n",
       "      <td>Racing</td>\n",
       "      <td>0.06</td>\n",
       "      <td>0.05</td>\n",
       "      <td>0.00</td>\n",
       "      <td>0.02</td>\n",
       "      <td>57.0</td>\n",
       "      <td>tbd</td>\n",
       "      <td>E</td>\n",
       "    </tr>\n",
       "    <tr>\n",
       "      <th>703</th>\n",
       "      <td>TOCA Touring Car Championship</td>\n",
       "      <td>PS</td>\n",
       "      <td>1997.0</td>\n",
       "      <td>Racing</td>\n",
       "      <td>0.07</td>\n",
       "      <td>2.00</td>\n",
       "      <td>0.02</td>\n",
       "      <td>0.18</td>\n",
       "      <td>NaN</td>\n",
       "      <td>NaN</td>\n",
       "      <td>NaN</td>\n",
       "    </tr>\n",
       "    <tr>\n",
       "      <th>9292</th>\n",
       "      <td>Call of Duty: Infinite Warfare</td>\n",
       "      <td>PC</td>\n",
       "      <td>2016.0</td>\n",
       "      <td>Shooter</td>\n",
       "      <td>0.04</td>\n",
       "      <td>0.08</td>\n",
       "      <td>0.00</td>\n",
       "      <td>0.01</td>\n",
       "      <td>73.0</td>\n",
       "      <td>3</td>\n",
       "      <td>M</td>\n",
       "    </tr>\n",
       "    <tr>\n",
       "      <th>10803</th>\n",
       "      <td>Jikkyou Powerful Pro Yakyuu 11</td>\n",
       "      <td>GC</td>\n",
       "      <td>2004.0</td>\n",
       "      <td>Sports</td>\n",
       "      <td>0.00</td>\n",
       "      <td>0.00</td>\n",
       "      <td>0.09</td>\n",
       "      <td>0.00</td>\n",
       "      <td>NaN</td>\n",
       "      <td>NaN</td>\n",
       "      <td>NaN</td>\n",
       "    </tr>\n",
       "    <tr>\n",
       "      <th>14108</th>\n",
       "      <td>Railroad Tycoon 3</td>\n",
       "      <td>PC</td>\n",
       "      <td>2003.0</td>\n",
       "      <td>Strategy</td>\n",
       "      <td>0.00</td>\n",
       "      <td>0.03</td>\n",
       "      <td>0.00</td>\n",
       "      <td>0.00</td>\n",
       "      <td>80.0</td>\n",
       "      <td>7.7</td>\n",
       "      <td>E</td>\n",
       "    </tr>\n",
       "    <tr>\n",
       "      <th>13672</th>\n",
       "      <td>Clockwork Empires</td>\n",
       "      <td>PC</td>\n",
       "      <td>NaN</td>\n",
       "      <td>Strategy</td>\n",
       "      <td>0.00</td>\n",
       "      <td>0.04</td>\n",
       "      <td>0.00</td>\n",
       "      <td>0.00</td>\n",
       "      <td>58.0</td>\n",
       "      <td>3.8</td>\n",
       "      <td>RP</td>\n",
       "    </tr>\n",
       "    <tr>\n",
       "      <th>8153</th>\n",
       "      <td>Armored Core: Last Raven</td>\n",
       "      <td>PS2</td>\n",
       "      <td>2005.0</td>\n",
       "      <td>Simulation</td>\n",
       "      <td>0.05</td>\n",
       "      <td>0.04</td>\n",
       "      <td>0.08</td>\n",
       "      <td>0.01</td>\n",
       "      <td>59.0</td>\n",
       "      <td>8.9</td>\n",
       "      <td>T</td>\n",
       "    </tr>\n",
       "  </tbody>\n",
       "</table>\n",
       "</div>"
      ],
      "text/plain": [
       "                                        Name Platform  Year_of_Release  \\\n",
       "6780              Hasbro Family Game Night 3      PS3           2010.0   \n",
       "387                                 Tekken 4      PS2           2002.0   \n",
       "11524  Sherlock Holmes: Crimes & Punishments     XOne           2014.0   \n",
       "9605                            Drome Racers      PS2           2002.0   \n",
       "703            TOCA Touring Car Championship       PS           1997.0   \n",
       "9292          Call of Duty: Infinite Warfare       PC           2016.0   \n",
       "10803         Jikkyou Powerful Pro Yakyuu 11       GC           2004.0   \n",
       "14108                      Railroad Tycoon 3       PC           2003.0   \n",
       "13672                      Clockwork Empires       PC              NaN   \n",
       "8153                Armored Core: Last Raven      PS2           2005.0   \n",
       "\n",
       "            Genre  NA_sales  EU_sales  JP_sales  Other_sales  Critic_Score  \\\n",
       "6780         Misc      0.18      0.04      0.00         0.03           NaN   \n",
       "387      Fighting      1.55      1.27      0.33         0.29          79.0   \n",
       "11524   Adventure      0.03      0.04      0.00         0.01           NaN   \n",
       "9605       Racing      0.06      0.05      0.00         0.02          57.0   \n",
       "703        Racing      0.07      2.00      0.02         0.18           NaN   \n",
       "9292      Shooter      0.04      0.08      0.00         0.01          73.0   \n",
       "10803      Sports      0.00      0.00      0.09         0.00           NaN   \n",
       "14108    Strategy      0.00      0.03      0.00         0.00          80.0   \n",
       "13672    Strategy      0.00      0.04      0.00         0.00          58.0   \n",
       "8153   Simulation      0.05      0.04      0.08         0.01          59.0   \n",
       "\n",
       "      User_Score Rating  \n",
       "6780         tbd      E  \n",
       "387          8.3      T  \n",
       "11524        NaN    NaN  \n",
       "9605         tbd      E  \n",
       "703          NaN    NaN  \n",
       "9292           3      M  \n",
       "10803        NaN    NaN  \n",
       "14108        7.7      E  \n",
       "13672        3.8     RP  \n",
       "8153         8.9      T  "
      ]
     },
     "execution_count": 14,
     "metadata": {},
     "output_type": "execute_result"
    }
   ],
   "source": [
    "#Visualizar base de datos\n",
    "df.sample(10)"
   ]
  },
  {
   "cell_type": "code",
   "execution_count": 15,
   "metadata": {
    "trusted": true
   },
   "outputs": [
    {
     "data": {
      "text/plain": [
       "Platform\n",
       "2600     133\n",
       "3DO        3\n",
       "3DS      520\n",
       "DC        52\n",
       "DS      2151\n",
       "GB        98\n",
       "GBA      822\n",
       "GC       556\n",
       "GEN       29\n",
       "GG         1\n",
       "N64      319\n",
       "NES       98\n",
       "NG        12\n",
       "PC       974\n",
       "PCFX       1\n",
       "PS      1197\n",
       "PS2     2161\n",
       "PS3     1331\n",
       "PS4      392\n",
       "PSP     1209\n",
       "PSV      430\n",
       "SAT      173\n",
       "SCD        6\n",
       "SNES     239\n",
       "TG16       2\n",
       "WS         6\n",
       "Wii     1320\n",
       "WiiU     147\n",
       "X360    1262\n",
       "XB       824\n",
       "XOne     247\n",
       "Name: count, dtype: int64"
      ]
     },
     "execution_count": 15,
     "metadata": {},
     "output_type": "execute_result"
    }
   ],
   "source": [
    "#Visualizar casos en la plataforma\n",
    "df['Platform'].value_counts(dropna=False).sort_index()"
   ]
  },
  {
   "cell_type": "markdown",
   "metadata": {},
   "source": [
    "# Paso 2: **Procesamiento de datos**\n",
    "- Cambiar los nombres de las columnas a snake_case.\n",
    "- Cambiar los nombres de los videojuegos a mayúscula\n",
    "- Trabajar los valores perdidos de las columnas:Name, Year_of_Release, Critic_Score, User_Score y Rating \n",
    "- Cambiar el tipo de dato de la columna  Year_of_Release a tipo entero.\n",
    "- Cambiar el tipo de dato de la columna  user_score a float y multiplicar por 10.\n",
    "- Agrupar las opciones existentes en tipologias de formas que se cree la columna plataform_group\n",
    "- Crear una columna nueva que agrupe las plataformas\n",
    "- Identificar duplicados\n",
    "- Calcular las ventas totales (la suma de las ventas en todas las regiones) "
   ]
  },
  {
   "cell_type": "code",
   "execution_count": 16,
   "metadata": {
    "trusted": true
   },
   "outputs": [],
   "source": [
    "#Cambiar los nombres de las columnas a snake_case.\n",
    "df.columns=[x.lower().replace(\" \",\"\") for x in df.columns]"
   ]
  },
  {
   "cell_type": "code",
   "execution_count": 17,
   "metadata": {
    "trusted": true
   },
   "outputs": [
    {
     "data": {
      "text/plain": [
       "Index(['name', 'platform', 'year_of_release', 'genre', 'na_sales', 'eu_sales',\n",
       "       'jp_sales', 'other_sales', 'critic_score', 'user_score', 'rating'],\n",
       "      dtype='object')"
      ]
     },
     "execution_count": 17,
     "metadata": {},
     "output_type": "execute_result"
    }
   ],
   "source": [
    "df.columns"
   ]
  },
  {
   "cell_type": "code",
   "execution_count": 18,
   "metadata": {
    "trusted": true
   },
   "outputs": [],
   "source": [
    "#Cambiar los nombres de los videojuegos a mayúscula y quitar espacios\n",
    "df['name']=df['name'].str.upper()\n",
    "df['name']=df['name'].str.strip()\n",
    "df['name']=df['name'].str.replace('.','').str.replace(',','').str.replace(';','').str.replace(':','')"
   ]
  },
  {
   "cell_type": "code",
   "execution_count": 19,
   "metadata": {
    "trusted": true
   },
   "outputs": [
    {
     "data": {
      "text/html": [
       "<div>\n",
       "<style scoped>\n",
       "    .dataframe tbody tr th:only-of-type {\n",
       "        vertical-align: middle;\n",
       "    }\n",
       "\n",
       "    .dataframe tbody tr th {\n",
       "        vertical-align: top;\n",
       "    }\n",
       "\n",
       "    .dataframe thead th {\n",
       "        text-align: right;\n",
       "    }\n",
       "</style>\n",
       "<table border=\"1\" class=\"dataframe\">\n",
       "  <thead>\n",
       "    <tr style=\"text-align: right;\">\n",
       "      <th></th>\n",
       "      <th>name</th>\n",
       "      <th>platform</th>\n",
       "      <th>year_of_release</th>\n",
       "      <th>genre</th>\n",
       "      <th>na_sales</th>\n",
       "      <th>eu_sales</th>\n",
       "      <th>jp_sales</th>\n",
       "      <th>other_sales</th>\n",
       "      <th>critic_score</th>\n",
       "      <th>user_score</th>\n",
       "      <th>rating</th>\n",
       "    </tr>\n",
       "  </thead>\n",
       "  <tbody>\n",
       "    <tr>\n",
       "      <th>11498</th>\n",
       "      <td>TONY HAWK'S PRO SKATER 3</td>\n",
       "      <td>N64</td>\n",
       "      <td>2002.0</td>\n",
       "      <td>Sports</td>\n",
       "      <td>0.06</td>\n",
       "      <td>0.02</td>\n",
       "      <td>0.00</td>\n",
       "      <td>0.00</td>\n",
       "      <td>NaN</td>\n",
       "      <td>NaN</td>\n",
       "      <td>NaN</td>\n",
       "    </tr>\n",
       "    <tr>\n",
       "      <th>4249</th>\n",
       "      <td>RUGRATS CASTLE CAPERS</td>\n",
       "      <td>GBA</td>\n",
       "      <td>2001.0</td>\n",
       "      <td>Action</td>\n",
       "      <td>0.33</td>\n",
       "      <td>0.12</td>\n",
       "      <td>0.00</td>\n",
       "      <td>0.01</td>\n",
       "      <td>NaN</td>\n",
       "      <td>NaN</td>\n",
       "      <td>NaN</td>\n",
       "    </tr>\n",
       "    <tr>\n",
       "      <th>13846</th>\n",
       "      <td>THE DA VINCI CODE</td>\n",
       "      <td>XB</td>\n",
       "      <td>2006.0</td>\n",
       "      <td>Action</td>\n",
       "      <td>0.03</td>\n",
       "      <td>0.01</td>\n",
       "      <td>0.00</td>\n",
       "      <td>0.00</td>\n",
       "      <td>52.0</td>\n",
       "      <td>2.8</td>\n",
       "      <td>T</td>\n",
       "    </tr>\n",
       "    <tr>\n",
       "      <th>11808</th>\n",
       "      <td>GLADIUS</td>\n",
       "      <td>GC</td>\n",
       "      <td>2003.0</td>\n",
       "      <td>Strategy</td>\n",
       "      <td>0.06</td>\n",
       "      <td>0.01</td>\n",
       "      <td>0.00</td>\n",
       "      <td>0.00</td>\n",
       "      <td>82.0</td>\n",
       "      <td>8.8</td>\n",
       "      <td>T</td>\n",
       "    </tr>\n",
       "    <tr>\n",
       "      <th>1167</th>\n",
       "      <td>POKEMON BATTLE REVOLUTION</td>\n",
       "      <td>Wii</td>\n",
       "      <td>2006.0</td>\n",
       "      <td>Role-Playing</td>\n",
       "      <td>0.78</td>\n",
       "      <td>0.37</td>\n",
       "      <td>0.30</td>\n",
       "      <td>0.13</td>\n",
       "      <td>53.0</td>\n",
       "      <td>6.7</td>\n",
       "      <td>E</td>\n",
       "    </tr>\n",
       "    <tr>\n",
       "      <th>5338</th>\n",
       "      <td>TRACKMANIA TURBO</td>\n",
       "      <td>PS4</td>\n",
       "      <td>2016.0</td>\n",
       "      <td>Action</td>\n",
       "      <td>0.03</td>\n",
       "      <td>0.26</td>\n",
       "      <td>0.00</td>\n",
       "      <td>0.05</td>\n",
       "      <td>81.0</td>\n",
       "      <td>7.9</td>\n",
       "      <td>E</td>\n",
       "    </tr>\n",
       "    <tr>\n",
       "      <th>7735</th>\n",
       "      <td>TEST DRIVE UNLIMITED 2</td>\n",
       "      <td>PC</td>\n",
       "      <td>NaN</td>\n",
       "      <td>Racing</td>\n",
       "      <td>0.05</td>\n",
       "      <td>0.11</td>\n",
       "      <td>0.00</td>\n",
       "      <td>0.03</td>\n",
       "      <td>72.0</td>\n",
       "      <td>5.7</td>\n",
       "      <td>T</td>\n",
       "    </tr>\n",
       "    <tr>\n",
       "      <th>11922</th>\n",
       "      <td>THE CROODS PREHISTORIC PARTY!</td>\n",
       "      <td>Wii</td>\n",
       "      <td>2013.0</td>\n",
       "      <td>Misc</td>\n",
       "      <td>0.01</td>\n",
       "      <td>0.05</td>\n",
       "      <td>0.00</td>\n",
       "      <td>0.00</td>\n",
       "      <td>NaN</td>\n",
       "      <td>NaN</td>\n",
       "      <td>NaN</td>\n",
       "    </tr>\n",
       "    <tr>\n",
       "      <th>14087</th>\n",
       "      <td>MAHJONG TAIKAI</td>\n",
       "      <td>DS</td>\n",
       "      <td>2004.0</td>\n",
       "      <td>Misc</td>\n",
       "      <td>0.00</td>\n",
       "      <td>0.00</td>\n",
       "      <td>0.04</td>\n",
       "      <td>0.00</td>\n",
       "      <td>NaN</td>\n",
       "      <td>NaN</td>\n",
       "      <td>NaN</td>\n",
       "    </tr>\n",
       "    <tr>\n",
       "      <th>15209</th>\n",
       "      <td>FRANKLIN'S GREAT ADVENTURES</td>\n",
       "      <td>DS</td>\n",
       "      <td>2006.0</td>\n",
       "      <td>Action</td>\n",
       "      <td>0.02</td>\n",
       "      <td>0.00</td>\n",
       "      <td>0.00</td>\n",
       "      <td>0.00</td>\n",
       "      <td>NaN</td>\n",
       "      <td>NaN</td>\n",
       "      <td>E</td>\n",
       "    </tr>\n",
       "  </tbody>\n",
       "</table>\n",
       "</div>"
      ],
      "text/plain": [
       "                                name platform  year_of_release         genre  \\\n",
       "11498       TONY HAWK'S PRO SKATER 3      N64           2002.0        Sports   \n",
       "4249           RUGRATS CASTLE CAPERS      GBA           2001.0        Action   \n",
       "13846              THE DA VINCI CODE       XB           2006.0        Action   \n",
       "11808                        GLADIUS       GC           2003.0      Strategy   \n",
       "1167       POKEMON BATTLE REVOLUTION      Wii           2006.0  Role-Playing   \n",
       "5338                TRACKMANIA TURBO      PS4           2016.0        Action   \n",
       "7735          TEST DRIVE UNLIMITED 2       PC              NaN        Racing   \n",
       "11922  THE CROODS PREHISTORIC PARTY!      Wii           2013.0          Misc   \n",
       "14087                 MAHJONG TAIKAI       DS           2004.0          Misc   \n",
       "15209    FRANKLIN'S GREAT ADVENTURES       DS           2006.0        Action   \n",
       "\n",
       "       na_sales  eu_sales  jp_sales  other_sales  critic_score user_score  \\\n",
       "11498      0.06      0.02      0.00         0.00           NaN        NaN   \n",
       "4249       0.33      0.12      0.00         0.01           NaN        NaN   \n",
       "13846      0.03      0.01      0.00         0.00          52.0        2.8   \n",
       "11808      0.06      0.01      0.00         0.00          82.0        8.8   \n",
       "1167       0.78      0.37      0.30         0.13          53.0        6.7   \n",
       "5338       0.03      0.26      0.00         0.05          81.0        7.9   \n",
       "7735       0.05      0.11      0.00         0.03          72.0        5.7   \n",
       "11922      0.01      0.05      0.00         0.00           NaN        NaN   \n",
       "14087      0.00      0.00      0.04         0.00           NaN        NaN   \n",
       "15209      0.02      0.00      0.00         0.00           NaN        NaN   \n",
       "\n",
       "      rating  \n",
       "11498    NaN  \n",
       "4249     NaN  \n",
       "13846      T  \n",
       "11808      T  \n",
       "1167       E  \n",
       "5338       E  \n",
       "7735       T  \n",
       "11922    NaN  \n",
       "14087    NaN  \n",
       "15209      E  "
      ]
     },
     "execution_count": 19,
     "metadata": {},
     "output_type": "execute_result"
    }
   ],
   "source": [
    "df.sample(10)"
   ]
  },
  {
   "cell_type": "code",
   "execution_count": 20,
   "metadata": {
    "trusted": true
   },
   "outputs": [
    {
     "data": {
      "text/html": [
       "<div>\n",
       "<style scoped>\n",
       "    .dataframe tbody tr th:only-of-type {\n",
       "        vertical-align: middle;\n",
       "    }\n",
       "\n",
       "    .dataframe tbody tr th {\n",
       "        vertical-align: top;\n",
       "    }\n",
       "\n",
       "    .dataframe thead th {\n",
       "        text-align: right;\n",
       "    }\n",
       "</style>\n",
       "<table border=\"1\" class=\"dataframe\">\n",
       "  <thead>\n",
       "    <tr style=\"text-align: right;\">\n",
       "      <th></th>\n",
       "      <th>name</th>\n",
       "      <th>platform</th>\n",
       "      <th>year_of_release</th>\n",
       "      <th>genre</th>\n",
       "      <th>na_sales</th>\n",
       "      <th>eu_sales</th>\n",
       "      <th>jp_sales</th>\n",
       "      <th>other_sales</th>\n",
       "      <th>critic_score</th>\n",
       "      <th>user_score</th>\n",
       "      <th>rating</th>\n",
       "    </tr>\n",
       "  </thead>\n",
       "  <tbody>\n",
       "    <tr>\n",
       "      <th>659</th>\n",
       "      <td>NaN</td>\n",
       "      <td>GEN</td>\n",
       "      <td>1993.0</td>\n",
       "      <td>NaN</td>\n",
       "      <td>1.78</td>\n",
       "      <td>0.53</td>\n",
       "      <td>0.00</td>\n",
       "      <td>0.08</td>\n",
       "      <td>NaN</td>\n",
       "      <td>NaN</td>\n",
       "      <td>NaN</td>\n",
       "    </tr>\n",
       "    <tr>\n",
       "      <th>14244</th>\n",
       "      <td>NaN</td>\n",
       "      <td>GEN</td>\n",
       "      <td>1993.0</td>\n",
       "      <td>NaN</td>\n",
       "      <td>0.00</td>\n",
       "      <td>0.00</td>\n",
       "      <td>0.03</td>\n",
       "      <td>0.00</td>\n",
       "      <td>NaN</td>\n",
       "      <td>NaN</td>\n",
       "      <td>NaN</td>\n",
       "    </tr>\n",
       "  </tbody>\n",
       "</table>\n",
       "</div>"
      ],
      "text/plain": [
       "      name platform  year_of_release genre  na_sales  eu_sales  jp_sales  \\\n",
       "659    NaN      GEN           1993.0   NaN      1.78      0.53      0.00   \n",
       "14244  NaN      GEN           1993.0   NaN      0.00      0.00      0.03   \n",
       "\n",
       "       other_sales  critic_score user_score rating  \n",
       "659           0.08           NaN        NaN    NaN  \n",
       "14244         0.00           NaN        NaN    NaN  "
      ]
     },
     "execution_count": 20,
     "metadata": {},
     "output_type": "execute_result"
    }
   ],
   "source": [
    "#Trabajar los valores perdidos de la columna Name\n",
    "df[df['name'].isna()]"
   ]
  },
  {
   "cell_type": "markdown",
   "metadata": {},
   "source": [
    "Para la columna name, solo hay dos valores perdidos, estos valores ausentes pueden deberse a qué 1993 no había un registro consolidado, la persona que recogió todos estos datos se le pudo dificultar estos dos nombres, se decide reemplazar estos valores por con la observación NOT DEFINED"
   ]
  },
  {
   "cell_type": "markdown",
   "metadata": {},
   "source": []
  },
  {
   "cell_type": "code",
   "execution_count": 21,
   "metadata": {
    "trusted": true
   },
   "outputs": [
    {
     "name": "stdout",
     "output_type": "stream",
     "text": [
      "<class 'pandas.core.frame.DataFrame'>\n",
      "RangeIndex: 16715 entries, 0 to 16714\n",
      "Data columns (total 11 columns):\n",
      " #   Column           Non-Null Count  Dtype  \n",
      "---  ------           --------------  -----  \n",
      " 0   name             16715 non-null  object \n",
      " 1   platform         16715 non-null  object \n",
      " 2   year_of_release  16446 non-null  float64\n",
      " 3   genre            16713 non-null  object \n",
      " 4   na_sales         16715 non-null  float64\n",
      " 5   eu_sales         16715 non-null  float64\n",
      " 6   jp_sales         16715 non-null  float64\n",
      " 7   other_sales      16715 non-null  float64\n",
      " 8   critic_score     8137 non-null   float64\n",
      " 9   user_score       10014 non-null  object \n",
      " 10  rating           9949 non-null   object \n",
      "dtypes: float64(6), object(5)\n",
      "memory usage: 1.4+ MB\n"
     ]
    }
   ],
   "source": [
    "df['name'] = df['name'].fillna('NOT DEFINED')\n",
    "df.info()"
   ]
  },
  {
   "cell_type": "code",
   "execution_count": 22,
   "metadata": {
    "trusted": true
   },
   "outputs": [],
   "source": [
    "#Trabajar los valores perdidos de la columna Year_of_Release\n",
    "df = df.dropna(subset=['year_of_release'])"
   ]
  },
  {
   "cell_type": "markdown",
   "metadata": {},
   "source": [
    "Se decide eliminar los valores nulos de las columna year_of release debido a que  reemplazarlo con la media o la mediana implicaría sesgar nuestro análisis, además necesito convertir estos datos a tipo entero para trabajar. La perdida de registro fue de 269."
   ]
  },
  {
   "cell_type": "code",
   "execution_count": 23,
   "metadata": {
    "trusted": true
   },
   "outputs": [
    {
     "name": "stdout",
     "output_type": "stream",
     "text": [
      "<class 'pandas.core.frame.DataFrame'>\n",
      "Index: 16446 entries, 0 to 16714\n",
      "Data columns (total 11 columns):\n",
      " #   Column           Non-Null Count  Dtype  \n",
      "---  ------           --------------  -----  \n",
      " 0   name             16446 non-null  object \n",
      " 1   platform         16446 non-null  object \n",
      " 2   year_of_release  16446 non-null  int64  \n",
      " 3   genre            16444 non-null  object \n",
      " 4   na_sales         16446 non-null  float64\n",
      " 5   eu_sales         16446 non-null  float64\n",
      " 6   jp_sales         16446 non-null  float64\n",
      " 7   other_sales      16446 non-null  float64\n",
      " 8   critic_score     7983 non-null   float64\n",
      " 9   user_score       9839 non-null   object \n",
      " 10  rating           9768 non-null   object \n",
      "dtypes: float64(5), int64(1), object(5)\n",
      "memory usage: 1.5+ MB\n"
     ]
    }
   ],
   "source": [
    "#Cambiar el tipo de dato de la columna Year_of_Release a tipo entero.\n",
    "df['year_of_release']=df['year_of_release'].astype(int)\n",
    "df.info()"
   ]
  },
  {
   "cell_type": "markdown",
   "metadata": {},
   "source": [
    "**Trabajar los valores perdidos de la columna user_score**\n",
    "- Sustituir 'tbd' por un valor perdido numérico \n",
    "- Transformar a tipo numérico float \n",
    "- Multiplicar por 10 de forma que se estandaricen las magnitudes con el otro score de la tabla"
   ]
  },
  {
   "cell_type": "code",
   "execution_count": 24,
   "metadata": {
    "trusted": true
   },
   "outputs": [
    {
     "name": "stdout",
     "output_type": "stream",
     "text": [
      "<class 'pandas.core.frame.DataFrame'>\n",
      "Index: 16446 entries, 0 to 16714\n",
      "Data columns (total 11 columns):\n",
      " #   Column           Non-Null Count  Dtype  \n",
      "---  ------           --------------  -----  \n",
      " 0   name             16446 non-null  object \n",
      " 1   platform         16446 non-null  object \n",
      " 2   year_of_release  16446 non-null  int64  \n",
      " 3   genre            16444 non-null  object \n",
      " 4   na_sales         16446 non-null  float64\n",
      " 5   eu_sales         16446 non-null  float64\n",
      " 6   jp_sales         16446 non-null  float64\n",
      " 7   other_sales      16446 non-null  float64\n",
      " 8   critic_score     7983 non-null   float64\n",
      " 9   user_score       7463 non-null   float64\n",
      " 10  rating           9768 non-null   object \n",
      "dtypes: float64(6), int64(1), object(4)\n",
      "memory usage: 1.5+ MB\n"
     ]
    }
   ],
   "source": [
    "df.loc[df['user_score'] == 'tbd', 'user_score'] = np.nan\n",
    "\n",
    "# Transformar la columna a float\n",
    "df['user_score'] = df['user_score'].astype(float)\n",
    "\n",
    "# Multiplicar por 10\n",
    "df['user_score'] = df['user_score'] * 10\n",
    "\n",
    "df.info(10)"
   ]
  },
  {
   "cell_type": "markdown",
   "metadata": {},
   "source": [
    "**Trabajar los valores perdidos de la columna Rating**\n",
    "\n",
    "***Notas para comprender este rating:***\n",
    "El Entertainment Software Rating Board (ESRB) es un organismo que clasifica los videojuegos según su contenido. Las clasificaciones son: \n",
    "\n",
    "E (Todos): Para todas las edades, aunque puede contener violencia leve, lenguaje levemente soez, o un uso poco frecuente de lenguaje levemente soez. \n",
    "\n",
    "E10 (Todos +10): Para mayores de 10 años, aunque puede contener violencia leve, lenguaje levemente soez, o una mínima cantidad de temas insinuantes. \n",
    "\n",
    "T (Adolescentes): Para mayores de 13 años, aunque puede contener violencia, temas insinuantes, humor vulgar, o un uso poco frecuente de lenguaje muy soez. \n",
    "\n",
    "M (Maduro): Para mayores de 17 años, aunque puede contener violencia explícita, escenas sangrientas, contenido sexual o lenguaje muy soez. \n",
    "\n",
    "AO (Adultos únicamente): Para mayores de 18 años, aunque puede incluir escenas prolongadas de violencia explícita o contenido sexual gráfico y desnudos. \n",
    "\n",
    "K-A (Kids to Adults) para videojuegos fue cambiada a E (Everyone) en 1998\n",
    "\n",
    "RP en los videojuegos significa que el juego aún no ha sido evaluado por especialistas y está en espera de una calificación final\n"
   ]
  },
  {
   "cell_type": "code",
   "execution_count": 25,
   "metadata": {
    "trusted": true
   },
   "outputs": [
    {
     "data": {
      "text/plain": [
       "rating\n",
       "E       3921\n",
       "T       2905\n",
       "M       1536\n",
       "E10+    1393\n",
       "EC         8\n",
       "K-A        3\n",
       "AO         1\n",
       "RP         1\n",
       "Name: count, dtype: int64"
      ]
     },
     "execution_count": 25,
     "metadata": {},
     "output_type": "execute_result"
    }
   ],
   "source": [
    "df['rating'].value_counts()"
   ]
  },
  {
   "cell_type": "code",
   "execution_count": 26,
   "metadata": {
    "trusted": true
   },
   "outputs": [],
   "source": [
    "#Crear una función que modifique los nombres de los rating\n",
    "def Rat(x):\n",
    "    if x=='E' or x=='K-A':\n",
    "        return 'Everyone'\n",
    "    elif x=='T':\n",
    "        return 'Teens'\n",
    "    elif x=='M':\n",
    "        return 'Mature'\n",
    "    elif x=='E10+':\n",
    "        return 'Everyone 10y+'\n",
    "    elif  x=='EC':\n",
    "        return 'Early childhood'\n",
    "    elif x=='RP':\n",
    "        return 'Pending'\n",
    "    elif x =='AO':\n",
    "        return 'Adults Only'\n",
    "    else:\n",
    "        return 'Pending'"
   ]
  },
  {
   "cell_type": "code",
   "execution_count": 27,
   "metadata": {
    "trusted": true
   },
   "outputs": [
    {
     "data": {
      "text/html": [
       "<div>\n",
       "<style scoped>\n",
       "    .dataframe tbody tr th:only-of-type {\n",
       "        vertical-align: middle;\n",
       "    }\n",
       "\n",
       "    .dataframe tbody tr th {\n",
       "        vertical-align: top;\n",
       "    }\n",
       "\n",
       "    .dataframe thead th {\n",
       "        text-align: right;\n",
       "    }\n",
       "</style>\n",
       "<table border=\"1\" class=\"dataframe\">\n",
       "  <thead>\n",
       "    <tr style=\"text-align: right;\">\n",
       "      <th></th>\n",
       "      <th>name</th>\n",
       "      <th>platform</th>\n",
       "      <th>year_of_release</th>\n",
       "      <th>genre</th>\n",
       "      <th>na_sales</th>\n",
       "      <th>eu_sales</th>\n",
       "      <th>jp_sales</th>\n",
       "      <th>other_sales</th>\n",
       "      <th>critic_score</th>\n",
       "      <th>user_score</th>\n",
       "      <th>rating</th>\n",
       "      <th>rating_name</th>\n",
       "    </tr>\n",
       "  </thead>\n",
       "  <tbody>\n",
       "    <tr>\n",
       "      <th>739</th>\n",
       "      <td>ROCK BAND 2</td>\n",
       "      <td>X360</td>\n",
       "      <td>2008</td>\n",
       "      <td>Misc</td>\n",
       "      <td>1.78</td>\n",
       "      <td>0.24</td>\n",
       "      <td>0.00</td>\n",
       "      <td>0.18</td>\n",
       "      <td>92.0</td>\n",
       "      <td>83.0</td>\n",
       "      <td>T</td>\n",
       "      <td>Teens</td>\n",
       "    </tr>\n",
       "    <tr>\n",
       "      <th>1759</th>\n",
       "      <td>GAUNTLET DARK LEGACY</td>\n",
       "      <td>PS2</td>\n",
       "      <td>2001</td>\n",
       "      <td>Action</td>\n",
       "      <td>0.56</td>\n",
       "      <td>0.44</td>\n",
       "      <td>0.00</td>\n",
       "      <td>0.15</td>\n",
       "      <td>73.0</td>\n",
       "      <td>83.0</td>\n",
       "      <td>T</td>\n",
       "      <td>Teens</td>\n",
       "    </tr>\n",
       "    <tr>\n",
       "      <th>7116</th>\n",
       "      <td>3RD SUPER ROBOT WARS Z JIGOKU HEN</td>\n",
       "      <td>PS3</td>\n",
       "      <td>2014</td>\n",
       "      <td>Role-Playing</td>\n",
       "      <td>0.00</td>\n",
       "      <td>0.00</td>\n",
       "      <td>0.23</td>\n",
       "      <td>0.00</td>\n",
       "      <td>NaN</td>\n",
       "      <td>NaN</td>\n",
       "      <td>NaN</td>\n",
       "      <td>Pending</td>\n",
       "    </tr>\n",
       "    <tr>\n",
       "      <th>8826</th>\n",
       "      <td>NBA SHOOTOUT 2001</td>\n",
       "      <td>PS2</td>\n",
       "      <td>2001</td>\n",
       "      <td>Sports</td>\n",
       "      <td>0.07</td>\n",
       "      <td>0.06</td>\n",
       "      <td>0.00</td>\n",
       "      <td>0.02</td>\n",
       "      <td>54.0</td>\n",
       "      <td>NaN</td>\n",
       "      <td>E</td>\n",
       "      <td>Everyone</td>\n",
       "    </tr>\n",
       "    <tr>\n",
       "      <th>5216</th>\n",
       "      <td>ESPN NFL FOOTBALL</td>\n",
       "      <td>XB</td>\n",
       "      <td>2003</td>\n",
       "      <td>Sports</td>\n",
       "      <td>0.27</td>\n",
       "      <td>0.08</td>\n",
       "      <td>0.00</td>\n",
       "      <td>0.01</td>\n",
       "      <td>91.0</td>\n",
       "      <td>89.0</td>\n",
       "      <td>E</td>\n",
       "      <td>Everyone</td>\n",
       "    </tr>\n",
       "    <tr>\n",
       "      <th>11274</th>\n",
       "      <td>WINTER SPORTS 2 THE NEXT CHALLENGE</td>\n",
       "      <td>PS2</td>\n",
       "      <td>2008</td>\n",
       "      <td>Sports</td>\n",
       "      <td>0.04</td>\n",
       "      <td>0.03</td>\n",
       "      <td>0.00</td>\n",
       "      <td>0.01</td>\n",
       "      <td>NaN</td>\n",
       "      <td>NaN</td>\n",
       "      <td>E</td>\n",
       "      <td>Everyone</td>\n",
       "    </tr>\n",
       "    <tr>\n",
       "      <th>7908</th>\n",
       "      <td>RISEN</td>\n",
       "      <td>X360</td>\n",
       "      <td>2009</td>\n",
       "      <td>Role-Playing</td>\n",
       "      <td>0.07</td>\n",
       "      <td>0.11</td>\n",
       "      <td>0.00</td>\n",
       "      <td>0.01</td>\n",
       "      <td>60.0</td>\n",
       "      <td>64.0</td>\n",
       "      <td>M</td>\n",
       "      <td>Mature</td>\n",
       "    </tr>\n",
       "    <tr>\n",
       "      <th>10078</th>\n",
       "      <td>THE KING OF FIGHTERS '99</td>\n",
       "      <td>PS</td>\n",
       "      <td>2000</td>\n",
       "      <td>Fighting</td>\n",
       "      <td>0.00</td>\n",
       "      <td>0.00</td>\n",
       "      <td>0.11</td>\n",
       "      <td>0.01</td>\n",
       "      <td>NaN</td>\n",
       "      <td>89.0</td>\n",
       "      <td>T</td>\n",
       "      <td>Teens</td>\n",
       "    </tr>\n",
       "    <tr>\n",
       "      <th>1415</th>\n",
       "      <td>POCKET MONSTERS STADIUM</td>\n",
       "      <td>N64</td>\n",
       "      <td>1998</td>\n",
       "      <td>Strategy</td>\n",
       "      <td>0.00</td>\n",
       "      <td>0.00</td>\n",
       "      <td>1.37</td>\n",
       "      <td>0.00</td>\n",
       "      <td>NaN</td>\n",
       "      <td>NaN</td>\n",
       "      <td>NaN</td>\n",
       "      <td>Pending</td>\n",
       "    </tr>\n",
       "    <tr>\n",
       "      <th>10726</th>\n",
       "      <td>DRAGON BALL EVOLUTION</td>\n",
       "      <td>PSP</td>\n",
       "      <td>2009</td>\n",
       "      <td>Fighting</td>\n",
       "      <td>0.09</td>\n",
       "      <td>0.00</td>\n",
       "      <td>0.00</td>\n",
       "      <td>0.01</td>\n",
       "      <td>28.0</td>\n",
       "      <td>9.0</td>\n",
       "      <td>T</td>\n",
       "      <td>Teens</td>\n",
       "    </tr>\n",
       "  </tbody>\n",
       "</table>\n",
       "</div>"
      ],
      "text/plain": [
       "                                     name platform  year_of_release  \\\n",
       "739                           ROCK BAND 2     X360             2008   \n",
       "1759                 GAUNTLET DARK LEGACY      PS2             2001   \n",
       "7116    3RD SUPER ROBOT WARS Z JIGOKU HEN      PS3             2014   \n",
       "8826                    NBA SHOOTOUT 2001      PS2             2001   \n",
       "5216                    ESPN NFL FOOTBALL       XB             2003   \n",
       "11274  WINTER SPORTS 2 THE NEXT CHALLENGE      PS2             2008   \n",
       "7908                                RISEN     X360             2009   \n",
       "10078            THE KING OF FIGHTERS '99       PS             2000   \n",
       "1415              POCKET MONSTERS STADIUM      N64             1998   \n",
       "10726               DRAGON BALL EVOLUTION      PSP             2009   \n",
       "\n",
       "              genre  na_sales  eu_sales  jp_sales  other_sales  critic_score  \\\n",
       "739            Misc      1.78      0.24      0.00         0.18          92.0   \n",
       "1759         Action      0.56      0.44      0.00         0.15          73.0   \n",
       "7116   Role-Playing      0.00      0.00      0.23         0.00           NaN   \n",
       "8826         Sports      0.07      0.06      0.00         0.02          54.0   \n",
       "5216         Sports      0.27      0.08      0.00         0.01          91.0   \n",
       "11274        Sports      0.04      0.03      0.00         0.01           NaN   \n",
       "7908   Role-Playing      0.07      0.11      0.00         0.01          60.0   \n",
       "10078      Fighting      0.00      0.00      0.11         0.01           NaN   \n",
       "1415       Strategy      0.00      0.00      1.37         0.00           NaN   \n",
       "10726      Fighting      0.09      0.00      0.00         0.01          28.0   \n",
       "\n",
       "       user_score rating rating_name  \n",
       "739          83.0      T       Teens  \n",
       "1759         83.0      T       Teens  \n",
       "7116          NaN    NaN     Pending  \n",
       "8826          NaN      E    Everyone  \n",
       "5216         89.0      E    Everyone  \n",
       "11274         NaN      E    Everyone  \n",
       "7908         64.0      M      Mature  \n",
       "10078        89.0      T       Teens  \n",
       "1415          NaN    NaN     Pending  \n",
       "10726         9.0      T       Teens  "
      ]
     },
     "execution_count": 27,
     "metadata": {},
     "output_type": "execute_result"
    }
   ],
   "source": [
    "#Aplicar la función a la columna rating\n",
    "df['rating_name']=df['rating'].apply(Rat)\n",
    "df.sample(10)"
   ]
  },
  {
   "cell_type": "code",
   "execution_count": 28,
   "metadata": {
    "trusted": true
   },
   "outputs": [
    {
     "data": {
      "text/plain": [
       "rating_name\n",
       "Pending            6679\n",
       "Everyone           3924\n",
       "Teens              2905\n",
       "Mature             1536\n",
       "Everyone 10y+      1393\n",
       "Early childhood       8\n",
       "Adults Only           1\n",
       "Name: count, dtype: int64"
      ]
     },
     "execution_count": 28,
     "metadata": {},
     "output_type": "execute_result"
    }
   ],
   "source": [
    "df['rating_name'].value_counts()"
   ]
  },
  {
   "cell_type": "code",
   "execution_count": 29,
   "metadata": {
    "trusted": true
   },
   "outputs": [
    {
     "name": "stdout",
     "output_type": "stream",
     "text": [
      "<class 'pandas.core.frame.DataFrame'>\n",
      "Index: 16446 entries, 0 to 16714\n",
      "Data columns (total 12 columns):\n",
      " #   Column           Non-Null Count  Dtype  \n",
      "---  ------           --------------  -----  \n",
      " 0   name             16446 non-null  object \n",
      " 1   platform         16446 non-null  object \n",
      " 2   year_of_release  16446 non-null  int64  \n",
      " 3   genre            16444 non-null  object \n",
      " 4   na_sales         16446 non-null  float64\n",
      " 5   eu_sales         16446 non-null  float64\n",
      " 6   jp_sales         16446 non-null  float64\n",
      " 7   other_sales      16446 non-null  float64\n",
      " 8   critic_score     7983 non-null   float64\n",
      " 9   user_score       7463 non-null   float64\n",
      " 10  rating           9768 non-null   object \n",
      " 11  rating_name      16446 non-null  object \n",
      "dtypes: float64(6), int64(1), object(5)\n",
      "memory usage: 1.6+ MB\n"
     ]
    }
   ],
   "source": [
    "df.info()"
   ]
  },
  {
   "cell_type": "markdown",
   "metadata": {},
   "source": [
    "Crear una columna platform_group para mejorar nuestro análisis, ya que si lo hacemos individual será un poco difcil de comprender o encontrar patrones."
   ]
  },
  {
   "cell_type": "code",
   "execution_count": 30,
   "metadata": {
    "trusted": true
   },
   "outputs": [
    {
     "data": {
      "text/plain": [
       "platform\n",
       "PS2     2127\n",
       "DS      2121\n",
       "PS3     1306\n",
       "Wii     1286\n",
       "X360    1232\n",
       "PSP     1193\n",
       "PS      1190\n",
       "PC       957\n",
       "GBA      811\n",
       "XB       803\n",
       "GC       542\n",
       "3DS      512\n",
       "PSV      429\n",
       "PS4      392\n",
       "N64      316\n",
       "XOne     247\n",
       "SNES     239\n",
       "SAT      173\n",
       "WiiU     147\n",
       "2600     116\n",
       "NES       98\n",
       "GB        97\n",
       "DC        52\n",
       "GEN       29\n",
       "NG        12\n",
       "SCD        6\n",
       "WS         6\n",
       "3DO        3\n",
       "TG16       2\n",
       "GG         1\n",
       "PCFX       1\n",
       "Name: count, dtype: int64"
      ]
     },
     "execution_count": 30,
     "metadata": {},
     "output_type": "execute_result"
    }
   ],
   "source": [
    "# Revisar los valores único de la columna platform\n",
    "df['platform'].value_counts()"
   ]
  },
  {
   "cell_type": "markdown",
   "metadata": {},
   "source": [
    "# Notas\n",
    "**PlayStation=** (PS2, PS3, PSP, PS,PSV, PS4)\n",
    "\n",
    "**Nintendo=** (DS,Wii, WiiU, GBA, 3DS, N64,SNES, NES, GB, NG, SCD, WS)\n",
    "\n",
    "**Xbox=**(X360, XB, XOne)\n",
    "\n",
    "**sega =** (GG, GEN, SAT, DC)\n",
    "\n",
    "**PC=**(PC)\n",
    "\n",
    "**Otras=** (3DO, TG16, PCFX, 2600)"
   ]
  },
  {
   "cell_type": "code",
   "execution_count": 31,
   "metadata": {
    "trusted": true
   },
   "outputs": [],
   "source": [
    "#Definir la función\n",
    "def group_platform(x):\n",
    "    if x in ['PS2', 'PS3', 'PSP', 'PS', 'PSV', 'PS4']:\n",
    "        return 'PlayStation'\n",
    "    elif x in ['DS', 'Wii', 'WiiU', 'GBA', '3DS', 'N64', 'SNES', 'NES', 'GB', 'NG', 'SCD', 'WS']:\n",
    "        return 'Nintendo'\n",
    "    elif x in ['X360', 'XB', 'XOne']:\n",
    "        return 'Xbox'\n",
    "    elif x in ['GG', 'GEN', 'SAT', 'DC']:\n",
    "        return 'Sega'\n",
    "    else:\n",
    "        return 'Otras'"
   ]
  },
  {
   "cell_type": "code",
   "execution_count": 32,
   "metadata": {
    "trusted": true
   },
   "outputs": [],
   "source": [
    "#Crear la columna platform_group\n",
    "df['platform_group']=df['platform'].apply(group_platform)"
   ]
  },
  {
   "cell_type": "code",
   "execution_count": 33,
   "metadata": {
    "trusted": true
   },
   "outputs": [
    {
     "data": {
      "text/plain": [
       "platform_group\n",
       "PlayStation    6637\n",
       "Nintendo       5651\n",
       "Xbox           2282\n",
       "Otras          1621\n",
       "Sega            255\n",
       "Name: count, dtype: int64"
      ]
     },
     "execution_count": 33,
     "metadata": {},
     "output_type": "execute_result"
    }
   ],
   "source": [
    "df['platform_group'].value_counts()"
   ]
  },
  {
   "cell_type": "code",
   "execution_count": 34,
   "metadata": {
    "trusted": true
   },
   "outputs": [
    {
     "data": {
      "text/html": [
       "<div>\n",
       "<style scoped>\n",
       "    .dataframe tbody tr th:only-of-type {\n",
       "        vertical-align: middle;\n",
       "    }\n",
       "\n",
       "    .dataframe tbody tr th {\n",
       "        vertical-align: top;\n",
       "    }\n",
       "\n",
       "    .dataframe thead th {\n",
       "        text-align: right;\n",
       "    }\n",
       "</style>\n",
       "<table border=\"1\" class=\"dataframe\">\n",
       "  <thead>\n",
       "    <tr style=\"text-align: right;\">\n",
       "      <th></th>\n",
       "      <th>name</th>\n",
       "      <th>platform</th>\n",
       "      <th>year_of_release</th>\n",
       "      <th>genre</th>\n",
       "      <th>na_sales</th>\n",
       "      <th>eu_sales</th>\n",
       "      <th>jp_sales</th>\n",
       "      <th>other_sales</th>\n",
       "      <th>critic_score</th>\n",
       "      <th>user_score</th>\n",
       "      <th>rating</th>\n",
       "      <th>rating_name</th>\n",
       "      <th>platform_group</th>\n",
       "    </tr>\n",
       "  </thead>\n",
       "  <tbody>\n",
       "    <tr>\n",
       "      <th>1591</th>\n",
       "      <td>NEED FOR SPEED MOST WANTED</td>\n",
       "      <td>X360</td>\n",
       "      <td>2005</td>\n",
       "      <td>Racing</td>\n",
       "      <td>1.0</td>\n",
       "      <td>0.13</td>\n",
       "      <td>0.02</td>\n",
       "      <td>0.10</td>\n",
       "      <td>83.0</td>\n",
       "      <td>85.0</td>\n",
       "      <td>T</td>\n",
       "      <td>Teens</td>\n",
       "      <td>Xbox</td>\n",
       "    </tr>\n",
       "    <tr>\n",
       "      <th>11715</th>\n",
       "      <td>NEED FOR SPEED MOST WANTED</td>\n",
       "      <td>PC</td>\n",
       "      <td>2012</td>\n",
       "      <td>Racing</td>\n",
       "      <td>0.0</td>\n",
       "      <td>0.06</td>\n",
       "      <td>0.00</td>\n",
       "      <td>0.02</td>\n",
       "      <td>82.0</td>\n",
       "      <td>85.0</td>\n",
       "      <td>T</td>\n",
       "      <td>Teens</td>\n",
       "      <td>Otras</td>\n",
       "    </tr>\n",
       "    <tr>\n",
       "      <th>14244</th>\n",
       "      <td>NOT DEFINED</td>\n",
       "      <td>GEN</td>\n",
       "      <td>1993</td>\n",
       "      <td>NaN</td>\n",
       "      <td>0.0</td>\n",
       "      <td>0.00</td>\n",
       "      <td>0.03</td>\n",
       "      <td>0.00</td>\n",
       "      <td>NaN</td>\n",
       "      <td>NaN</td>\n",
       "      <td>NaN</td>\n",
       "      <td>Pending</td>\n",
       "      <td>Sega</td>\n",
       "    </tr>\n",
       "    <tr>\n",
       "      <th>16230</th>\n",
       "      <td>MADDEN NFL 13</td>\n",
       "      <td>PS3</td>\n",
       "      <td>2012</td>\n",
       "      <td>Sports</td>\n",
       "      <td>0.0</td>\n",
       "      <td>0.01</td>\n",
       "      <td>0.00</td>\n",
       "      <td>0.00</td>\n",
       "      <td>83.0</td>\n",
       "      <td>55.0</td>\n",
       "      <td>E</td>\n",
       "      <td>Everyone</td>\n",
       "      <td>PlayStation</td>\n",
       "    </tr>\n",
       "  </tbody>\n",
       "</table>\n",
       "</div>"
      ],
      "text/plain": [
       "                             name platform  year_of_release   genre  na_sales  \\\n",
       "1591   NEED FOR SPEED MOST WANTED     X360             2005  Racing       1.0   \n",
       "11715  NEED FOR SPEED MOST WANTED       PC             2012  Racing       0.0   \n",
       "14244                 NOT DEFINED      GEN             1993     NaN       0.0   \n",
       "16230               MADDEN NFL 13      PS3             2012  Sports       0.0   \n",
       "\n",
       "       eu_sales  jp_sales  other_sales  critic_score  user_score rating  \\\n",
       "1591       0.13      0.02         0.10          83.0        85.0      T   \n",
       "11715      0.06      0.00         0.02          82.0        85.0      T   \n",
       "14244      0.00      0.03         0.00           NaN         NaN    NaN   \n",
       "16230      0.01      0.00         0.00          83.0        55.0      E   \n",
       "\n",
       "      rating_name platform_group  \n",
       "1591        Teens           Xbox  \n",
       "11715       Teens          Otras  \n",
       "14244     Pending           Sega  \n",
       "16230    Everyone    PlayStation  "
      ]
     },
     "execution_count": 34,
     "metadata": {},
     "output_type": "execute_result"
    }
   ],
   "source": [
    "#8. Identificar duplicados\n",
    "df[df[['name','platform']].duplicated()]"
   ]
  },
  {
   "cell_type": "code",
   "execution_count": 35,
   "metadata": {
    "trusted": true
   },
   "outputs": [
    {
     "name": "stdout",
     "output_type": "stream",
     "text": [
      "<class 'pandas.core.frame.DataFrame'>\n",
      "Index: 16442 entries, 0 to 16714\n",
      "Data columns (total 13 columns):\n",
      " #   Column           Non-Null Count  Dtype  \n",
      "---  ------           --------------  -----  \n",
      " 0   name             16442 non-null  object \n",
      " 1   platform         16442 non-null  object \n",
      " 2   year_of_release  16442 non-null  int64  \n",
      " 3   genre            16441 non-null  object \n",
      " 4   na_sales         16442 non-null  float64\n",
      " 5   eu_sales         16442 non-null  float64\n",
      " 6   jp_sales         16442 non-null  float64\n",
      " 7   other_sales      16442 non-null  float64\n",
      " 8   critic_score     7980 non-null   float64\n",
      " 9   user_score       7460 non-null   float64\n",
      " 10  rating           9765 non-null   object \n",
      " 11  rating_name      16442 non-null  object \n",
      " 12  platform_group   16442 non-null  object \n",
      "dtypes: float64(6), int64(1), object(6)\n",
      "memory usage: 1.8+ MB\n"
     ]
    }
   ],
   "source": [
    "#Eliminar los duplicados de esta columna\n",
    "\n",
    "df = df.drop_duplicates(subset=['name', 'platform'])\n",
    "df.info()"
   ]
  },
  {
   "cell_type": "code",
   "execution_count": 36,
   "metadata": {
    "trusted": true
   },
   "outputs": [
    {
     "data": {
      "text/html": [
       "<div>\n",
       "<style scoped>\n",
       "    .dataframe tbody tr th:only-of-type {\n",
       "        vertical-align: middle;\n",
       "    }\n",
       "\n",
       "    .dataframe tbody tr th {\n",
       "        vertical-align: top;\n",
       "    }\n",
       "\n",
       "    .dataframe thead th {\n",
       "        text-align: right;\n",
       "    }\n",
       "</style>\n",
       "<table border=\"1\" class=\"dataframe\">\n",
       "  <thead>\n",
       "    <tr style=\"text-align: right;\">\n",
       "      <th></th>\n",
       "      <th>name</th>\n",
       "      <th>platform</th>\n",
       "      <th>year_of_release</th>\n",
       "      <th>genre</th>\n",
       "      <th>na_sales</th>\n",
       "      <th>eu_sales</th>\n",
       "      <th>jp_sales</th>\n",
       "      <th>other_sales</th>\n",
       "      <th>critic_score</th>\n",
       "      <th>user_score</th>\n",
       "      <th>rating</th>\n",
       "      <th>rating_name</th>\n",
       "      <th>platform_group</th>\n",
       "    </tr>\n",
       "  </thead>\n",
       "  <tbody>\n",
       "    <tr>\n",
       "      <th>659</th>\n",
       "      <td>NOT DEFINED</td>\n",
       "      <td>GEN</td>\n",
       "      <td>1993</td>\n",
       "      <td>NaN</td>\n",
       "      <td>1.78</td>\n",
       "      <td>0.53</td>\n",
       "      <td>0.0</td>\n",
       "      <td>0.08</td>\n",
       "      <td>NaN</td>\n",
       "      <td>NaN</td>\n",
       "      <td>NaN</td>\n",
       "      <td>Pending</td>\n",
       "      <td>Sega</td>\n",
       "    </tr>\n",
       "  </tbody>\n",
       "</table>\n",
       "</div>"
      ],
      "text/plain": [
       "            name platform  year_of_release genre  na_sales  eu_sales  \\\n",
       "659  NOT DEFINED      GEN             1993   NaN      1.78      0.53   \n",
       "\n",
       "     jp_sales  other_sales  critic_score  user_score rating rating_name  \\\n",
       "659       0.0         0.08           NaN         NaN    NaN     Pending   \n",
       "\n",
       "    platform_group  \n",
       "659           Sega  "
      ]
     },
     "execution_count": 36,
     "metadata": {},
     "output_type": "execute_result"
    }
   ],
   "source": [
    "#Verificar los valores perdidos\n",
    "df[df['genre'].isna()]"
   ]
  },
  {
   "cell_type": "code",
   "execution_count": 37,
   "metadata": {
    "trusted": true
   },
   "outputs": [],
   "source": [
    "#Imputar valores perdidos\n",
    "df['genre']=df['genre'].fillna('Not Defined')"
   ]
  },
  {
   "cell_type": "code",
   "execution_count": 38,
   "metadata": {
    "trusted": true
   },
   "outputs": [
    {
     "data": {
      "text/html": [
       "<div>\n",
       "<style scoped>\n",
       "    .dataframe tbody tr th:only-of-type {\n",
       "        vertical-align: middle;\n",
       "    }\n",
       "\n",
       "    .dataframe tbody tr th {\n",
       "        vertical-align: top;\n",
       "    }\n",
       "\n",
       "    .dataframe thead th {\n",
       "        text-align: right;\n",
       "    }\n",
       "</style>\n",
       "<table border=\"1\" class=\"dataframe\">\n",
       "  <thead>\n",
       "    <tr style=\"text-align: right;\">\n",
       "      <th></th>\n",
       "      <th>name</th>\n",
       "      <th>platform</th>\n",
       "      <th>year_of_release</th>\n",
       "      <th>genre</th>\n",
       "      <th>na_sales</th>\n",
       "      <th>eu_sales</th>\n",
       "      <th>jp_sales</th>\n",
       "      <th>other_sales</th>\n",
       "      <th>critic_score</th>\n",
       "      <th>user_score</th>\n",
       "      <th>rating</th>\n",
       "      <th>rating_name</th>\n",
       "      <th>platform_group</th>\n",
       "      <th>total_sales</th>\n",
       "    </tr>\n",
       "  </thead>\n",
       "  <tbody>\n",
       "    <tr>\n",
       "      <th>8287</th>\n",
       "      <td>RESIDENT EVIL DIRECTOR'S CUT DUAL SHOCK EDITION</td>\n",
       "      <td>PS</td>\n",
       "      <td>1997</td>\n",
       "      <td>Action</td>\n",
       "      <td>0.00</td>\n",
       "      <td>0.00</td>\n",
       "      <td>0.16</td>\n",
       "      <td>0.01</td>\n",
       "      <td>NaN</td>\n",
       "      <td>NaN</td>\n",
       "      <td>NaN</td>\n",
       "      <td>Pending</td>\n",
       "      <td>PlayStation</td>\n",
       "      <td>0.17</td>\n",
       "    </tr>\n",
       "    <tr>\n",
       "      <th>12265</th>\n",
       "      <td>JUST DANCE DISNEY PARTY 2</td>\n",
       "      <td>X360</td>\n",
       "      <td>2015</td>\n",
       "      <td>Action</td>\n",
       "      <td>0.05</td>\n",
       "      <td>0.01</td>\n",
       "      <td>0.00</td>\n",
       "      <td>0.01</td>\n",
       "      <td>NaN</td>\n",
       "      <td>NaN</td>\n",
       "      <td>E</td>\n",
       "      <td>Everyone</td>\n",
       "      <td>Xbox</td>\n",
       "      <td>0.07</td>\n",
       "    </tr>\n",
       "    <tr>\n",
       "      <th>6118</th>\n",
       "      <td>LEGO THE LORD OF THE RINGS</td>\n",
       "      <td>PSV</td>\n",
       "      <td>2012</td>\n",
       "      <td>Action</td>\n",
       "      <td>0.09</td>\n",
       "      <td>0.13</td>\n",
       "      <td>0.00</td>\n",
       "      <td>0.06</td>\n",
       "      <td>54.0</td>\n",
       "      <td>56.0</td>\n",
       "      <td>E10+</td>\n",
       "      <td>Everyone 10y+</td>\n",
       "      <td>PlayStation</td>\n",
       "      <td>0.28</td>\n",
       "    </tr>\n",
       "    <tr>\n",
       "      <th>4404</th>\n",
       "      <td>TONY HAWK'S PROVING GROUND</td>\n",
       "      <td>PS3</td>\n",
       "      <td>2007</td>\n",
       "      <td>Sports</td>\n",
       "      <td>0.36</td>\n",
       "      <td>0.04</td>\n",
       "      <td>0.00</td>\n",
       "      <td>0.04</td>\n",
       "      <td>73.0</td>\n",
       "      <td>66.0</td>\n",
       "      <td>T</td>\n",
       "      <td>Teens</td>\n",
       "      <td>PlayStation</td>\n",
       "      <td>0.44</td>\n",
       "    </tr>\n",
       "    <tr>\n",
       "      <th>3316</th>\n",
       "      <td>MADDEN NFL 2000</td>\n",
       "      <td>N64</td>\n",
       "      <td>1999</td>\n",
       "      <td>Sports</td>\n",
       "      <td>0.58</td>\n",
       "      <td>0.02</td>\n",
       "      <td>0.00</td>\n",
       "      <td>0.00</td>\n",
       "      <td>NaN</td>\n",
       "      <td>NaN</td>\n",
       "      <td>NaN</td>\n",
       "      <td>Pending</td>\n",
       "      <td>Nintendo</td>\n",
       "      <td>0.60</td>\n",
       "    </tr>\n",
       "    <tr>\n",
       "      <th>10673</th>\n",
       "      <td>OVER THE HEDGE</td>\n",
       "      <td>XB</td>\n",
       "      <td>2006</td>\n",
       "      <td>Platform</td>\n",
       "      <td>0.07</td>\n",
       "      <td>0.02</td>\n",
       "      <td>0.00</td>\n",
       "      <td>0.00</td>\n",
       "      <td>61.0</td>\n",
       "      <td>NaN</td>\n",
       "      <td>E10+</td>\n",
       "      <td>Everyone 10y+</td>\n",
       "      <td>Xbox</td>\n",
       "      <td>0.09</td>\n",
       "    </tr>\n",
       "    <tr>\n",
       "      <th>1674</th>\n",
       "      <td>FIFA SOCCER 07</td>\n",
       "      <td>PSP</td>\n",
       "      <td>2006</td>\n",
       "      <td>Sports</td>\n",
       "      <td>0.25</td>\n",
       "      <td>0.64</td>\n",
       "      <td>0.00</td>\n",
       "      <td>0.31</td>\n",
       "      <td>NaN</td>\n",
       "      <td>NaN</td>\n",
       "      <td>NaN</td>\n",
       "      <td>Pending</td>\n",
       "      <td>PlayStation</td>\n",
       "      <td>1.20</td>\n",
       "    </tr>\n",
       "    <tr>\n",
       "      <th>2044</th>\n",
       "      <td>ACE COMBAT 6 FIRES OF LIBERATION</td>\n",
       "      <td>X360</td>\n",
       "      <td>2007</td>\n",
       "      <td>Simulation</td>\n",
       "      <td>0.69</td>\n",
       "      <td>0.04</td>\n",
       "      <td>0.22</td>\n",
       "      <td>0.06</td>\n",
       "      <td>80.0</td>\n",
       "      <td>79.0</td>\n",
       "      <td>T</td>\n",
       "      <td>Teens</td>\n",
       "      <td>Xbox</td>\n",
       "      <td>1.01</td>\n",
       "    </tr>\n",
       "    <tr>\n",
       "      <th>9207</th>\n",
       "      <td>TRANSFORMERS DEVASTATION</td>\n",
       "      <td>XOne</td>\n",
       "      <td>2015</td>\n",
       "      <td>Action</td>\n",
       "      <td>0.09</td>\n",
       "      <td>0.04</td>\n",
       "      <td>0.00</td>\n",
       "      <td>0.01</td>\n",
       "      <td>75.0</td>\n",
       "      <td>79.0</td>\n",
       "      <td>T</td>\n",
       "      <td>Teens</td>\n",
       "      <td>Xbox</td>\n",
       "      <td>0.14</td>\n",
       "    </tr>\n",
       "    <tr>\n",
       "      <th>8149</th>\n",
       "      <td>CHUCK E CHEESE'S PARTY GAMES</td>\n",
       "      <td>DS</td>\n",
       "      <td>2010</td>\n",
       "      <td>Misc</td>\n",
       "      <td>0.17</td>\n",
       "      <td>0.00</td>\n",
       "      <td>0.00</td>\n",
       "      <td>0.01</td>\n",
       "      <td>NaN</td>\n",
       "      <td>NaN</td>\n",
       "      <td>E</td>\n",
       "      <td>Everyone</td>\n",
       "      <td>Nintendo</td>\n",
       "      <td>0.18</td>\n",
       "    </tr>\n",
       "  </tbody>\n",
       "</table>\n",
       "</div>"
      ],
      "text/plain": [
       "                                                  name platform  \\\n",
       "8287   RESIDENT EVIL DIRECTOR'S CUT DUAL SHOCK EDITION       PS   \n",
       "12265                        JUST DANCE DISNEY PARTY 2     X360   \n",
       "6118                        LEGO THE LORD OF THE RINGS      PSV   \n",
       "4404                        TONY HAWK'S PROVING GROUND      PS3   \n",
       "3316                                   MADDEN NFL 2000      N64   \n",
       "10673                                   OVER THE HEDGE       XB   \n",
       "1674                                    FIFA SOCCER 07      PSP   \n",
       "2044                  ACE COMBAT 6 FIRES OF LIBERATION     X360   \n",
       "9207                          TRANSFORMERS DEVASTATION     XOne   \n",
       "8149                      CHUCK E CHEESE'S PARTY GAMES       DS   \n",
       "\n",
       "       year_of_release       genre  na_sales  eu_sales  jp_sales  other_sales  \\\n",
       "8287              1997      Action      0.00      0.00      0.16         0.01   \n",
       "12265             2015      Action      0.05      0.01      0.00         0.01   \n",
       "6118              2012      Action      0.09      0.13      0.00         0.06   \n",
       "4404              2007      Sports      0.36      0.04      0.00         0.04   \n",
       "3316              1999      Sports      0.58      0.02      0.00         0.00   \n",
       "10673             2006    Platform      0.07      0.02      0.00         0.00   \n",
       "1674              2006      Sports      0.25      0.64      0.00         0.31   \n",
       "2044              2007  Simulation      0.69      0.04      0.22         0.06   \n",
       "9207              2015      Action      0.09      0.04      0.00         0.01   \n",
       "8149              2010        Misc      0.17      0.00      0.00         0.01   \n",
       "\n",
       "       critic_score  user_score rating    rating_name platform_group  \\\n",
       "8287            NaN         NaN    NaN        Pending    PlayStation   \n",
       "12265           NaN         NaN      E       Everyone           Xbox   \n",
       "6118           54.0        56.0   E10+  Everyone 10y+    PlayStation   \n",
       "4404           73.0        66.0      T          Teens    PlayStation   \n",
       "3316            NaN         NaN    NaN        Pending       Nintendo   \n",
       "10673          61.0         NaN   E10+  Everyone 10y+           Xbox   \n",
       "1674            NaN         NaN    NaN        Pending    PlayStation   \n",
       "2044           80.0        79.0      T          Teens           Xbox   \n",
       "9207           75.0        79.0      T          Teens           Xbox   \n",
       "8149            NaN         NaN      E       Everyone       Nintendo   \n",
       "\n",
       "       total_sales  \n",
       "8287          0.17  \n",
       "12265         0.07  \n",
       "6118          0.28  \n",
       "4404          0.44  \n",
       "3316          0.60  \n",
       "10673         0.09  \n",
       "1674          1.20  \n",
       "2044          1.01  \n",
       "9207          0.14  \n",
       "8149          0.18  "
      ]
     },
     "execution_count": 38,
     "metadata": {},
     "output_type": "execute_result"
    }
   ],
   "source": [
    "#9. Calcular las ventas totales\n",
    "df['total_sales']=df[['na_sales','eu_sales','jp_sales','other_sales']].sum(axis=1)\n",
    "df.sample(10)"
   ]
  },
  {
   "cell_type": "code",
   "execution_count": 39,
   "metadata": {
    "trusted": true
   },
   "outputs": [
    {
     "name": "stdout",
     "output_type": "stream",
     "text": [
      "<class 'pandas.core.frame.DataFrame'>\n",
      "Index: 16442 entries, 0 to 16714\n",
      "Data columns (total 14 columns):\n",
      " #   Column           Non-Null Count  Dtype  \n",
      "---  ------           --------------  -----  \n",
      " 0   name             16442 non-null  object \n",
      " 1   platform         16442 non-null  object \n",
      " 2   year_of_release  16442 non-null  int64  \n",
      " 3   genre            16442 non-null  object \n",
      " 4   na_sales         16442 non-null  float64\n",
      " 5   eu_sales         16442 non-null  float64\n",
      " 6   jp_sales         16442 non-null  float64\n",
      " 7   other_sales      16442 non-null  float64\n",
      " 8   critic_score     7980 non-null   float64\n",
      " 9   user_score       7460 non-null   float64\n",
      " 10  rating           9765 non-null   object \n",
      " 11  rating_name      16442 non-null  object \n",
      " 12  platform_group   16442 non-null  object \n",
      " 13  total_sales      16442 non-null  float64\n",
      "dtypes: float64(7), int64(1), object(6)\n",
      "memory usage: 1.9+ MB\n"
     ]
    }
   ],
   "source": [
    "df.info()"
   ]
  },
  {
   "cell_type": "markdown",
   "metadata": {},
   "source": [
    "Se determinar trabajar con los valores perdidos de las columnas critic_score y user_score, ya que si se elimina se perdería una cantidad importante de datos"
   ]
  },
  {
   "cell_type": "markdown",
   "metadata": {},
   "source": [
    "# Paso 3. Análisis de los datos"
   ]
  },
  {
   "cell_type": "code",
   "execution_count": 40,
   "metadata": {
    "trusted": true
   },
   "outputs": [
    {
     "name": "stdout",
     "output_type": "stream",
     "text": [
      "7.612903225806452\n"
     ]
    }
   ],
   "source": [
    "# Obtener la primera y última aparición de cada plataforma\n",
    "platform_first_last = df.groupby('platform')['year_of_release'].agg(['min', 'max'])\n",
    "\n",
    "# Calcular la duración entre la primera y última aparición para cada plataforma\n",
    "platform_first_last['duration'] = platform_first_last['max'] - platform_first_last['min']\n",
    "\n",
    "# Promediar las duraciones para todas las plataformas\n",
    "average_duration = platform_first_last['duration'].mean()\n",
    "print(average_duration)"
   ]
  },
  {
   "cell_type": "markdown",
   "metadata": {},
   "source": [
    "En promedio, una plataforma dura 7 años para desaparecer del mercado, se puede decir que este mercado es estable, pero para que una nueva empresa ingrese a este mercado es complicado, ya que se podría decir que es oligopolio, con una barrera fuerte de entrada."
   ]
  },
  {
   "cell_type": "code",
   "execution_count": 41,
   "metadata": {
    "trusted": true
   },
   "outputs": [
    {
     "name": "stdout",
     "output_type": "stream",
     "text": [
      "year_of_release\n",
      "1980       9\n",
      "1981      46\n",
      "1982      36\n",
      "1983      17\n",
      "1984      14\n",
      "1985      14\n",
      "1986      21\n",
      "1987      16\n",
      "1988      15\n",
      "1989      17\n",
      "1990      16\n",
      "1991      41\n",
      "1992      43\n",
      "1993      61\n",
      "1994     121\n",
      "1995     219\n",
      "1996     263\n",
      "1997     289\n",
      "1998     379\n",
      "1999     338\n",
      "2000     350\n",
      "2001     482\n",
      "2002     829\n",
      "2003     775\n",
      "2004     762\n",
      "2005     938\n",
      "2006    1006\n",
      "2007    1197\n",
      "2008    1427\n",
      "2009    1426\n",
      "2010    1255\n",
      "2011    1136\n",
      "2012     651\n",
      "2013     544\n",
      "2014     581\n",
      "2015     606\n",
      "2016     502\n",
      "Name: count, dtype: int64\n"
     ]
    }
   ],
   "source": [
    "#¿ Cuántos juegos fueron lanzados en diferentes años. ¿Son significativos los datos de cada período?\n",
    "games_per_year = df['year_of_release'].value_counts().sort_index()\n",
    "print(games_per_year)"
   ]
  },
  {
   "cell_type": "code",
   "execution_count": 42,
   "metadata": {
    "trusted": true
   },
   "outputs": [
    {
     "data": {
      "image/png": "[encoded data removed]",
      "text/plain": [
       "<Figure size 640x480 with 1 Axes>"
      ]
     },
     "metadata": {},
     "output_type": "display_data"
    }
   ],
   "source": [
    "#Visualizar en un gráfico de líneas el resultado anterior\n",
    "games_per_year.plot(\n",
    "kind='line',\n",
    "title='Games released by year',\n",
    "xlabel='year_of_release',\n",
    "ylabel='number_of_games',\n",
    "color='red',\n",
    "legend=None,\n",
    "rot = 90\n",
    ")\n",
    "plt.show()"
   ]
  },
  {
   "cell_type": "markdown",
   "metadata": {},
   "source": [
    "**Comentarios del gráfico anterior**\n",
    "- A partir del año 2000 se puede evidenciar el gran crecimiento que experimento el sector de los videojuegos, esto se debe que a partir del año 2000 se introdujeron nuevos juegos  de alta definición, y la entrada de Microsoft a esta industria dominada por Nintendo y Sony. \n",
    "\n",
    "- Se puede evidenciar que la Gran Recesión financiera del 2008 afectó este mercado por eso a partir de esa fecha se ve una caída sustancial en ese mercado, el cual, hasta el 2016 no ha experimentado un crecimiento como en los periodos anteriores."
   ]
  },
  {
   "cell_type": "markdown",
   "metadata": {},
   "source": [
    "Para crear un modelo de datos para el 2017, tomaré los datos desde 1995, ya que a partir de esa fecha el mercado de los videojuegos a experimentado un crecimiento"
   ]
  },
  {
   "cell_type": "code",
   "execution_count": 43,
   "metadata": {
    "trusted": true
   },
   "outputs": [],
   "source": [
    "#Eliminar años de poca venta\n",
    "df.query('year_of_release >= 1995', inplace=True)"
   ]
  },
  {
   "cell_type": "code",
   "execution_count": 44,
   "metadata": {
    "trusted": true
   },
   "outputs": [
    {
     "data": {
      "text/plain": [
       "<function matplotlib.pyplot.show(close=None, block=None)>"
      ]
     },
     "execution_count": 44,
     "metadata": {},
     "output_type": "execute_result"
    },
    {
     "data": {
      "image/png": "[encoded data removed]",
      "text/plain": [
       "<Figure size 640x480 with 1 Axes>"
      ]
     },
     "metadata": {},
     "output_type": "display_data"
    }
   ],
   "source": [
    "#Crear un diagrama de caja para las ventas globales de todos los juegos, desglosados por plataforma.\n",
    "\n",
    "sales_per_platform=df.pivot_table(\n",
    "index='year_of_release',\n",
    "columns='platform_group',\n",
    "values='total_sales',\n",
    "aggfunc='sum')\n",
    "#Crear un gráfico de caja\n",
    "sales_per_platform.plot(\n",
    "kind='box',\n",
    "xlabel='Platform Group',\n",
    "ylabel='Sales(M USD)',\n",
    "title='Sales per platform')\n",
    "plt.show"
   ]
  },
  {
   "cell_type": "markdown",
   "metadata": {},
   "source": [
    "Gráficamente se visualiza que la media de las plataformas difieren significativamente, se tiene que realizar una prueba estadisticas para confirmar."
   ]
  },
  {
   "cell_type": "code",
   "execution_count": 45,
   "metadata": {
    "trusted": true
   },
   "outputs": [],
   "source": [
    "#¿Son significativas las diferencias en las ventas entre Nintendo y Playstation?\n",
    "lista=['Nintendo','PlayStation']\n",
    "df.query('platform_group in @lista',inplace=True)"
   ]
  },
  {
   "cell_type": "code",
   "execution_count": 46,
   "metadata": {
    "trusted": true
   },
   "outputs": [
    {
     "name": "stdout",
     "output_type": "stream",
     "text": [
      "year_of_release\n",
      "1995     36.13\n",
      "1996     86.15\n",
      "1997     46.86\n",
      "1998     76.36\n",
      "1999     96.59\n",
      "2000     54.48\n",
      "2001     74.30\n",
      "2002     74.24\n",
      "2003     56.67\n",
      "2004     95.18\n",
      "2005    164.00\n",
      "2006    262.24\n",
      "2007    303.11\n",
      "2008    316.63\n",
      "2009    326.51\n",
      "2010    212.97\n",
      "2011    149.03\n",
      "2012    101.64\n",
      "2013     88.35\n",
      "2014     69.54\n",
      "2015     45.27\n",
      "2016     19.92\n",
      "Name: Nintendo, dtype: float64\n",
      "year_of_release\n",
      "1995     35.96\n",
      "1996     94.70\n",
      "1997    136.17\n",
      "1998    169.49\n",
      "1999    144.53\n",
      "2000    135.54\n",
      "2001    202.02\n",
      "2002    212.05\n",
      "2003    186.38\n",
      "2004    218.87\n",
      "2005    204.50\n",
      "2006    179.70\n",
      "2007    196.11\n",
      "2008    206.97\n",
      "2009    195.11\n",
      "2010    182.85\n",
      "2011    179.68\n",
      "2012    131.23\n",
      "2013    152.97\n",
      "2014    159.90\n",
      "2015    142.09\n",
      "2016     77.10\n",
      "Name: PlayStation, dtype: float64\n"
     ]
    }
   ],
   "source": [
    "#Extraer las muestras para el análisis\n",
    "muestra_NS=sales_per_platform['Nintendo']\n",
    "muestra_PS=sales_per_platform['PlayStation']\n",
    "print(muestra_NS)\n",
    "print(muestra_PS)"
   ]
  },
  {
   "cell_type": "markdown",
   "metadata": {},
   "source": [
    "**Prueba de hipótesis**\n",
    "\n",
    "Ho:Las ventas promedio de Nintendo son iguales a las ventas promedios de PlayStation\n",
    "\n",
    "Ha:Las ventas promedio de Nintendo son diferentes a las ventas promedios de PlayStation"
   ]
  },
  {
   "cell_type": "code",
   "execution_count": 47,
   "metadata": {
    "trusted": true
   },
   "outputs": [
    {
     "name": "stdout",
     "output_type": "stream",
     "text": [
      "Desv. de Nintendo:94.01391509564725\n",
      "Desv. de PlayStation:45.65031197561605\n"
     ]
    }
   ],
   "source": [
    "#Calcular las desviaciones de las muestras\n",
    "print (f\"Desv. de Nintendo:{np.std(muestra_NS)}\")\n",
    "print (f\"Desv. de PlayStation:{np.std(muestra_PS)}\")"
   ]
  },
  {
   "cell_type": "markdown",
   "metadata": {},
   "source": [
    "**Revisar si las varianzas son iguales**\n",
    "\n",
    "Ho:Las varianzas son iguales\n",
    "\n",
    "Ha: Las varianzas son diferentes"
   ]
  },
  {
   "cell_type": "code",
   "execution_count": 48,
   "metadata": {
    "trusted": true
   },
   "outputs": [
    {
     "name": "stdout",
     "output_type": "stream",
     "text": [
      "No rechazo la Ho: las varianzas son iguales.\n"
     ]
    }
   ],
   "source": [
    "#Prueba de Levene\n",
    "alfa = 0.05\n",
    "pval = st.levene(muestra_NS, muestra_PS).pvalue\n",
    "\n",
    "if pval > alfa:\n",
    "    print(\"No rechazo la Ho: las varianzas son iguales.\")\n",
    "else:\n",
    "    print(\"Rechazo la Ho: las varianzas no son iguales.\")"
   ]
  },
  {
   "cell_type": "code",
   "execution_count": 49,
   "metadata": {
    "trusted": true
   },
   "outputs": [
    {
     "name": "stdout",
     "output_type": "stream",
     "text": [
      "No rechazo la Ho: las medias son iguales.\n"
     ]
    }
   ],
   "source": [
    "#Prueba T\n",
    "alfa=0.05\n",
    "st.ttest_ind(muestra_NS, muestra_PS,equal_var=True).pvalue\n",
    "if pval > alfa:\n",
    "    print(\"No rechazo la Ho: las medias son iguales.\")\n",
    "else:\n",
    "    print(\"Rechazo la Ho: las medias no son iguales.\")"
   ]
  },
  {
   "cell_type": "markdown",
   "metadata": {},
   "source": [
    "En promedio, la media de las ventas totales de Nintendo y PlayStation son iguales"
   ]
  },
  {
   "cell_type": "markdown",
   "metadata": {},
   "source": [
    "**Revisar las reseñas de usuarios y profesionales afectan las ventas de PlayStation**"
   ]
  },
  {
   "cell_type": "code",
   "execution_count": 50,
   "metadata": {
    "trusted": true
   },
   "outputs": [
    {
     "name": "stdout",
     "output_type": "stream",
     "text": [
      "['Nintendo' 'PlayStation']\n"
     ]
    }
   ],
   "source": [
    "print(df['platform_group'].unique())"
   ]
  },
  {
   "cell_type": "code",
   "execution_count": 51,
   "metadata": {
    "trusted": true
   },
   "outputs": [
    {
     "data": {
      "text/html": [
       "<div>\n",
       "<style scoped>\n",
       "    .dataframe tbody tr th:only-of-type {\n",
       "        vertical-align: middle;\n",
       "    }\n",
       "\n",
       "    .dataframe tbody tr th {\n",
       "        vertical-align: top;\n",
       "    }\n",
       "\n",
       "    .dataframe thead th {\n",
       "        text-align: right;\n",
       "    }\n",
       "</style>\n",
       "<table border=\"1\" class=\"dataframe\">\n",
       "  <thead>\n",
       "    <tr style=\"text-align: right;\">\n",
       "      <th></th>\n",
       "      <th>name</th>\n",
       "      <th>platform</th>\n",
       "      <th>year_of_release</th>\n",
       "      <th>genre</th>\n",
       "      <th>na_sales</th>\n",
       "      <th>eu_sales</th>\n",
       "      <th>jp_sales</th>\n",
       "      <th>other_sales</th>\n",
       "      <th>critic_score</th>\n",
       "      <th>user_score</th>\n",
       "      <th>rating</th>\n",
       "      <th>rating_name</th>\n",
       "      <th>platform_group</th>\n",
       "      <th>total_sales</th>\n",
       "    </tr>\n",
       "  </thead>\n",
       "  <tbody>\n",
       "    <tr>\n",
       "      <th>14490</th>\n",
       "      <td>THE VOICE</td>\n",
       "      <td>PS3</td>\n",
       "      <td>2014</td>\n",
       "      <td>Action</td>\n",
       "      <td>0.02</td>\n",
       "      <td>0.00</td>\n",
       "      <td>0.00</td>\n",
       "      <td>0.01</td>\n",
       "      <td>NaN</td>\n",
       "      <td>NaN</td>\n",
       "      <td>NaN</td>\n",
       "      <td>Pending</td>\n",
       "      <td>PlayStation</td>\n",
       "      <td>0.03</td>\n",
       "    </tr>\n",
       "    <tr>\n",
       "      <th>11255</th>\n",
       "      <td>SD GUNDAM G GENERATION GENESIS</td>\n",
       "      <td>PSV</td>\n",
       "      <td>2016</td>\n",
       "      <td>Strategy</td>\n",
       "      <td>0.00</td>\n",
       "      <td>0.00</td>\n",
       "      <td>0.09</td>\n",
       "      <td>0.00</td>\n",
       "      <td>NaN</td>\n",
       "      <td>NaN</td>\n",
       "      <td>NaN</td>\n",
       "      <td>Pending</td>\n",
       "      <td>PlayStation</td>\n",
       "      <td>0.09</td>\n",
       "    </tr>\n",
       "    <tr>\n",
       "      <th>12728</th>\n",
       "      <td>MX VS ATV SUPERCROSS ENCORE</td>\n",
       "      <td>PS4</td>\n",
       "      <td>2015</td>\n",
       "      <td>Sports</td>\n",
       "      <td>0.00</td>\n",
       "      <td>0.05</td>\n",
       "      <td>0.00</td>\n",
       "      <td>0.01</td>\n",
       "      <td>42.0</td>\n",
       "      <td>41.0</td>\n",
       "      <td>E</td>\n",
       "      <td>Everyone</td>\n",
       "      <td>PlayStation</td>\n",
       "      <td>0.06</td>\n",
       "    </tr>\n",
       "    <tr>\n",
       "      <th>15646</th>\n",
       "      <td>NIL ADMIRARI NO TENBIN TEITO GENWAKU TOUKIDAN</td>\n",
       "      <td>PSV</td>\n",
       "      <td>2016</td>\n",
       "      <td>Adventure</td>\n",
       "      <td>0.00</td>\n",
       "      <td>0.00</td>\n",
       "      <td>0.02</td>\n",
       "      <td>0.00</td>\n",
       "      <td>NaN</td>\n",
       "      <td>NaN</td>\n",
       "      <td>NaN</td>\n",
       "      <td>Pending</td>\n",
       "      <td>PlayStation</td>\n",
       "      <td>0.02</td>\n",
       "    </tr>\n",
       "    <tr>\n",
       "      <th>12352</th>\n",
       "      <td>UTAWARERUMONO FUTARI NO HAKUORO</td>\n",
       "      <td>PSV</td>\n",
       "      <td>2016</td>\n",
       "      <td>Misc</td>\n",
       "      <td>0.00</td>\n",
       "      <td>0.00</td>\n",
       "      <td>0.06</td>\n",
       "      <td>0.00</td>\n",
       "      <td>NaN</td>\n",
       "      <td>NaN</td>\n",
       "      <td>NaN</td>\n",
       "      <td>Pending</td>\n",
       "      <td>PlayStation</td>\n",
       "      <td>0.06</td>\n",
       "    </tr>\n",
       "  </tbody>\n",
       "</table>\n",
       "</div>"
      ],
      "text/plain": [
       "                                                name platform  \\\n",
       "14490                                      THE VOICE      PS3   \n",
       "11255                 SD GUNDAM G GENERATION GENESIS      PSV   \n",
       "12728                    MX VS ATV SUPERCROSS ENCORE      PS4   \n",
       "15646  NIL ADMIRARI NO TENBIN TEITO GENWAKU TOUKIDAN      PSV   \n",
       "12352                UTAWARERUMONO FUTARI NO HAKUORO      PSV   \n",
       "\n",
       "       year_of_release      genre  na_sales  eu_sales  jp_sales  other_sales  \\\n",
       "14490             2014     Action      0.02      0.00      0.00         0.01   \n",
       "11255             2016   Strategy      0.00      0.00      0.09         0.00   \n",
       "12728             2015     Sports      0.00      0.05      0.00         0.01   \n",
       "15646             2016  Adventure      0.00      0.00      0.02         0.00   \n",
       "12352             2016       Misc      0.00      0.00      0.06         0.00   \n",
       "\n",
       "       critic_score  user_score rating rating_name platform_group  total_sales  \n",
       "14490           NaN         NaN    NaN     Pending    PlayStation         0.03  \n",
       "11255           NaN         NaN    NaN     Pending    PlayStation         0.09  \n",
       "12728          42.0        41.0      E    Everyone    PlayStation         0.06  \n",
       "15646           NaN         NaN    NaN     Pending    PlayStation         0.02  \n",
       "12352           NaN         NaN    NaN     Pending    PlayStation         0.06  "
      ]
     },
     "execution_count": 51,
     "metadata": {},
     "output_type": "execute_result"
    }
   ],
   "source": [
    "df.query(\"year_of_release > 2013\", inplace=True)\n",
    "df_PS=df[df['platform_group']=='PlayStation']\n",
    "df_PS.sample(5)"
   ]
  },
  {
   "cell_type": "code",
   "execution_count": 52,
   "metadata": {
    "trusted": true
   },
   "outputs": [
    {
     "data": {
      "text/html": [
       "<div>\n",
       "<style scoped>\n",
       "    .dataframe tbody tr th:only-of-type {\n",
       "        vertical-align: middle;\n",
       "    }\n",
       "\n",
       "    .dataframe tbody tr th {\n",
       "        vertical-align: top;\n",
       "    }\n",
       "\n",
       "    .dataframe thead th {\n",
       "        text-align: right;\n",
       "    }\n",
       "</style>\n",
       "<table border=\"1\" class=\"dataframe\">\n",
       "  <thead>\n",
       "    <tr style=\"text-align: right;\">\n",
       "      <th></th>\n",
       "      <th>total_sales</th>\n",
       "      <th>critic_score</th>\n",
       "      <th>user_score</th>\n",
       "    </tr>\n",
       "  </thead>\n",
       "  <tbody>\n",
       "    <tr>\n",
       "      <th>count</th>\n",
       "      <td>903.000000</td>\n",
       "      <td>327.000000</td>\n",
       "      <td>413.000000</td>\n",
       "    </tr>\n",
       "    <tr>\n",
       "      <th>mean</th>\n",
       "      <td>0.419812</td>\n",
       "      <td>71.562691</td>\n",
       "      <td>67.813559</td>\n",
       "    </tr>\n",
       "    <tr>\n",
       "      <th>std</th>\n",
       "      <td>1.132043</td>\n",
       "      <td>11.865616</td>\n",
       "      <td>15.630491</td>\n",
       "    </tr>\n",
       "    <tr>\n",
       "      <th>min</th>\n",
       "      <td>0.010000</td>\n",
       "      <td>19.000000</td>\n",
       "      <td>2.000000</td>\n",
       "    </tr>\n",
       "    <tr>\n",
       "      <th>25%</th>\n",
       "      <td>0.030000</td>\n",
       "      <td>66.000000</td>\n",
       "      <td>61.000000</td>\n",
       "    </tr>\n",
       "    <tr>\n",
       "      <th>50%</th>\n",
       "      <td>0.080000</td>\n",
       "      <td>73.000000</td>\n",
       "      <td>72.000000</td>\n",
       "    </tr>\n",
       "    <tr>\n",
       "      <th>75%</th>\n",
       "      <td>0.290000</td>\n",
       "      <td>80.000000</td>\n",
       "      <td>79.000000</td>\n",
       "    </tr>\n",
       "    <tr>\n",
       "      <th>max</th>\n",
       "      <td>14.630000</td>\n",
       "      <td>97.000000</td>\n",
       "      <td>93.000000</td>\n",
       "    </tr>\n",
       "  </tbody>\n",
       "</table>\n",
       "</div>"
      ],
      "text/plain": [
       "       total_sales  critic_score  user_score\n",
       "count   903.000000    327.000000  413.000000\n",
       "mean      0.419812     71.562691   67.813559\n",
       "std       1.132043     11.865616   15.630491\n",
       "min       0.010000     19.000000    2.000000\n",
       "25%       0.030000     66.000000   61.000000\n",
       "50%       0.080000     73.000000   72.000000\n",
       "75%       0.290000     80.000000   79.000000\n",
       "max      14.630000     97.000000   93.000000"
      ]
     },
     "execution_count": 52,
     "metadata": {},
     "output_type": "execute_result"
    }
   ],
   "source": [
    "df_PS[['total_sales','critic_score','user_score']].describe()"
   ]
  },
  {
   "cell_type": "markdown",
   "metadata": {},
   "source": [
    "En el aspecto de las calificaciones, PlayStation le ha ido sobresaliente, ya que sus calificaciones están por encima del 60% y en promedio 8000"
   ]
  },
  {
   "cell_type": "markdown",
   "metadata": {},
   "source": [
    "**Revisar las variables critic_score y user_score con respecto a las ventas**\n",
    "\n",
    "**User Score:** Es la calificación que los jugadores o usuarios le otorgan a un videojuego. Generalmente, estas calificaciones se recogen en plataformas de videojuegos donde los usuarios pueden dejar su opinión.\n",
    "\n",
    "**critic_score:** Es la calificación que los críticos especializados en videojuegos le otorgan a un título. Estas reseñas suelen ser publicadas por revistas, sitios web y medios especializados."
   ]
  },
  {
   "cell_type": "code",
   "execution_count": 53,
   "metadata": {
    "trusted": true
   },
   "outputs": [
    {
     "data": {
      "text/html": [
       "<div>\n",
       "<style scoped>\n",
       "    .dataframe tbody tr th:only-of-type {\n",
       "        vertical-align: middle;\n",
       "    }\n",
       "\n",
       "    .dataframe tbody tr th {\n",
       "        vertical-align: top;\n",
       "    }\n",
       "\n",
       "    .dataframe thead th {\n",
       "        text-align: right;\n",
       "    }\n",
       "</style>\n",
       "<table border=\"1\" class=\"dataframe\">\n",
       "  <thead>\n",
       "    <tr style=\"text-align: right;\">\n",
       "      <th></th>\n",
       "      <th>total_sales</th>\n",
       "      <th>critic_score</th>\n",
       "      <th>user_score</th>\n",
       "    </tr>\n",
       "  </thead>\n",
       "  <tbody>\n",
       "    <tr>\n",
       "      <th>total_sales</th>\n",
       "      <td>1.0000</td>\n",
       "      <td>0.3705</td>\n",
       "      <td>-0.0732</td>\n",
       "    </tr>\n",
       "    <tr>\n",
       "      <th>critic_score</th>\n",
       "      <td>0.3705</td>\n",
       "      <td>1.0000</td>\n",
       "      <td>0.5556</td>\n",
       "    </tr>\n",
       "    <tr>\n",
       "      <th>user_score</th>\n",
       "      <td>-0.0732</td>\n",
       "      <td>0.5556</td>\n",
       "      <td>1.0000</td>\n",
       "    </tr>\n",
       "  </tbody>\n",
       "</table>\n",
       "</div>"
      ],
      "text/plain": [
       "              total_sales  critic_score  user_score\n",
       "total_sales        1.0000        0.3705     -0.0732\n",
       "critic_score       0.3705        1.0000      0.5556\n",
       "user_score        -0.0732        0.5556      1.0000"
      ]
     },
     "execution_count": 53,
     "metadata": {},
     "output_type": "execute_result"
    }
   ],
   "source": [
    "#Calcular la correlación\n",
    "df_sales_score=df_PS[['total_sales','critic_score','user_score']]\n",
    "df_sales_score.corr().round(4)"
   ]
  },
  {
   "cell_type": "code",
   "execution_count": 54,
   "metadata": {
    "trusted": true
   },
   "outputs": [
    {
     "data": {
      "text/plain": [
       "<function matplotlib.pyplot.show(close=None, block=None)>"
      ]
     },
     "execution_count": 54,
     "metadata": {},
     "output_type": "execute_result"
    },
    {
     "data": {
      "image/png": "[encoded data removed]",
      "text/plain": [
       "<Figure size 640x480 with 1 Axes>"
      ]
     },
     "metadata": {},
     "output_type": "display_data"
    }
   ],
   "source": [
    "#Visualizar la correlación critic_score vs total_sales\n",
    "df_sales_score.plot(\n",
    "kind='scatter',\n",
    "title='critic_score vs total_sales',\n",
    "x='critic_score',\n",
    "y='total_sales',\n",
    "alpha=0.5\n",
    ")\n",
    "plt.yscale(\"log\")\n",
    "plt.show"
   ]
  },
  {
   "cell_type": "markdown",
   "metadata": {},
   "source": [
    "Existe una relación positiva, entre las variables critic_score vs total_sales, es decir, cuando las el critic_score aumenta, las ventas totales también aumenta."
   ]
  },
  {
   "cell_type": "code",
   "execution_count": 55,
   "metadata": {
    "trusted": true
   },
   "outputs": [
    {
     "data": {
      "text/plain": [
       "<function matplotlib.pyplot.show(close=None, block=None)>"
      ]
     },
     "execution_count": 55,
     "metadata": {},
     "output_type": "execute_result"
    },
    {
     "data": {
      "image/png": "[encoded data removed]",
      "text/plain": [
       "<Figure size 640x480 with 1 Axes>"
      ]
     },
     "metadata": {},
     "output_type": "display_data"
    }
   ],
   "source": [
    "#Visualizar la correlación user_score vs total_sales\n",
    "df_sales_score.plot(\n",
    "kind='scatter',\n",
    "title='user_score vs total_sales',\n",
    "x='user_score',\n",
    "y='total_sales',\n",
    "alpha=0.5)\n",
    "plt.yscale(\"log\")\n",
    "plt.show"
   ]
  },
  {
   "cell_type": "markdown",
   "metadata": {},
   "source": [
    "Existe una relación negativa entre user_score y total_sales. Esto indica que, a medida que el puntaje de user_score aumenta, las ventas totales tienden a disminuir. Esta relación implica una disminución aproximada del 0.07% en las ventas totales por cada incremento de una unidad en user_score."
   ]
  },
  {
   "cell_type": "markdown",
   "metadata": {},
   "source": [
    "**Determinar las preferencias por género**"
   ]
  },
  {
   "cell_type": "code",
   "execution_count": 56,
   "metadata": {
    "trusted": true
   },
   "outputs": [
    {
     "data": {
      "text/html": [
       "<div>\n",
       "<style scoped>\n",
       "    .dataframe tbody tr th:only-of-type {\n",
       "        vertical-align: middle;\n",
       "    }\n",
       "\n",
       "    .dataframe tbody tr th {\n",
       "        vertical-align: top;\n",
       "    }\n",
       "\n",
       "    .dataframe thead th {\n",
       "        text-align: right;\n",
       "    }\n",
       "</style>\n",
       "<table border=\"1\" class=\"dataframe\">\n",
       "  <thead>\n",
       "    <tr style=\"text-align: right;\">\n",
       "      <th></th>\n",
       "      <th>na_sales</th>\n",
       "      <th>jp_sales</th>\n",
       "      <th>eu_sales</th>\n",
       "    </tr>\n",
       "    <tr>\n",
       "      <th>genre</th>\n",
       "      <th></th>\n",
       "      <th></th>\n",
       "      <th></th>\n",
       "    </tr>\n",
       "  </thead>\n",
       "  <tbody>\n",
       "    <tr>\n",
       "      <th>Action</th>\n",
       "      <td>46.70</td>\n",
       "      <td>29.51</td>\n",
       "      <td>56.03</td>\n",
       "    </tr>\n",
       "    <tr>\n",
       "      <th>Adventure</th>\n",
       "      <td>3.34</td>\n",
       "      <td>3.57</td>\n",
       "      <td>4.24</td>\n",
       "    </tr>\n",
       "    <tr>\n",
       "      <th>Fighting</th>\n",
       "      <td>10.49</td>\n",
       "      <td>6.36</td>\n",
       "      <td>5.99</td>\n",
       "    </tr>\n",
       "    <tr>\n",
       "      <th>Misc</th>\n",
       "      <td>9.89</td>\n",
       "      <td>5.60</td>\n",
       "      <td>10.68</td>\n",
       "    </tr>\n",
       "    <tr>\n",
       "      <th>Platform</th>\n",
       "      <td>6.37</td>\n",
       "      <td>2.69</td>\n",
       "      <td>6.42</td>\n",
       "    </tr>\n",
       "    <tr>\n",
       "      <th>Puzzle</th>\n",
       "      <td>0.65</td>\n",
       "      <td>0.93</td>\n",
       "      <td>0.52</td>\n",
       "    </tr>\n",
       "    <tr>\n",
       "      <th>Racing</th>\n",
       "      <td>5.31</td>\n",
       "      <td>1.72</td>\n",
       "      <td>9.15</td>\n",
       "    </tr>\n",
       "    <tr>\n",
       "      <th>Role-Playing</th>\n",
       "      <td>23.84</td>\n",
       "      <td>31.13</td>\n",
       "      <td>21.21</td>\n",
       "    </tr>\n",
       "    <tr>\n",
       "      <th>Shooter</th>\n",
       "      <td>34.95</td>\n",
       "      <td>4.68</td>\n",
       "      <td>41.67</td>\n",
       "    </tr>\n",
       "    <tr>\n",
       "      <th>Simulation</th>\n",
       "      <td>1.04</td>\n",
       "      <td>2.31</td>\n",
       "      <td>2.07</td>\n",
       "    </tr>\n",
       "    <tr>\n",
       "      <th>Sports</th>\n",
       "      <td>24.45</td>\n",
       "      <td>3.24</td>\n",
       "      <td>32.81</td>\n",
       "    </tr>\n",
       "    <tr>\n",
       "      <th>Strategy</th>\n",
       "      <td>0.23</td>\n",
       "      <td>0.95</td>\n",
       "      <td>0.18</td>\n",
       "    </tr>\n",
       "  </tbody>\n",
       "</table>\n",
       "</div>"
      ],
      "text/plain": [
       "              na_sales  jp_sales  eu_sales\n",
       "genre                                     \n",
       "Action           46.70     29.51     56.03\n",
       "Adventure         3.34      3.57      4.24\n",
       "Fighting         10.49      6.36      5.99\n",
       "Misc              9.89      5.60     10.68\n",
       "Platform          6.37      2.69      6.42\n",
       "Puzzle            0.65      0.93      0.52\n",
       "Racing            5.31      1.72      9.15\n",
       "Role-Playing     23.84     31.13     21.21\n",
       "Shooter          34.95      4.68     41.67\n",
       "Simulation        1.04      2.31      2.07\n",
       "Sports           24.45      3.24     32.81\n",
       "Strategy          0.23      0.95      0.18"
      ]
     },
     "execution_count": 56,
     "metadata": {},
     "output_type": "execute_result"
    }
   ],
   "source": [
    "#Cambia las preferencias por género\n",
    "df_sales_genre=df.groupby(\"genre\").agg(\n",
    "na_sales=(\"na_sales\",\"sum\"),\n",
    "jp_sales=(\"jp_sales\",\"sum\"),\n",
    "eu_sales=(\"eu_sales\",\"sum\"))\n",
    "\n",
    "df_sales_genre\n"
   ]
  },
  {
   "cell_type": "code",
   "execution_count": 57,
   "metadata": {
    "trusted": true
   },
   "outputs": [
    {
     "data": {
      "text/html": [
       "<div>\n",
       "<style scoped>\n",
       "    .dataframe tbody tr th:only-of-type {\n",
       "        vertical-align: middle;\n",
       "    }\n",
       "\n",
       "    .dataframe tbody tr th {\n",
       "        vertical-align: top;\n",
       "    }\n",
       "\n",
       "    .dataframe thead th {\n",
       "        text-align: right;\n",
       "    }\n",
       "</style>\n",
       "<table border=\"1\" class=\"dataframe\">\n",
       "  <thead>\n",
       "    <tr style=\"text-align: right;\">\n",
       "      <th></th>\n",
       "      <th>na_sales</th>\n",
       "      <th>jp_sales</th>\n",
       "      <th>eu_sales</th>\n",
       "    </tr>\n",
       "    <tr>\n",
       "      <th>genre</th>\n",
       "      <th></th>\n",
       "      <th></th>\n",
       "      <th></th>\n",
       "    </tr>\n",
       "  </thead>\n",
       "  <tbody>\n",
       "    <tr>\n",
       "      <th>Action</th>\n",
       "      <td>27.920603</td>\n",
       "      <td>31.837307</td>\n",
       "      <td>29.339687</td>\n",
       "    </tr>\n",
       "    <tr>\n",
       "      <th>Adventure</th>\n",
       "      <td>1.996891</td>\n",
       "      <td>3.851548</td>\n",
       "      <td>2.220244</td>\n",
       "    </tr>\n",
       "    <tr>\n",
       "      <th>Fighting</th>\n",
       "      <td>6.271673</td>\n",
       "      <td>6.861582</td>\n",
       "      <td>3.136618</td>\n",
       "    </tr>\n",
       "    <tr>\n",
       "      <th>Misc</th>\n",
       "      <td>5.912950</td>\n",
       "      <td>6.041644</td>\n",
       "      <td>5.592501</td>\n",
       "    </tr>\n",
       "    <tr>\n",
       "      <th>Platform</th>\n",
       "      <td>3.808442</td>\n",
       "      <td>2.902147</td>\n",
       "      <td>3.361785</td>\n",
       "    </tr>\n",
       "    <tr>\n",
       "      <th>Puzzle</th>\n",
       "      <td>0.388617</td>\n",
       "      <td>1.003344</td>\n",
       "      <td>0.272294</td>\n",
       "    </tr>\n",
       "    <tr>\n",
       "      <th>Racing</th>\n",
       "      <td>3.174698</td>\n",
       "      <td>1.855648</td>\n",
       "      <td>4.791328</td>\n",
       "    </tr>\n",
       "    <tr>\n",
       "      <th>Role-Playing</th>\n",
       "      <td>14.253258</td>\n",
       "      <td>33.585069</td>\n",
       "      <td>11.106457</td>\n",
       "    </tr>\n",
       "    <tr>\n",
       "      <th>Shooter</th>\n",
       "      <td>20.895612</td>\n",
       "      <td>5.049088</td>\n",
       "      <td>21.820181</td>\n",
       "    </tr>\n",
       "    <tr>\n",
       "      <th>Simulation</th>\n",
       "      <td>0.621786</td>\n",
       "      <td>2.492178</td>\n",
       "      <td>1.083940</td>\n",
       "    </tr>\n",
       "    <tr>\n",
       "      <th>Sports</th>\n",
       "      <td>14.617960</td>\n",
       "      <td>3.495523</td>\n",
       "      <td>17.180709</td>\n",
       "    </tr>\n",
       "    <tr>\n",
       "      <th>Strategy</th>\n",
       "      <td>0.137510</td>\n",
       "      <td>1.024922</td>\n",
       "      <td>0.094256</td>\n",
       "    </tr>\n",
       "  </tbody>\n",
       "</table>\n",
       "</div>"
      ],
      "text/plain": [
       "               na_sales   jp_sales   eu_sales\n",
       "genre                                        \n",
       "Action        27.920603  31.837307  29.339687\n",
       "Adventure      1.996891   3.851548   2.220244\n",
       "Fighting       6.271673   6.861582   3.136618\n",
       "Misc           5.912950   6.041644   5.592501\n",
       "Platform       3.808442   2.902147   3.361785\n",
       "Puzzle         0.388617   1.003344   0.272294\n",
       "Racing         3.174698   1.855648   4.791328\n",
       "Role-Playing  14.253258  33.585069  11.106457\n",
       "Shooter       20.895612   5.049088  21.820181\n",
       "Simulation     0.621786   2.492178   1.083940\n",
       "Sports        14.617960   3.495523  17.180709\n",
       "Strategy       0.137510   1.024922   0.094256"
      ]
     },
     "execution_count": 57,
     "metadata": {},
     "output_type": "execute_result"
    }
   ],
   "source": [
    "#Calcular la proporción, ya que estos nos permite hacer un análisis equitativo\n",
    "df_sales_genre_part=df_sales_genre/df_sales_genre.sum(axis=0)*100\n",
    "df_sales_genre_part"
   ]
  },
  {
   "cell_type": "code",
   "execution_count": 58,
   "metadata": {
    "scrolled": true,
    "trusted": true
   },
   "outputs": [
    {
     "data": {
      "image/png": "[encoded data removed]",
      "text/plain": [
       "<Figure size 1800x600 with 3 Axes>"
      ]
     },
     "metadata": {},
     "output_type": "display_data"
    }
   ],
   "source": [
    "#visualizar  para Norteamerica\n",
    "fig, ax = plt.subplots(1, 3, figsize=(18, 6))\n",
    "\n",
    "# Crear gráficos de pastel para las ventas en diferentes regiones\n",
    "df_sales_genre_part['na_sales'].plot(\n",
    "    kind=\"pie\",\n",
    "    ax=ax[0],  # Primer subplot\n",
    "    autopct='%1.1f%%',  # Mostrar porcentajes\n",
    "    title=\"Ventas en Norteamérica\"\n",
    ")\n",
    "\n",
    "df_sales_genre_part['jp_sales'].plot(\n",
    "    kind=\"pie\",\n",
    "    ax=ax[1],  # Segundo subplot\n",
    "    autopct='%1.1f%%',  # Mostrar porcentajes\n",
    "    title=\"Ventas en Japón\"\n",
    ")\n",
    "\n",
    "df_sales_genre_part['eu_sales'].plot(\n",
    "    kind=\"pie\",\n",
    "    ax=ax[2],  # Tercer subplot\n",
    "    autopct='%1.1f%%',  # Mostrar porcentajes\n",
    "    title=\"Ventas en Europa\"\n",
    ")\n",
    "\n",
    "# Ajustar el diseño para evitar superposición\n",
    "plt.tight_layout()\n",
    "plt.show()"
   ]
  },
  {
   "cell_type": "markdown",
   "metadata": {},
   "source": [
    "# Conclusiones"
   ]
  },
  {
   "cell_type": "markdown",
   "metadata": {},
   "source": [
    "- Las industrias que dominan el mercado de los videojuegos son playstation y Nintendo, las cuales, estadisticamente tiene una varianza y medias iguales.\n",
    "\n",
    "- Para incrementar las ventas para el año 2017, se debe diversificar los tipos de juegos por región, cada pais tiene culturas diferentes, y por ende sus preferencias en juegos son diferentes, Los esfuerzos de campañas publicitarias se deben concentrar en juegos que están teniendo pocas ventas para cada país. Asimismo, para los próximas inversiones en juegos, se debe considerar que  Estados Unidos los juegos prefereidos son acción, shooter y deporte, para Japón, olos juegos preferidos son Role-Playing y Action y para Europa, los preferidos son: acción y shooter.\n",
    "\n",
    "- La mayoria del esfuerzo debe centrase en obtener buenas calificaciones en el critic_score, ya que está tiene una relación positiva con respecto a las ventas totales.\n",
    "\n",
    "- Son 7 años aproximadamente para que una empresa salga del mercado de los videojuegos, aunque este sector es estable, los esfuerzos para entrar son complejos, ya que este mercado es un oligopolio que actualmente está dominado por Playstation, Nintendo y Xbox."
   ]
  }
 ],
 "metadata": {
  "ExecuteTimeLog": [
   {
    "duration": 2502,
    "start_time": "2024-11-21T00:30:50.691Z"
   },
   {
    "duration": 219,
    "start_time": "2024-11-21T00:33:45.848Z"
   },
   {
    "duration": 35,
    "start_time": "2024-11-21T00:34:02.589Z"
   },
   {
    "duration": 18,
    "start_time": "2024-11-21T00:34:05.308Z"
   },
   {
    "duration": 12,
    "start_time": "2024-11-21T00:34:34.872Z"
   },
   {
    "duration": 15,
    "start_time": "2024-11-21T00:38:50.845Z"
   },
   {
    "duration": 6,
    "start_time": "2024-11-21T00:38:59.552Z"
   },
   {
    "duration": 5,
    "start_time": "2024-11-21T00:57:33.240Z"
   },
   {
    "duration": 3,
    "start_time": "2024-11-21T00:57:48.883Z"
   },
   {
    "duration": 3,
    "start_time": "2024-11-21T00:57:58.746Z"
   },
   {
    "duration": 4,
    "start_time": "2024-11-21T00:58:56.216Z"
   },
   {
    "duration": 3,
    "start_time": "2024-11-21T00:59:11.989Z"
   },
   {
    "duration": 4,
    "start_time": "2024-11-21T00:59:17.085Z"
   },
   {
    "duration": 14,
    "start_time": "2024-11-21T01:01:26.656Z"
   },
   {
    "duration": 7,
    "start_time": "2024-11-21T01:01:46.872Z"
   },
   {
    "duration": 27,
    "start_time": "2024-11-21T01:02:40.208Z"
   },
   {
    "duration": 14,
    "start_time": "2024-11-21T01:02:50.319Z"
   },
   {
    "duration": 4,
    "start_time": "2024-11-21T01:07:05.495Z"
   },
   {
    "duration": 4,
    "start_time": "2024-11-21T01:07:39.968Z"
   },
   {
    "duration": 7,
    "start_time": "2024-11-21T01:07:49.624Z"
   },
   {
    "duration": 7,
    "start_time": "2024-11-21T01:08:28.839Z"
   },
   {
    "duration": 2,
    "start_time": "2024-11-21T01:08:59.655Z"
   },
   {
    "duration": 27,
    "start_time": "2024-11-21T01:08:59.659Z"
   },
   {
    "duration": 11,
    "start_time": "2024-11-21T01:08:59.687Z"
   },
   {
    "duration": 13,
    "start_time": "2024-11-21T01:08:59.700Z"
   },
   {
    "duration": 6,
    "start_time": "2024-11-21T01:08:59.716Z"
   },
   {
    "duration": 4,
    "start_time": "2024-11-21T01:08:59.723Z"
   },
   {
    "duration": 4,
    "start_time": "2024-11-21T01:08:59.729Z"
   },
   {
    "duration": 26,
    "start_time": "2024-11-21T01:08:59.734Z"
   },
   {
    "duration": 12,
    "start_time": "2024-11-21T01:08:59.762Z"
   },
   {
    "duration": 43,
    "start_time": "2024-11-21T01:08:59.777Z"
   },
   {
    "duration": 5,
    "start_time": "2024-11-21T01:11:54.745Z"
   },
   {
    "duration": 328,
    "start_time": "2024-11-21T01:12:03.815Z"
   },
   {
    "duration": 6,
    "start_time": "2024-11-21T01:13:04.143Z"
   },
   {
    "duration": 16,
    "start_time": "2024-11-21T01:13:28.565Z"
   },
   {
    "duration": 2613,
    "start_time": "2024-11-22T00:14:11.400Z"
   },
   {
    "duration": 37,
    "start_time": "2024-11-22T00:14:14.015Z"
   },
   {
    "duration": 12,
    "start_time": "2024-11-22T00:14:14.053Z"
   },
   {
    "duration": 16,
    "start_time": "2024-11-22T00:14:14.067Z"
   },
   {
    "duration": 5,
    "start_time": "2024-11-22T00:14:14.085Z"
   },
   {
    "duration": 3,
    "start_time": "2024-11-22T00:14:14.092Z"
   },
   {
    "duration": 4,
    "start_time": "2024-11-22T00:14:14.097Z"
   },
   {
    "duration": 58,
    "start_time": "2024-11-22T00:14:14.103Z"
   },
   {
    "duration": 12,
    "start_time": "2024-11-22T00:14:14.163Z"
   },
   {
    "duration": 10,
    "start_time": "2024-11-22T00:14:14.177Z"
   },
   {
    "duration": 11,
    "start_time": "2024-11-22T00:14:14.189Z"
   },
   {
    "duration": 749,
    "start_time": "2024-11-22T00:27:56.411Z"
   },
   {
    "duration": 585,
    "start_time": "2024-11-22T00:34:44.704Z"
   },
   {
    "duration": 3,
    "start_time": "2024-11-22T00:35:00.469Z"
   },
   {
    "duration": 34,
    "start_time": "2024-11-22T00:35:00.478Z"
   },
   {
    "duration": 12,
    "start_time": "2024-11-22T00:35:00.514Z"
   },
   {
    "duration": 12,
    "start_time": "2024-11-22T00:35:00.528Z"
   },
   {
    "duration": 10,
    "start_time": "2024-11-22T00:35:00.542Z"
   },
   {
    "duration": 3,
    "start_time": "2024-11-22T00:35:00.556Z"
   },
   {
    "duration": 4,
    "start_time": "2024-11-22T00:35:00.561Z"
   },
   {
    "duration": 28,
    "start_time": "2024-11-22T00:35:00.567Z"
   },
   {
    "duration": 14,
    "start_time": "2024-11-22T00:35:00.596Z"
   },
   {
    "duration": 40,
    "start_time": "2024-11-22T00:35:00.612Z"
   },
   {
    "duration": 138,
    "start_time": "2024-11-22T00:35:00.655Z"
   },
   {
    "duration": 60,
    "start_time": "2024-11-22T00:35:00.794Z"
   },
   {
    "duration": 0,
    "start_time": "2024-11-22T00:35:00.855Z"
   },
   {
    "duration": 20,
    "start_time": "2024-11-22T00:36:21.098Z"
   },
   {
    "duration": 4,
    "start_time": "2024-11-22T00:39:56.745Z"
   },
   {
    "duration": 12,
    "start_time": "2024-11-22T00:40:21.837Z"
   },
   {
    "duration": 13,
    "start_time": "2024-11-22T00:41:51.808Z"
   },
   {
    "duration": 6,
    "start_time": "2024-11-22T00:42:18.681Z"
   },
   {
    "duration": 7,
    "start_time": "2024-11-22T00:45:33.376Z"
   },
   {
    "duration": 8,
    "start_time": "2024-11-22T00:47:32.843Z"
   },
   {
    "duration": 5,
    "start_time": "2024-11-22T00:48:54.881Z"
   },
   {
    "duration": 5,
    "start_time": "2024-11-22T00:49:15.226Z"
   },
   {
    "duration": 15,
    "start_time": "2024-11-22T00:49:52.771Z"
   },
   {
    "duration": 20,
    "start_time": "2024-11-22T00:50:19.086Z"
   },
   {
    "duration": 3,
    "start_time": "2024-11-22T00:50:35.269Z"
   },
   {
    "duration": 25,
    "start_time": "2024-11-22T00:50:35.274Z"
   },
   {
    "duration": 11,
    "start_time": "2024-11-22T00:50:35.300Z"
   },
   {
    "duration": 13,
    "start_time": "2024-11-22T00:50:35.313Z"
   },
   {
    "duration": 5,
    "start_time": "2024-11-22T00:50:35.330Z"
   },
   {
    "duration": 6,
    "start_time": "2024-11-22T00:50:35.337Z"
   },
   {
    "duration": 4,
    "start_time": "2024-11-22T00:50:35.345Z"
   },
   {
    "duration": 26,
    "start_time": "2024-11-22T00:50:35.351Z"
   },
   {
    "duration": 12,
    "start_time": "2024-11-22T00:50:35.379Z"
   },
   {
    "duration": 10,
    "start_time": "2024-11-22T00:50:35.393Z"
   },
   {
    "duration": 40,
    "start_time": "2024-11-22T00:50:35.404Z"
   },
   {
    "duration": 5,
    "start_time": "2024-11-22T00:50:35.446Z"
   },
   {
    "duration": 12,
    "start_time": "2024-11-22T00:50:35.453Z"
   },
   {
    "duration": 16,
    "start_time": "2024-11-22T00:50:35.467Z"
   },
   {
    "duration": 5,
    "start_time": "2024-11-22T00:50:35.485Z"
   },
   {
    "duration": 15,
    "start_time": "2024-11-22T00:51:01.689Z"
   },
   {
    "duration": 14,
    "start_time": "2024-11-22T00:51:31.843Z"
   },
   {
    "duration": 6,
    "start_time": "2024-11-22T00:53:55.774Z"
   },
   {
    "duration": 6,
    "start_time": "2024-11-22T00:54:21.800Z"
   },
   {
    "duration": 3,
    "start_time": "2024-11-22T00:59:13.575Z"
   },
   {
    "duration": 19,
    "start_time": "2024-11-22T01:01:40.679Z"
   },
   {
    "duration": 3,
    "start_time": "2024-11-22T01:03:18.965Z"
   },
   {
    "duration": 18,
    "start_time": "2024-11-22T01:03:22.580Z"
   },
   {
    "duration": 16,
    "start_time": "2024-11-22T01:03:47.227Z"
   },
   {
    "duration": 6,
    "start_time": "2024-11-22T01:04:02.657Z"
   },
   {
    "duration": 12,
    "start_time": "2024-11-22T01:04:23.520Z"
   },
   {
    "duration": 15,
    "start_time": "2024-11-22T01:05:45.700Z"
   },
   {
    "duration": 89,
    "start_time": "2024-11-22T01:11:32.398Z"
   },
   {
    "duration": 6,
    "start_time": "2024-11-22T01:11:57.298Z"
   },
   {
    "duration": 2,
    "start_time": "2024-11-22T01:22:19.180Z"
   },
   {
    "duration": 25,
    "start_time": "2024-11-22T01:22:19.184Z"
   },
   {
    "duration": 10,
    "start_time": "2024-11-22T01:22:19.212Z"
   },
   {
    "duration": 14,
    "start_time": "2024-11-22T01:22:19.225Z"
   },
   {
    "duration": 6,
    "start_time": "2024-11-22T01:22:19.241Z"
   },
   {
    "duration": 3,
    "start_time": "2024-11-22T01:22:19.249Z"
   },
   {
    "duration": 5,
    "start_time": "2024-11-22T01:22:19.253Z"
   },
   {
    "duration": 28,
    "start_time": "2024-11-22T01:22:19.260Z"
   },
   {
    "duration": 13,
    "start_time": "2024-11-22T01:22:19.289Z"
   },
   {
    "duration": 40,
    "start_time": "2024-11-22T01:22:19.304Z"
   },
   {
    "duration": 12,
    "start_time": "2024-11-22T01:22:19.348Z"
   },
   {
    "duration": 6,
    "start_time": "2024-11-22T01:22:19.362Z"
   },
   {
    "duration": 12,
    "start_time": "2024-11-22T01:22:19.369Z"
   },
   {
    "duration": 14,
    "start_time": "2024-11-22T01:22:19.382Z"
   },
   {
    "duration": 5,
    "start_time": "2024-11-22T01:22:19.397Z"
   },
   {
    "duration": 40,
    "start_time": "2024-11-22T01:22:19.404Z"
   },
   {
    "duration": 18,
    "start_time": "2024-11-22T01:22:19.446Z"
   },
   {
    "duration": 5,
    "start_time": "2024-11-22T01:22:19.466Z"
   },
   {
    "duration": 11,
    "start_time": "2024-11-22T01:22:19.474Z"
   },
   {
    "duration": 5,
    "start_time": "2024-11-22T01:22:19.487Z"
   },
   {
    "duration": 16,
    "start_time": "2024-11-22T01:22:19.493Z"
   },
   {
    "duration": 2466,
    "start_time": "2024-11-23T21:31:19.249Z"
   },
   {
    "duration": 37,
    "start_time": "2024-11-23T21:31:21.717Z"
   },
   {
    "duration": 12,
    "start_time": "2024-11-23T21:31:21.755Z"
   },
   {
    "duration": 14,
    "start_time": "2024-11-23T21:31:21.769Z"
   },
   {
    "duration": 6,
    "start_time": "2024-11-23T21:31:21.785Z"
   },
   {
    "duration": 3,
    "start_time": "2024-11-23T21:31:21.793Z"
   },
   {
    "duration": 3,
    "start_time": "2024-11-23T21:31:21.798Z"
   },
   {
    "duration": 25,
    "start_time": "2024-11-23T21:31:21.803Z"
   },
   {
    "duration": 42,
    "start_time": "2024-11-23T21:31:21.830Z"
   },
   {
    "duration": 10,
    "start_time": "2024-11-23T21:31:21.874Z"
   },
   {
    "duration": 12,
    "start_time": "2024-11-23T21:31:21.886Z"
   },
   {
    "duration": 6,
    "start_time": "2024-11-23T21:31:21.899Z"
   },
   {
    "duration": 12,
    "start_time": "2024-11-23T21:31:21.906Z"
   },
   {
    "duration": 14,
    "start_time": "2024-11-23T21:31:21.921Z"
   },
   {
    "duration": 5,
    "start_time": "2024-11-23T21:31:21.970Z"
   },
   {
    "duration": 3,
    "start_time": "2024-11-23T21:31:21.977Z"
   },
   {
    "duration": 17,
    "start_time": "2024-11-23T21:31:21.982Z"
   },
   {
    "duration": 6,
    "start_time": "2024-11-23T21:31:22.000Z"
   },
   {
    "duration": 11,
    "start_time": "2024-11-23T21:31:22.007Z"
   },
   {
    "duration": 5,
    "start_time": "2024-11-23T21:31:22.020Z"
   },
   {
    "duration": 50,
    "start_time": "2024-11-23T21:31:22.026Z"
   },
   {
    "duration": 3,
    "start_time": "2024-11-23T21:36:23.006Z"
   },
   {
    "duration": 4,
    "start_time": "2024-11-23T21:36:34.203Z"
   },
   {
    "duration": 5,
    "start_time": "2024-11-23T21:36:49.142Z"
   },
   {
    "duration": 15,
    "start_time": "2024-11-23T21:38:40.250Z"
   },
   {
    "duration": 10,
    "start_time": "2024-11-23T21:41:46.510Z"
   },
   {
    "duration": 6,
    "start_time": "2024-11-23T21:42:52.461Z"
   },
   {
    "duration": 3,
    "start_time": "2024-11-23T21:42:55.066Z"
   },
   {
    "duration": 16,
    "start_time": "2024-11-23T21:42:59.145Z"
   },
   {
    "duration": 11,
    "start_time": "2024-11-23T21:43:28.577Z"
   },
   {
    "duration": 14,
    "start_time": "2024-11-23T21:43:33.962Z"
   },
   {
    "duration": 443,
    "start_time": "2024-11-23T21:45:49.172Z"
   },
   {
    "duration": 14,
    "start_time": "2024-11-23T21:46:02.191Z"
   },
   {
    "duration": 8,
    "start_time": "2024-11-23T21:46:38.103Z"
   },
   {
    "duration": 16,
    "start_time": "2024-11-23T21:46:49.566Z"
   },
   {
    "duration": 6,
    "start_time": "2024-11-23T22:10:15.045Z"
   },
   {
    "duration": 4,
    "start_time": "2024-11-23T22:15:44.367Z"
   },
   {
    "duration": 105,
    "start_time": "2024-11-23T22:16:43.660Z"
   },
   {
    "duration": 4,
    "start_time": "2024-11-23T22:18:39.378Z"
   },
   {
    "duration": 4,
    "start_time": "2024-11-23T22:19:12.477Z"
   },
   {
    "duration": 17,
    "start_time": "2024-11-23T22:19:16.418Z"
   },
   {
    "duration": 13,
    "start_time": "2024-11-23T22:19:56.307Z"
   },
   {
    "duration": 202,
    "start_time": "2024-11-23T22:20:02.396Z"
   },
   {
    "duration": 6,
    "start_time": "2024-11-23T22:20:14.733Z"
   },
   {
    "duration": 11,
    "start_time": "2024-11-23T22:20:25.150Z"
   },
   {
    "duration": 12,
    "start_time": "2024-11-23T22:20:30.139Z"
   },
   {
    "duration": 2,
    "start_time": "2024-11-23T22:20:55.426Z"
   },
   {
    "duration": 25,
    "start_time": "2024-11-23T22:20:55.432Z"
   },
   {
    "duration": 12,
    "start_time": "2024-11-23T22:20:55.459Z"
   },
   {
    "duration": 12,
    "start_time": "2024-11-23T22:20:55.473Z"
   },
   {
    "duration": 5,
    "start_time": "2024-11-23T22:20:55.487Z"
   },
   {
    "duration": 3,
    "start_time": "2024-11-23T22:20:55.494Z"
   },
   {
    "duration": 4,
    "start_time": "2024-11-23T22:20:55.498Z"
   },
   {
    "duration": 26,
    "start_time": "2024-11-23T22:20:55.504Z"
   },
   {
    "duration": 47,
    "start_time": "2024-11-23T22:20:55.532Z"
   },
   {
    "duration": 10,
    "start_time": "2024-11-23T22:20:55.581Z"
   },
   {
    "duration": 15,
    "start_time": "2024-11-23T22:20:55.595Z"
   },
   {
    "duration": 11,
    "start_time": "2024-11-23T22:20:55.612Z"
   },
   {
    "duration": 5,
    "start_time": "2024-11-23T22:20:55.625Z"
   },
   {
    "duration": 45,
    "start_time": "2024-11-23T22:20:55.631Z"
   },
   {
    "duration": 14,
    "start_time": "2024-11-23T22:20:55.677Z"
   },
   {
    "duration": 6,
    "start_time": "2024-11-23T22:20:55.692Z"
   },
   {
    "duration": 4,
    "start_time": "2024-11-23T22:20:55.699Z"
   },
   {
    "duration": 19,
    "start_time": "2024-11-23T22:20:55.704Z"
   },
   {
    "duration": 5,
    "start_time": "2024-11-23T22:20:55.725Z"
   },
   {
    "duration": 123,
    "start_time": "2024-11-23T22:20:55.732Z"
   },
   {
    "duration": 15,
    "start_time": "2024-11-23T22:20:55.857Z"
   },
   {
    "duration": 4,
    "start_time": "2024-11-23T22:20:55.874Z"
   },
   {
    "duration": 17,
    "start_time": "2024-11-23T22:20:55.879Z"
   },
   {
    "duration": 6,
    "start_time": "2024-11-23T22:20:55.898Z"
   },
   {
    "duration": 20,
    "start_time": "2024-11-23T22:20:55.905Z"
   },
   {
    "duration": 51,
    "start_time": "2024-11-23T22:20:55.926Z"
   },
   {
    "duration": 13,
    "start_time": "2024-11-23T22:23:49.590Z"
   },
   {
    "duration": 16,
    "start_time": "2024-11-23T22:23:59.330Z"
   },
   {
    "duration": 11,
    "start_time": "2024-11-23T22:25:17.879Z"
   },
   {
    "duration": 3,
    "start_time": "2024-11-23T22:29:21.507Z"
   },
   {
    "duration": 4,
    "start_time": "2024-11-23T22:29:36.632Z"
   },
   {
    "duration": 13,
    "start_time": "2024-11-23T22:30:18.371Z"
   },
   {
    "duration": 7,
    "start_time": "2024-11-23T22:31:06.976Z"
   },
   {
    "duration": 111,
    "start_time": "2024-11-23T22:34:29.428Z"
   },
   {
    "duration": 104,
    "start_time": "2024-11-23T22:34:49.639Z"
   },
   {
    "duration": 4,
    "start_time": "2024-11-23T22:36:29.609Z"
   },
   {
    "duration": 17,
    "start_time": "2024-11-23T22:36:47.355Z"
   },
   {
    "duration": 12,
    "start_time": "2024-11-23T22:37:08.015Z"
   },
   {
    "duration": 2,
    "start_time": "2024-11-23T22:41:32.106Z"
   },
   {
    "duration": 24,
    "start_time": "2024-11-23T22:41:32.127Z"
   },
   {
    "duration": 11,
    "start_time": "2024-11-23T22:41:32.153Z"
   },
   {
    "duration": 13,
    "start_time": "2024-11-23T22:41:32.166Z"
   },
   {
    "duration": 6,
    "start_time": "2024-11-23T22:41:32.180Z"
   },
   {
    "duration": 2,
    "start_time": "2024-11-23T22:41:32.189Z"
   },
   {
    "duration": 4,
    "start_time": "2024-11-23T22:41:32.193Z"
   },
   {
    "duration": 25,
    "start_time": "2024-11-23T22:41:32.200Z"
   },
   {
    "duration": 12,
    "start_time": "2024-11-23T22:41:32.226Z"
   },
   {
    "duration": 12,
    "start_time": "2024-11-23T22:41:32.270Z"
   },
   {
    "duration": 16,
    "start_time": "2024-11-23T22:41:32.283Z"
   },
   {
    "duration": 12,
    "start_time": "2024-11-23T22:41:32.300Z"
   },
   {
    "duration": 5,
    "start_time": "2024-11-23T22:41:32.313Z"
   },
   {
    "duration": 10,
    "start_time": "2024-11-23T22:41:32.320Z"
   },
   {
    "duration": 13,
    "start_time": "2024-11-23T22:41:32.370Z"
   },
   {
    "duration": 5,
    "start_time": "2024-11-23T22:41:32.385Z"
   },
   {
    "duration": 4,
    "start_time": "2024-11-23T22:41:32.391Z"
   },
   {
    "duration": 17,
    "start_time": "2024-11-23T22:41:32.397Z"
   },
   {
    "duration": 5,
    "start_time": "2024-11-23T22:41:32.415Z"
   },
   {
    "duration": 10,
    "start_time": "2024-11-23T22:41:32.422Z"
   },
   {
    "duration": 39,
    "start_time": "2024-11-23T22:41:32.434Z"
   },
   {
    "duration": 3,
    "start_time": "2024-11-23T22:41:32.475Z"
   },
   {
    "duration": 17,
    "start_time": "2024-11-23T22:41:32.480Z"
   },
   {
    "duration": 5,
    "start_time": "2024-11-23T22:41:32.498Z"
   },
   {
    "duration": 14,
    "start_time": "2024-11-23T22:41:32.505Z"
   },
   {
    "duration": 15,
    "start_time": "2024-11-23T22:41:32.521Z"
   },
   {
    "duration": 14,
    "start_time": "2024-11-23T22:41:32.570Z"
   },
   {
    "duration": 11,
    "start_time": "2024-11-23T22:41:32.586Z"
   },
   {
    "duration": 3,
    "start_time": "2024-11-23T22:41:32.599Z"
   },
   {
    "duration": 12,
    "start_time": "2024-11-23T22:41:32.604Z"
   },
   {
    "duration": 74,
    "start_time": "2024-11-23T22:41:57.469Z"
   },
   {
    "duration": 14,
    "start_time": "2024-11-23T22:43:35.974Z"
   },
   {
    "duration": 4,
    "start_time": "2024-11-23T22:44:24.747Z"
   },
   {
    "duration": 103,
    "start_time": "2024-11-23T22:45:02.879Z"
   },
   {
    "duration": 107,
    "start_time": "2024-11-23T22:46:08.589Z"
   },
   {
    "duration": 103,
    "start_time": "2024-11-23T22:46:51.026Z"
   },
   {
    "duration": 6,
    "start_time": "2024-11-23T22:48:52.912Z"
   },
   {
    "duration": 116,
    "start_time": "2024-11-23T22:49:09.554Z"
   },
   {
    "duration": 112,
    "start_time": "2024-11-23T22:49:20.223Z"
   },
   {
    "duration": 121,
    "start_time": "2024-11-23T22:50:16.207Z"
   },
   {
    "duration": 128,
    "start_time": "2024-11-23T22:50:51.550Z"
   },
   {
    "duration": 115,
    "start_time": "2024-11-23T22:52:23.373Z"
   },
   {
    "duration": 2656,
    "start_time": "2024-11-24T00:30:14.886Z"
   },
   {
    "duration": 38,
    "start_time": "2024-11-24T00:30:17.545Z"
   },
   {
    "duration": 11,
    "start_time": "2024-11-24T00:30:17.585Z"
   },
   {
    "duration": 14,
    "start_time": "2024-11-24T00:30:17.599Z"
   },
   {
    "duration": 6,
    "start_time": "2024-11-24T00:30:17.615Z"
   },
   {
    "duration": 3,
    "start_time": "2024-11-24T00:30:17.623Z"
   },
   {
    "duration": 21,
    "start_time": "2024-11-24T00:30:17.627Z"
   },
   {
    "duration": 31,
    "start_time": "2024-11-24T00:30:17.650Z"
   },
   {
    "duration": 15,
    "start_time": "2024-11-24T00:30:17.684Z"
   },
   {
    "duration": 10,
    "start_time": "2024-11-24T00:30:17.702Z"
   },
   {
    "duration": 17,
    "start_time": "2024-11-24T00:30:17.744Z"
   },
   {
    "duration": 13,
    "start_time": "2024-11-24T00:30:17.763Z"
   },
   {
    "duration": 6,
    "start_time": "2024-11-24T00:30:17.778Z"
   },
   {
    "duration": 11,
    "start_time": "2024-11-24T00:30:17.785Z"
   },
   {
    "duration": 47,
    "start_time": "2024-11-24T00:30:17.798Z"
   },
   {
    "duration": 5,
    "start_time": "2024-11-24T00:30:17.848Z"
   },
   {
    "duration": 3,
    "start_time": "2024-11-24T00:30:17.855Z"
   },
   {
    "duration": 17,
    "start_time": "2024-11-24T00:30:17.860Z"
   },
   {
    "duration": 5,
    "start_time": "2024-11-24T00:30:17.879Z"
   },
   {
    "duration": 17,
    "start_time": "2024-11-24T00:30:17.886Z"
   },
   {
    "duration": 6,
    "start_time": "2024-11-24T00:30:17.905Z"
   },
   {
    "duration": 32,
    "start_time": "2024-11-24T00:30:17.913Z"
   },
   {
    "duration": 18,
    "start_time": "2024-11-24T00:30:17.947Z"
   },
   {
    "duration": 5,
    "start_time": "2024-11-24T00:30:17.967Z"
   },
   {
    "duration": 15,
    "start_time": "2024-11-24T00:30:17.975Z"
   },
   {
    "duration": 16,
    "start_time": "2024-11-24T00:30:17.991Z"
   },
   {
    "duration": 48,
    "start_time": "2024-11-24T00:30:18.008Z"
   },
   {
    "duration": 11,
    "start_time": "2024-11-24T00:30:18.061Z"
   },
   {
    "duration": 5,
    "start_time": "2024-11-24T00:30:18.074Z"
   },
   {
    "duration": 154,
    "start_time": "2024-11-24T00:30:18.081Z"
   },
   {
    "duration": 6,
    "start_time": "2024-11-24T00:31:43.758Z"
   },
   {
    "duration": 3,
    "start_time": "2024-11-24T00:31:51.029Z"
   },
   {
    "duration": 125,
    "start_time": "2024-11-24T00:32:10.595Z"
   },
   {
    "duration": 7,
    "start_time": "2024-11-24T00:46:10.982Z"
   },
   {
    "duration": 9,
    "start_time": "2024-11-24T00:46:27.216Z"
   },
   {
    "duration": 187,
    "start_time": "2024-11-24T00:47:20.776Z"
   },
   {
    "duration": 249,
    "start_time": "2024-11-24T00:48:06.320Z"
   },
   {
    "duration": 261,
    "start_time": "2024-11-24T00:48:44.134Z"
   },
   {
    "duration": 363,
    "start_time": "2024-11-24T00:48:54.382Z"
   },
   {
    "duration": 14,
    "start_time": "2024-11-24T00:49:34.643Z"
   },
   {
    "duration": 882,
    "start_time": "2024-11-24T00:49:36.913Z"
   },
   {
    "duration": 74,
    "start_time": "2024-11-24T00:50:26.586Z"
   },
   {
    "duration": 253,
    "start_time": "2024-11-24T00:50:46.342Z"
   },
   {
    "duration": 205,
    "start_time": "2024-11-24T00:51:17.153Z"
   },
   {
    "duration": 203,
    "start_time": "2024-11-24T00:53:28.201Z"
   },
   {
    "duration": 9,
    "start_time": "2024-11-24T00:54:11.567Z"
   },
   {
    "duration": 5,
    "start_time": "2024-11-24T00:54:20.208Z"
   },
   {
    "duration": 128,
    "start_time": "2024-11-24T00:54:27.316Z"
   },
   {
    "duration": 143,
    "start_time": "2024-11-24T00:54:44.516Z"
   },
   {
    "duration": 153,
    "start_time": "2024-11-24T00:56:01.328Z"
   },
   {
    "duration": 165,
    "start_time": "2024-11-24T00:56:50.964Z"
   },
   {
    "duration": 12,
    "start_time": "2024-11-24T00:57:24.360Z"
   },
   {
    "duration": 7,
    "start_time": "2024-11-24T01:04:14.213Z"
   },
   {
    "duration": 7,
    "start_time": "2024-11-24T01:04:19.705Z"
   },
   {
    "duration": 174,
    "start_time": "2024-11-24T01:04:34.262Z"
   },
   {
    "duration": 3,
    "start_time": "2024-11-24T01:05:35.138Z"
   },
   {
    "duration": 7,
    "start_time": "2024-11-24T01:10:58.061Z"
   },
   {
    "duration": 17,
    "start_time": "2024-11-24T01:11:08.621Z"
   },
   {
    "duration": 32,
    "start_time": "2024-11-24T01:11:27.880Z"
   },
   {
    "duration": 18,
    "start_time": "2024-11-24T01:11:43.096Z"
   },
   {
    "duration": 48,
    "start_time": "2024-11-24T01:13:32.777Z"
   },
   {
    "duration": 59,
    "start_time": "2024-11-24T01:13:43.246Z"
   },
   {
    "duration": 18,
    "start_time": "2024-11-24T01:14:02.587Z"
   },
   {
    "duration": 4,
    "start_time": "2024-11-24T01:16:34.990Z"
   },
   {
    "duration": 3,
    "start_time": "2024-11-24T01:18:41.696Z"
   },
   {
    "duration": 2,
    "start_time": "2024-11-24T01:18:45.125Z"
   },
   {
    "duration": 26,
    "start_time": "2024-11-24T01:18:45.129Z"
   },
   {
    "duration": 15,
    "start_time": "2024-11-24T01:18:45.157Z"
   },
   {
    "duration": 22,
    "start_time": "2024-11-24T01:18:45.175Z"
   },
   {
    "duration": 11,
    "start_time": "2024-11-24T01:18:45.199Z"
   },
   {
    "duration": 3,
    "start_time": "2024-11-24T01:18:45.212Z"
   },
   {
    "duration": 28,
    "start_time": "2024-11-24T01:18:45.216Z"
   },
   {
    "duration": 33,
    "start_time": "2024-11-24T01:18:45.246Z"
   },
   {
    "duration": 14,
    "start_time": "2024-11-24T01:18:45.283Z"
   },
   {
    "duration": 14,
    "start_time": "2024-11-24T01:18:45.300Z"
   },
   {
    "duration": 33,
    "start_time": "2024-11-24T01:18:45.315Z"
   },
   {
    "duration": 14,
    "start_time": "2024-11-24T01:18:45.351Z"
   },
   {
    "duration": 7,
    "start_time": "2024-11-24T01:18:45.368Z"
   },
   {
    "duration": 12,
    "start_time": "2024-11-24T01:18:45.377Z"
   },
   {
    "duration": 15,
    "start_time": "2024-11-24T01:18:45.391Z"
   },
   {
    "duration": 37,
    "start_time": "2024-11-24T01:18:45.408Z"
   },
   {
    "duration": 4,
    "start_time": "2024-11-24T01:18:45.447Z"
   },
   {
    "duration": 29,
    "start_time": "2024-11-24T01:18:45.453Z"
   },
   {
    "duration": 8,
    "start_time": "2024-11-24T01:18:45.484Z"
   },
   {
    "duration": 11,
    "start_time": "2024-11-24T01:18:45.494Z"
   },
   {
    "duration": 6,
    "start_time": "2024-11-24T01:18:45.506Z"
   },
   {
    "duration": 32,
    "start_time": "2024-11-24T01:18:45.514Z"
   },
   {
    "duration": 23,
    "start_time": "2024-11-24T01:18:45.548Z"
   },
   {
    "duration": 8,
    "start_time": "2024-11-24T01:18:45.576Z"
   },
   {
    "duration": 17,
    "start_time": "2024-11-24T01:18:45.586Z"
   },
   {
    "duration": 16,
    "start_time": "2024-11-24T01:18:45.605Z"
   },
   {
    "duration": 39,
    "start_time": "2024-11-24T01:18:45.622Z"
   },
   {
    "duration": 17,
    "start_time": "2024-11-24T01:18:45.663Z"
   },
   {
    "duration": 8,
    "start_time": "2024-11-24T01:18:45.684Z"
   },
   {
    "duration": 165,
    "start_time": "2024-11-24T01:18:45.694Z"
   },
   {
    "duration": 7,
    "start_time": "2024-11-24T01:18:45.863Z"
   },
   {
    "duration": 243,
    "start_time": "2024-11-24T01:18:45.872Z"
   },
   {
    "duration": 7,
    "start_time": "2024-11-24T01:18:46.117Z"
   },
   {
    "duration": 2,
    "start_time": "2024-11-24T01:18:46.126Z"
   },
   {
    "duration": 25,
    "start_time": "2024-11-24T01:18:46.142Z"
   },
   {
    "duration": 21,
    "start_time": "2024-11-24T01:18:46.169Z"
   },
   {
    "duration": 5,
    "start_time": "2024-11-24T01:18:46.192Z"
   },
   {
    "duration": 14,
    "start_time": "2024-11-24T01:36:56.255Z"
   },
   {
    "duration": 141,
    "start_time": "2024-11-24T01:38:14.909Z"
   },
   {
    "duration": 162,
    "start_time": "2024-11-24T01:43:06.829Z"
   },
   {
    "duration": 2473,
    "start_time": "2024-11-24T14:55:36.003Z"
   },
   {
    "duration": 36,
    "start_time": "2024-11-24T14:55:38.479Z"
   },
   {
    "duration": 12,
    "start_time": "2024-11-24T14:55:38.518Z"
   },
   {
    "duration": 15,
    "start_time": "2024-11-24T14:55:38.531Z"
   },
   {
    "duration": 6,
    "start_time": "2024-11-24T14:55:38.549Z"
   },
   {
    "duration": 3,
    "start_time": "2024-11-24T14:55:38.557Z"
   },
   {
    "duration": 5,
    "start_time": "2024-11-24T14:55:38.561Z"
   },
   {
    "duration": 27,
    "start_time": "2024-11-24T14:55:38.568Z"
   },
   {
    "duration": 13,
    "start_time": "2024-11-24T14:55:38.597Z"
   },
   {
    "duration": 40,
    "start_time": "2024-11-24T14:55:38.611Z"
   },
   {
    "duration": 17,
    "start_time": "2024-11-24T14:55:38.652Z"
   },
   {
    "duration": 11,
    "start_time": "2024-11-24T14:55:38.670Z"
   },
   {
    "duration": 6,
    "start_time": "2024-11-24T14:55:38.683Z"
   },
   {
    "duration": 11,
    "start_time": "2024-11-24T14:55:38.693Z"
   },
   {
    "duration": 45,
    "start_time": "2024-11-24T14:55:38.706Z"
   },
   {
    "duration": 5,
    "start_time": "2024-11-24T14:55:38.752Z"
   },
   {
    "duration": 4,
    "start_time": "2024-11-24T14:55:38.759Z"
   },
   {
    "duration": 19,
    "start_time": "2024-11-24T14:55:38.764Z"
   },
   {
    "duration": 5,
    "start_time": "2024-11-24T14:55:38.785Z"
   },
   {
    "duration": 11,
    "start_time": "2024-11-24T14:55:38.792Z"
   },
   {
    "duration": 5,
    "start_time": "2024-11-24T14:55:38.806Z"
   },
   {
    "duration": 3,
    "start_time": "2024-11-24T14:55:38.842Z"
   },
   {
    "duration": 18,
    "start_time": "2024-11-24T14:55:38.847Z"
   },
   {
    "duration": 7,
    "start_time": "2024-11-24T14:55:38.866Z"
   },
   {
    "duration": 14,
    "start_time": "2024-11-24T14:55:38.875Z"
   },
   {
    "duration": 14,
    "start_time": "2024-11-24T14:55:38.890Z"
   },
   {
    "duration": 47,
    "start_time": "2024-11-24T14:55:38.906Z"
   },
   {
    "duration": 13,
    "start_time": "2024-11-24T14:55:38.954Z"
   },
   {
    "duration": 5,
    "start_time": "2024-11-24T14:55:38.968Z"
   },
   {
    "duration": 146,
    "start_time": "2024-11-24T14:55:38.974Z"
   },
   {
    "duration": 5,
    "start_time": "2024-11-24T14:55:39.121Z"
   },
   {
    "duration": 122,
    "start_time": "2024-11-24T14:55:39.128Z"
   },
   {
    "duration": 7,
    "start_time": "2024-11-24T14:55:39.252Z"
   },
   {
    "duration": 3,
    "start_time": "2024-11-24T14:55:39.260Z"
   },
   {
    "duration": 17,
    "start_time": "2024-11-24T14:55:39.265Z"
   },
   {
    "duration": 16,
    "start_time": "2024-11-24T14:55:39.283Z"
   },
   {
    "duration": 158,
    "start_time": "2024-11-24T14:55:39.300Z"
   },
   {
    "duration": 6,
    "start_time": "2024-11-24T15:01:01.757Z"
   },
   {
    "duration": 6,
    "start_time": "2024-11-24T15:11:16.405Z"
   },
   {
    "duration": 678,
    "start_time": "2024-11-24T15:15:28.798Z"
   },
   {
    "duration": 3,
    "start_time": "2024-11-24T15:15:41.818Z"
   },
   {
    "duration": 5,
    "start_time": "2024-11-24T15:16:04.988Z"
   },
   {
    "duration": 3,
    "start_time": "2024-11-24T15:24:20.041Z"
   },
   {
    "duration": 13,
    "start_time": "2024-11-24T15:30:01.127Z"
   },
   {
    "duration": 2,
    "start_time": "2024-11-24T15:30:51.012Z"
   },
   {
    "duration": 2,
    "start_time": "2024-11-24T15:30:59.039Z"
   },
   {
    "duration": 2,
    "start_time": "2024-11-24T15:31:02.186Z"
   },
   {
    "duration": 25,
    "start_time": "2024-11-24T15:31:02.191Z"
   },
   {
    "duration": 11,
    "start_time": "2024-11-24T15:31:02.218Z"
   },
   {
    "duration": 12,
    "start_time": "2024-11-24T15:31:02.231Z"
   },
   {
    "duration": 7,
    "start_time": "2024-11-24T15:31:02.246Z"
   },
   {
    "duration": 3,
    "start_time": "2024-11-24T15:31:02.255Z"
   },
   {
    "duration": 5,
    "start_time": "2024-11-24T15:31:02.261Z"
   },
   {
    "duration": 29,
    "start_time": "2024-11-24T15:31:02.463Z"
   },
   {
    "duration": 14,
    "start_time": "2024-11-24T15:31:02.494Z"
   },
   {
    "duration": 11,
    "start_time": "2024-11-24T15:31:02.510Z"
   },
   {
    "duration": 29,
    "start_time": "2024-11-24T15:31:02.523Z"
   },
   {
    "duration": 13,
    "start_time": "2024-11-24T15:31:02.556Z"
   },
   {
    "duration": 6,
    "start_time": "2024-11-24T15:31:02.572Z"
   },
   {
    "duration": 12,
    "start_time": "2024-11-24T15:31:02.580Z"
   },
   {
    "duration": 15,
    "start_time": "2024-11-24T15:31:02.594Z"
   },
   {
    "duration": 34,
    "start_time": "2024-11-24T15:31:02.611Z"
   },
   {
    "duration": 4,
    "start_time": "2024-11-24T15:31:02.648Z"
   },
   {
    "duration": 21,
    "start_time": "2024-11-24T15:31:02.654Z"
   },
   {
    "duration": 6,
    "start_time": "2024-11-24T15:31:02.677Z"
   },
   {
    "duration": 13,
    "start_time": "2024-11-24T15:31:02.684Z"
   },
   {
    "duration": 42,
    "start_time": "2024-11-24T15:31:02.700Z"
   },
   {
    "duration": 4,
    "start_time": "2024-11-24T15:31:02.744Z"
   },
   {
    "duration": 19,
    "start_time": "2024-11-24T15:31:02.749Z"
   },
   {
    "duration": 5,
    "start_time": "2024-11-24T15:31:02.770Z"
   },
   {
    "duration": 17,
    "start_time": "2024-11-24T15:31:02.777Z"
   },
   {
    "duration": 17,
    "start_time": "2024-11-24T15:31:02.796Z"
   },
   {
    "duration": 16,
    "start_time": "2024-11-24T15:31:02.844Z"
   },
   {
    "duration": 12,
    "start_time": "2024-11-24T15:31:02.862Z"
   },
   {
    "duration": 4,
    "start_time": "2024-11-24T15:31:02.876Z"
   },
   {
    "duration": 164,
    "start_time": "2024-11-24T15:31:02.882Z"
   },
   {
    "duration": 7,
    "start_time": "2024-11-24T15:31:03.047Z"
   },
   {
    "duration": 131,
    "start_time": "2024-11-24T15:31:03.055Z"
   },
   {
    "duration": 7,
    "start_time": "2024-11-24T15:31:03.188Z"
   },
   {
    "duration": 3,
    "start_time": "2024-11-24T15:31:03.196Z"
   },
   {
    "duration": 17,
    "start_time": "2024-11-24T15:31:03.201Z"
   },
   {
    "duration": 163,
    "start_time": "2024-11-24T15:31:03.220Z"
   },
   {
    "duration": 7,
    "start_time": "2024-11-24T15:31:03.385Z"
   },
   {
    "duration": 6,
    "start_time": "2024-11-24T15:31:03.393Z"
   },
   {
    "duration": 3,
    "start_time": "2024-11-24T15:31:03.401Z"
   },
   {
    "duration": 6,
    "start_time": "2024-11-24T15:31:03.406Z"
   },
   {
    "duration": 41,
    "start_time": "2024-11-24T15:31:03.414Z"
   },
   {
    "duration": 17,
    "start_time": "2024-11-24T15:45:16.174Z"
   },
   {
    "duration": 16,
    "start_time": "2024-11-24T15:45:38.620Z"
   },
   {
    "duration": 14,
    "start_time": "2024-11-24T15:47:07.301Z"
   },
   {
    "duration": 6,
    "start_time": "2024-11-24T15:48:02.757Z"
   },
   {
    "duration": 4,
    "start_time": "2024-11-24T15:48:35.162Z"
   },
   {
    "duration": 4,
    "start_time": "2024-11-24T15:49:07.030Z"
   },
   {
    "duration": 3,
    "start_time": "2024-11-24T15:53:44.860Z"
   },
   {
    "duration": 4,
    "start_time": "2024-11-24T15:54:16.503Z"
   },
   {
    "duration": 4,
    "start_time": "2024-11-24T15:54:18.992Z"
   },
   {
    "duration": 3,
    "start_time": "2024-11-24T15:55:07.534Z"
   },
   {
    "duration": 6,
    "start_time": "2024-11-24T16:02:52.710Z"
   },
   {
    "duration": 7,
    "start_time": "2024-11-24T16:05:14.140Z"
   },
   {
    "duration": 44,
    "start_time": "2024-11-24T16:07:02.180Z"
   },
   {
    "duration": 3,
    "start_time": "2024-11-24T16:07:09.880Z"
   },
   {
    "duration": 7,
    "start_time": "2024-11-24T16:07:18.498Z"
   },
   {
    "duration": 8,
    "start_time": "2024-11-24T16:07:28.452Z"
   },
   {
    "duration": 4,
    "start_time": "2024-11-24T16:08:17.759Z"
   },
   {
    "duration": 305,
    "start_time": "2024-11-24T16:08:20.140Z"
   },
   {
    "duration": 5,
    "start_time": "2024-11-24T16:08:55.193Z"
   },
   {
    "duration": 25,
    "start_time": "2024-11-24T16:08:58.008Z"
   },
   {
    "duration": 336,
    "start_time": "2024-11-24T16:09:34.929Z"
   },
   {
    "duration": 3,
    "start_time": "2024-11-24T16:09:45.186Z"
   },
   {
    "duration": 24,
    "start_time": "2024-11-24T16:09:45.193Z"
   },
   {
    "duration": 10,
    "start_time": "2024-11-24T16:09:45.220Z"
   },
   {
    "duration": 14,
    "start_time": "2024-11-24T16:09:45.231Z"
   },
   {
    "duration": 7,
    "start_time": "2024-11-24T16:09:45.247Z"
   },
   {
    "duration": 2,
    "start_time": "2024-11-24T16:09:45.256Z"
   },
   {
    "duration": 4,
    "start_time": "2024-11-24T16:09:45.260Z"
   },
   {
    "duration": 27,
    "start_time": "2024-11-24T16:09:45.266Z"
   },
   {
    "duration": 13,
    "start_time": "2024-11-24T16:09:45.294Z"
   },
   {
    "duration": 41,
    "start_time": "2024-11-24T16:09:45.309Z"
   },
   {
    "duration": 17,
    "start_time": "2024-11-24T16:09:45.351Z"
   },
   {
    "duration": 12,
    "start_time": "2024-11-24T16:09:45.369Z"
   },
   {
    "duration": 5,
    "start_time": "2024-11-24T16:09:45.382Z"
   },
   {
    "duration": 11,
    "start_time": "2024-11-24T16:09:45.389Z"
   },
   {
    "duration": 47,
    "start_time": "2024-11-24T16:09:45.404Z"
   },
   {
    "duration": 6,
    "start_time": "2024-11-24T16:09:45.453Z"
   },
   {
    "duration": 4,
    "start_time": "2024-11-24T16:09:45.461Z"
   },
   {
    "duration": 18,
    "start_time": "2024-11-24T16:09:45.467Z"
   },
   {
    "duration": 6,
    "start_time": "2024-11-24T16:09:45.487Z"
   },
   {
    "duration": 10,
    "start_time": "2024-11-24T16:09:45.495Z"
   },
   {
    "duration": 39,
    "start_time": "2024-11-24T16:09:45.507Z"
   },
   {
    "duration": 3,
    "start_time": "2024-11-24T16:09:45.548Z"
   },
   {
    "duration": 17,
    "start_time": "2024-11-24T16:09:45.553Z"
   },
   {
    "duration": 6,
    "start_time": "2024-11-24T16:09:45.572Z"
   },
   {
    "duration": 15,
    "start_time": "2024-11-24T16:09:45.580Z"
   },
   {
    "duration": 48,
    "start_time": "2024-11-24T16:09:45.596Z"
   },
   {
    "duration": 17,
    "start_time": "2024-11-24T16:09:45.646Z"
   },
   {
    "duration": 11,
    "start_time": "2024-11-24T16:09:45.665Z"
   },
   {
    "duration": 3,
    "start_time": "2024-11-24T16:09:45.678Z"
   },
   {
    "duration": 144,
    "start_time": "2024-11-24T16:09:45.683Z"
   },
   {
    "duration": 5,
    "start_time": "2024-11-24T16:09:45.829Z"
   },
   {
    "duration": 118,
    "start_time": "2024-11-24T16:09:45.843Z"
   },
   {
    "duration": 7,
    "start_time": "2024-11-24T16:09:45.963Z"
   },
   {
    "duration": 3,
    "start_time": "2024-11-24T16:09:45.971Z"
   },
   {
    "duration": 17,
    "start_time": "2024-11-24T16:09:45.976Z"
   },
   {
    "duration": 156,
    "start_time": "2024-11-24T16:09:45.995Z"
   },
   {
    "duration": 8,
    "start_time": "2024-11-24T16:09:46.153Z"
   },
   {
    "duration": 4,
    "start_time": "2024-11-24T16:09:46.163Z"
   },
   {
    "duration": 3,
    "start_time": "2024-11-24T16:09:46.169Z"
   },
   {
    "duration": 4,
    "start_time": "2024-11-24T16:09:46.174Z"
   },
   {
    "duration": 3,
    "start_time": "2024-11-24T16:09:46.180Z"
   },
   {
    "duration": 147,
    "start_time": "2024-11-24T16:09:46.187Z"
   },
   {
    "duration": 0,
    "start_time": "2024-11-24T16:09:46.342Z"
   },
   {
    "duration": 5,
    "start_time": "2024-11-24T16:10:02.021Z"
   },
   {
    "duration": 27,
    "start_time": "2024-11-24T16:10:05.189Z"
   },
   {
    "duration": 4,
    "start_time": "2024-11-24T16:10:30.079Z"
   },
   {
    "duration": 25,
    "start_time": "2024-11-24T16:10:32.589Z"
   },
   {
    "duration": 4,
    "start_time": "2024-11-24T16:11:44.824Z"
   },
   {
    "duration": 25,
    "start_time": "2024-11-24T16:11:48.443Z"
   },
   {
    "duration": 20,
    "start_time": "2024-11-24T16:12:50.277Z"
   },
   {
    "duration": 19,
    "start_time": "2024-11-24T16:13:01.966Z"
   },
   {
    "duration": 25,
    "start_time": "2024-11-24T16:13:11.285Z"
   },
   {
    "duration": 3,
    "start_time": "2024-11-24T16:13:22.909Z"
   },
   {
    "duration": 5,
    "start_time": "2024-11-24T16:13:34.311Z"
   },
   {
    "duration": 27,
    "start_time": "2024-11-24T16:13:46.672Z"
   },
   {
    "duration": 26,
    "start_time": "2024-11-24T16:13:53.856Z"
   },
   {
    "duration": 19,
    "start_time": "2024-11-24T16:14:34.133Z"
   },
   {
    "duration": 26,
    "start_time": "2024-11-24T16:14:58.981Z"
   },
   {
    "duration": 33,
    "start_time": "2024-11-24T16:15:19.982Z"
   },
   {
    "duration": 4,
    "start_time": "2024-11-24T16:15:44.821Z"
   },
   {
    "duration": 27,
    "start_time": "2024-11-24T16:16:04.405Z"
   },
   {
    "duration": 2,
    "start_time": "2024-11-24T16:16:10.998Z"
   },
   {
    "duration": 26,
    "start_time": "2024-11-24T16:16:11.003Z"
   },
   {
    "duration": 10,
    "start_time": "2024-11-24T16:16:11.031Z"
   },
   {
    "duration": 13,
    "start_time": "2024-11-24T16:16:11.044Z"
   },
   {
    "duration": 7,
    "start_time": "2024-11-24T16:16:11.058Z"
   },
   {
    "duration": 3,
    "start_time": "2024-11-24T16:16:11.067Z"
   },
   {
    "duration": 4,
    "start_time": "2024-11-24T16:16:11.072Z"
   },
   {
    "duration": 25,
    "start_time": "2024-11-24T16:16:11.078Z"
   },
   {
    "duration": 38,
    "start_time": "2024-11-24T16:16:11.106Z"
   },
   {
    "duration": 12,
    "start_time": "2024-11-24T16:16:11.145Z"
   },
   {
    "duration": 16,
    "start_time": "2024-11-24T16:16:11.160Z"
   },
   {
    "duration": 12,
    "start_time": "2024-11-24T16:16:11.178Z"
   },
   {
    "duration": 4,
    "start_time": "2024-11-24T16:16:11.192Z"
   },
   {
    "duration": 10,
    "start_time": "2024-11-24T16:16:11.198Z"
   },
   {
    "duration": 44,
    "start_time": "2024-11-24T16:16:11.210Z"
   },
   {
    "duration": 6,
    "start_time": "2024-11-24T16:16:11.256Z"
   },
   {
    "duration": 4,
    "start_time": "2024-11-24T16:16:11.263Z"
   },
   {
    "duration": 18,
    "start_time": "2024-11-24T16:16:11.268Z"
   },
   {
    "duration": 5,
    "start_time": "2024-11-24T16:16:11.287Z"
   },
   {
    "duration": 10,
    "start_time": "2024-11-24T16:16:11.294Z"
   },
   {
    "duration": 39,
    "start_time": "2024-11-24T16:16:11.306Z"
   },
   {
    "duration": 4,
    "start_time": "2024-11-24T16:16:11.347Z"
   },
   {
    "duration": 18,
    "start_time": "2024-11-24T16:16:11.352Z"
   },
   {
    "duration": 5,
    "start_time": "2024-11-24T16:16:11.374Z"
   },
   {
    "duration": 15,
    "start_time": "2024-11-24T16:16:11.381Z"
   },
   {
    "duration": 46,
    "start_time": "2024-11-24T16:16:11.397Z"
   },
   {
    "duration": 16,
    "start_time": "2024-11-24T16:16:11.444Z"
   },
   {
    "duration": 12,
    "start_time": "2024-11-24T16:16:11.462Z"
   },
   {
    "duration": 5,
    "start_time": "2024-11-24T16:16:11.475Z"
   },
   {
    "duration": 150,
    "start_time": "2024-11-24T16:16:11.481Z"
   },
   {
    "duration": 13,
    "start_time": "2024-11-24T16:16:11.632Z"
   },
   {
    "duration": 123,
    "start_time": "2024-11-24T16:16:11.647Z"
   },
   {
    "duration": 7,
    "start_time": "2024-11-24T16:16:11.772Z"
   },
   {
    "duration": 2,
    "start_time": "2024-11-24T16:16:11.781Z"
   },
   {
    "duration": 17,
    "start_time": "2024-11-24T16:16:11.785Z"
   },
   {
    "duration": 153,
    "start_time": "2024-11-24T16:16:11.803Z"
   },
   {
    "duration": 6,
    "start_time": "2024-11-24T16:16:11.958Z"
   },
   {
    "duration": 4,
    "start_time": "2024-11-24T16:16:11.966Z"
   },
   {
    "duration": 4,
    "start_time": "2024-11-24T16:16:11.972Z"
   },
   {
    "duration": 4,
    "start_time": "2024-11-24T16:16:11.977Z"
   },
   {
    "duration": 4,
    "start_time": "2024-11-24T16:16:11.983Z"
   },
   {
    "duration": 5,
    "start_time": "2024-11-24T16:16:11.989Z"
   },
   {
    "duration": 62,
    "start_time": "2024-11-24T16:16:11.995Z"
   },
   {
    "duration": 5,
    "start_time": "2024-11-24T16:17:55.817Z"
   },
   {
    "duration": 17,
    "start_time": "2024-11-24T16:18:34.121Z"
   },
   {
    "duration": 94,
    "start_time": "2024-11-24T16:18:39.853Z"
   },
   {
    "duration": 5,
    "start_time": "2024-11-24T16:18:49.332Z"
   },
   {
    "duration": 2,
    "start_time": "2024-11-24T16:18:58.165Z"
   },
   {
    "duration": 25,
    "start_time": "2024-11-24T16:18:58.169Z"
   },
   {
    "duration": 11,
    "start_time": "2024-11-24T16:18:58.196Z"
   },
   {
    "duration": 12,
    "start_time": "2024-11-24T16:18:58.209Z"
   },
   {
    "duration": 6,
    "start_time": "2024-11-24T16:18:58.223Z"
   },
   {
    "duration": 3,
    "start_time": "2024-11-24T16:18:58.243Z"
   },
   {
    "duration": 4,
    "start_time": "2024-11-24T16:18:58.247Z"
   },
   {
    "duration": 28,
    "start_time": "2024-11-24T16:18:58.253Z"
   },
   {
    "duration": 13,
    "start_time": "2024-11-24T16:18:58.283Z"
   },
   {
    "duration": 11,
    "start_time": "2024-11-24T16:18:58.298Z"
   },
   {
    "duration": 16,
    "start_time": "2024-11-24T16:18:58.344Z"
   },
   {
    "duration": 13,
    "start_time": "2024-11-24T16:18:58.361Z"
   },
   {
    "duration": 5,
    "start_time": "2024-11-24T16:18:58.376Z"
   },
   {
    "duration": 11,
    "start_time": "2024-11-24T16:18:58.383Z"
   },
   {
    "duration": 14,
    "start_time": "2024-11-24T16:18:58.396Z"
   },
   {
    "duration": 5,
    "start_time": "2024-11-24T16:18:58.442Z"
   },
   {
    "duration": 4,
    "start_time": "2024-11-24T16:18:58.449Z"
   },
   {
    "duration": 18,
    "start_time": "2024-11-24T16:18:58.454Z"
   },
   {
    "duration": 5,
    "start_time": "2024-11-24T16:18:58.474Z"
   },
   {
    "duration": 11,
    "start_time": "2024-11-24T16:18:58.481Z"
   },
   {
    "duration": 6,
    "start_time": "2024-11-24T16:18:58.493Z"
   },
   {
    "duration": 3,
    "start_time": "2024-11-24T16:18:58.500Z"
   },
   {
    "duration": 50,
    "start_time": "2024-11-24T16:18:58.505Z"
   },
   {
    "duration": 6,
    "start_time": "2024-11-24T16:18:58.557Z"
   },
   {
    "duration": 17,
    "start_time": "2024-11-24T16:18:58.565Z"
   },
   {
    "duration": 17,
    "start_time": "2024-11-24T16:18:58.583Z"
   },
   {
    "duration": 48,
    "start_time": "2024-11-24T16:18:58.601Z"
   },
   {
    "duration": 13,
    "start_time": "2024-11-24T16:18:58.651Z"
   },
   {
    "duration": 5,
    "start_time": "2024-11-24T16:18:58.668Z"
   },
   {
    "duration": 147,
    "start_time": "2024-11-24T16:18:58.675Z"
   },
   {
    "duration": 5,
    "start_time": "2024-11-24T16:18:58.824Z"
   },
   {
    "duration": 127,
    "start_time": "2024-11-24T16:18:58.830Z"
   },
   {
    "duration": 9,
    "start_time": "2024-11-24T16:18:58.959Z"
   },
   {
    "duration": 3,
    "start_time": "2024-11-24T16:18:58.969Z"
   },
   {
    "duration": 16,
    "start_time": "2024-11-24T16:18:58.974Z"
   },
   {
    "duration": 165,
    "start_time": "2024-11-24T16:18:58.992Z"
   },
   {
    "duration": 6,
    "start_time": "2024-11-24T16:18:59.159Z"
   },
   {
    "duration": 5,
    "start_time": "2024-11-24T16:18:59.167Z"
   },
   {
    "duration": 4,
    "start_time": "2024-11-24T16:18:59.174Z"
   },
   {
    "duration": 4,
    "start_time": "2024-11-24T16:18:59.180Z"
   },
   {
    "duration": 3,
    "start_time": "2024-11-24T16:18:59.186Z"
   },
   {
    "duration": 4,
    "start_time": "2024-11-24T16:18:59.191Z"
   },
   {
    "duration": 189,
    "start_time": "2024-11-24T16:18:59.197Z"
   },
   {
    "duration": 5,
    "start_time": "2024-11-24T16:19:02.683Z"
   },
   {
    "duration": 25,
    "start_time": "2024-11-24T16:19:08.249Z"
   },
   {
    "duration": 5,
    "start_time": "2024-11-24T16:19:47.640Z"
   },
   {
    "duration": 25,
    "start_time": "2024-11-24T16:19:51.729Z"
   },
   {
    "duration": 26,
    "start_time": "2024-11-24T16:20:42.660Z"
   },
   {
    "duration": 25,
    "start_time": "2024-11-24T16:20:51.782Z"
   },
   {
    "duration": 16,
    "start_time": "2024-11-24T16:22:27.215Z"
   },
   {
    "duration": 127,
    "start_time": "2024-11-24T16:23:22.957Z"
   },
   {
    "duration": 115,
    "start_time": "2024-11-24T16:23:52.321Z"
   },
   {
    "duration": 27,
    "start_time": "2024-11-24T16:24:26.695Z"
   },
   {
    "duration": 3,
    "start_time": "2024-11-24T16:25:18.462Z"
   },
   {
    "duration": 26,
    "start_time": "2024-11-24T16:25:18.467Z"
   },
   {
    "duration": 12,
    "start_time": "2024-11-24T16:25:18.494Z"
   },
   {
    "duration": 12,
    "start_time": "2024-11-24T16:25:18.508Z"
   },
   {
    "duration": 20,
    "start_time": "2024-11-24T16:25:18.523Z"
   },
   {
    "duration": 4,
    "start_time": "2024-11-24T16:25:18.544Z"
   },
   {
    "duration": 4,
    "start_time": "2024-11-24T16:25:18.549Z"
   },
   {
    "duration": 28,
    "start_time": "2024-11-24T16:25:18.555Z"
   },
   {
    "duration": 12,
    "start_time": "2024-11-24T16:25:18.584Z"
   },
   {
    "duration": 10,
    "start_time": "2024-11-24T16:25:18.598Z"
   },
   {
    "duration": 43,
    "start_time": "2024-11-24T16:25:18.610Z"
   },
   {
    "duration": 13,
    "start_time": "2024-11-24T16:25:18.655Z"
   },
   {
    "duration": 5,
    "start_time": "2024-11-24T16:25:18.669Z"
   },
   {
    "duration": 10,
    "start_time": "2024-11-24T16:25:18.677Z"
   },
   {
    "duration": 13,
    "start_time": "2024-11-24T16:25:18.690Z"
   },
   {
    "duration": 5,
    "start_time": "2024-11-24T16:25:18.705Z"
   },
   {
    "duration": 3,
    "start_time": "2024-11-24T16:25:18.743Z"
   },
   {
    "duration": 18,
    "start_time": "2024-11-24T16:25:18.748Z"
   },
   {
    "duration": 6,
    "start_time": "2024-11-24T16:25:18.768Z"
   },
   {
    "duration": 11,
    "start_time": "2024-11-24T16:25:18.775Z"
   },
   {
    "duration": 5,
    "start_time": "2024-11-24T16:25:18.788Z"
   },
   {
    "duration": 5,
    "start_time": "2024-11-24T16:25:18.795Z"
   },
   {
    "duration": 54,
    "start_time": "2024-11-24T16:25:18.802Z"
   },
   {
    "duration": 5,
    "start_time": "2024-11-24T16:25:18.858Z"
   },
   {
    "duration": 15,
    "start_time": "2024-11-24T16:25:18.865Z"
   },
   {
    "duration": 15,
    "start_time": "2024-11-24T16:25:18.882Z"
   },
   {
    "duration": 16,
    "start_time": "2024-11-24T16:25:18.898Z"
   },
   {
    "duration": 41,
    "start_time": "2024-11-24T16:25:18.915Z"
   },
   {
    "duration": 5,
    "start_time": "2024-11-24T16:25:18.957Z"
   },
   {
    "duration": 140,
    "start_time": "2024-11-24T16:25:18.963Z"
   },
   {
    "duration": 7,
    "start_time": "2024-11-24T16:25:19.105Z"
   },
   {
    "duration": 130,
    "start_time": "2024-11-24T16:25:19.114Z"
   },
   {
    "duration": 7,
    "start_time": "2024-11-24T16:25:19.246Z"
   },
   {
    "duration": 3,
    "start_time": "2024-11-24T16:25:19.255Z"
   },
   {
    "duration": 20,
    "start_time": "2024-11-24T16:25:19.264Z"
   },
   {
    "duration": 157,
    "start_time": "2024-11-24T16:25:19.286Z"
   },
   {
    "duration": 5,
    "start_time": "2024-11-24T16:25:19.445Z"
   },
   {
    "duration": 6,
    "start_time": "2024-11-24T16:25:19.452Z"
   },
   {
    "duration": 4,
    "start_time": "2024-11-24T16:25:19.460Z"
   },
   {
    "duration": 4,
    "start_time": "2024-11-24T16:25:19.466Z"
   },
   {
    "duration": 4,
    "start_time": "2024-11-24T16:25:19.472Z"
   },
   {
    "duration": 28,
    "start_time": "2024-11-24T16:25:19.477Z"
   },
   {
    "duration": 27,
    "start_time": "2024-11-24T16:25:40.807Z"
   },
   {
    "duration": 13,
    "start_time": "2024-11-24T16:26:37.469Z"
   },
   {
    "duration": 2,
    "start_time": "2024-11-24T16:27:17.193Z"
   },
   {
    "duration": 21,
    "start_time": "2024-11-24T16:27:29.494Z"
   },
   {
    "duration": 5,
    "start_time": "2024-11-24T16:27:43.464Z"
   },
   {
    "duration": 4,
    "start_time": "2024-11-24T16:28:07.610Z"
   },
   {
    "duration": 29,
    "start_time": "2024-11-24T16:28:26.325Z"
   },
   {
    "duration": 3,
    "start_time": "2024-11-24T16:55:53.917Z"
   },
   {
    "duration": 29,
    "start_time": "2024-11-24T16:55:53.922Z"
   },
   {
    "duration": 12,
    "start_time": "2024-11-24T16:55:53.953Z"
   },
   {
    "duration": 12,
    "start_time": "2024-11-24T16:55:53.988Z"
   },
   {
    "duration": 5,
    "start_time": "2024-11-24T16:55:54.003Z"
   },
   {
    "duration": 3,
    "start_time": "2024-11-24T16:55:54.010Z"
   },
   {
    "duration": 4,
    "start_time": "2024-11-24T16:55:54.015Z"
   },
   {
    "duration": 41,
    "start_time": "2024-11-24T16:55:54.021Z"
   },
   {
    "duration": 12,
    "start_time": "2024-11-24T16:55:54.064Z"
   },
   {
    "duration": 10,
    "start_time": "2024-11-24T16:55:54.077Z"
   },
   {
    "duration": 14,
    "start_time": "2024-11-24T16:55:54.090Z"
   },
   {
    "duration": 37,
    "start_time": "2024-11-24T16:55:54.106Z"
   },
   {
    "duration": 5,
    "start_time": "2024-11-24T16:55:54.144Z"
   },
   {
    "duration": 11,
    "start_time": "2024-11-24T16:55:54.151Z"
   },
   {
    "duration": 15,
    "start_time": "2024-11-24T16:55:54.163Z"
   },
   {
    "duration": 5,
    "start_time": "2024-11-24T16:55:54.180Z"
   },
   {
    "duration": 4,
    "start_time": "2024-11-24T16:55:54.189Z"
   },
   {
    "duration": 52,
    "start_time": "2024-11-24T16:55:54.195Z"
   },
   {
    "duration": 6,
    "start_time": "2024-11-24T16:55:54.249Z"
   },
   {
    "duration": 11,
    "start_time": "2024-11-24T16:55:54.257Z"
   },
   {
    "duration": 5,
    "start_time": "2024-11-24T16:55:54.269Z"
   },
   {
    "duration": 3,
    "start_time": "2024-11-24T16:55:54.276Z"
   },
   {
    "duration": 17,
    "start_time": "2024-11-24T16:55:54.281Z"
   },
   {
    "duration": 5,
    "start_time": "2024-11-24T16:55:54.300Z"
   },
   {
    "duration": 15,
    "start_time": "2024-11-24T16:55:54.343Z"
   },
   {
    "duration": 15,
    "start_time": "2024-11-24T16:55:54.359Z"
   },
   {
    "duration": 15,
    "start_time": "2024-11-24T16:55:54.376Z"
   },
   {
    "duration": 12,
    "start_time": "2024-11-24T16:55:54.393Z"
   },
   {
    "duration": 36,
    "start_time": "2024-11-24T16:55:54.407Z"
   },
   {
    "duration": 128,
    "start_time": "2024-11-24T16:55:54.445Z"
   },
   {
    "duration": 6,
    "start_time": "2024-11-24T16:55:54.575Z"
   },
   {
    "duration": 126,
    "start_time": "2024-11-24T16:55:54.584Z"
   },
   {
    "duration": 7,
    "start_time": "2024-11-24T16:55:54.711Z"
   },
   {
    "duration": 3,
    "start_time": "2024-11-24T16:55:54.719Z"
   },
   {
    "duration": 29,
    "start_time": "2024-11-24T16:55:54.724Z"
   },
   {
    "duration": 138,
    "start_time": "2024-11-24T16:55:54.755Z"
   },
   {
    "duration": 6,
    "start_time": "2024-11-24T16:55:54.895Z"
   },
   {
    "duration": 5,
    "start_time": "2024-11-24T16:55:54.903Z"
   },
   {
    "duration": 3,
    "start_time": "2024-11-24T16:55:54.910Z"
   },
   {
    "duration": 29,
    "start_time": "2024-11-24T16:55:54.915Z"
   },
   {
    "duration": 4,
    "start_time": "2024-11-24T16:55:54.945Z"
   },
   {
    "duration": 28,
    "start_time": "2024-11-24T16:55:54.952Z"
   },
   {
    "duration": 3,
    "start_time": "2024-11-24T16:56:05.557Z"
   },
   {
    "duration": 6,
    "start_time": "2024-11-24T16:58:53.487Z"
   },
   {
    "duration": 12,
    "start_time": "2024-11-24T16:58:57.860Z"
   },
   {
    "duration": 3,
    "start_time": "2024-11-24T16:59:06.292Z"
   },
   {
    "duration": 24,
    "start_time": "2024-11-24T16:59:06.297Z"
   },
   {
    "duration": 11,
    "start_time": "2024-11-24T16:59:06.322Z"
   },
   {
    "duration": 12,
    "start_time": "2024-11-24T16:59:06.335Z"
   },
   {
    "duration": 6,
    "start_time": "2024-11-24T16:59:06.349Z"
   },
   {
    "duration": 3,
    "start_time": "2024-11-24T16:59:06.358Z"
   },
   {
    "duration": 4,
    "start_time": "2024-11-24T16:59:06.364Z"
   },
   {
    "duration": 27,
    "start_time": "2024-11-24T16:59:06.370Z"
   },
   {
    "duration": 43,
    "start_time": "2024-11-24T16:59:06.399Z"
   },
   {
    "duration": 11,
    "start_time": "2024-11-24T16:59:06.447Z"
   },
   {
    "duration": 15,
    "start_time": "2024-11-24T16:59:06.460Z"
   },
   {
    "duration": 13,
    "start_time": "2024-11-24T16:59:06.477Z"
   },
   {
    "duration": 5,
    "start_time": "2024-11-24T16:59:06.491Z"
   },
   {
    "duration": 11,
    "start_time": "2024-11-24T16:59:06.498Z"
   },
   {
    "duration": 14,
    "start_time": "2024-11-24T16:59:06.543Z"
   },
   {
    "duration": 6,
    "start_time": "2024-11-24T16:59:06.559Z"
   },
   {
    "duration": 4,
    "start_time": "2024-11-24T16:59:06.566Z"
   },
   {
    "duration": 20,
    "start_time": "2024-11-24T16:59:06.571Z"
   },
   {
    "duration": 6,
    "start_time": "2024-11-24T16:59:06.592Z"
   },
   {
    "duration": 11,
    "start_time": "2024-11-24T16:59:06.600Z"
   },
   {
    "duration": 35,
    "start_time": "2024-11-24T16:59:06.612Z"
   },
   {
    "duration": 3,
    "start_time": "2024-11-24T16:59:06.649Z"
   },
   {
    "duration": 18,
    "start_time": "2024-11-24T16:59:06.654Z"
   },
   {
    "duration": 7,
    "start_time": "2024-11-24T16:59:06.674Z"
   },
   {
    "duration": 15,
    "start_time": "2024-11-24T16:59:06.682Z"
   },
   {
    "duration": 49,
    "start_time": "2024-11-24T16:59:06.699Z"
   },
   {
    "duration": 16,
    "start_time": "2024-11-24T16:59:06.750Z"
   },
   {
    "duration": 13,
    "start_time": "2024-11-24T16:59:06.770Z"
   },
   {
    "duration": 5,
    "start_time": "2024-11-24T16:59:06.785Z"
   },
   {
    "duration": 150,
    "start_time": "2024-11-24T16:59:06.792Z"
   },
   {
    "duration": 5,
    "start_time": "2024-11-24T16:59:06.944Z"
   },
   {
    "duration": 126,
    "start_time": "2024-11-24T16:59:06.951Z"
   },
   {
    "duration": 6,
    "start_time": "2024-11-24T16:59:07.079Z"
   },
   {
    "duration": 3,
    "start_time": "2024-11-24T16:59:07.087Z"
   },
   {
    "duration": 17,
    "start_time": "2024-11-24T16:59:07.091Z"
   },
   {
    "duration": 153,
    "start_time": "2024-11-24T16:59:07.110Z"
   },
   {
    "duration": 6,
    "start_time": "2024-11-24T16:59:07.265Z"
   },
   {
    "duration": 6,
    "start_time": "2024-11-24T16:59:07.272Z"
   },
   {
    "duration": 4,
    "start_time": "2024-11-24T16:59:07.279Z"
   },
   {
    "duration": 4,
    "start_time": "2024-11-24T16:59:07.284Z"
   },
   {
    "duration": 4,
    "start_time": "2024-11-24T16:59:07.290Z"
   },
   {
    "duration": 61,
    "start_time": "2024-11-24T16:59:07.295Z"
   },
   {
    "duration": 23,
    "start_time": "2024-11-24T16:59:43.246Z"
   },
   {
    "duration": 11,
    "start_time": "2024-11-24T16:59:45.077Z"
   },
   {
    "duration": 13,
    "start_time": "2024-11-24T16:59:51.494Z"
   },
   {
    "duration": 6,
    "start_time": "2024-11-24T16:59:53.740Z"
   },
   {
    "duration": 3,
    "start_time": "2024-11-24T16:59:57.216Z"
   },
   {
    "duration": 4,
    "start_time": "2024-11-24T16:59:58.553Z"
   },
   {
    "duration": 27,
    "start_time": "2024-11-24T17:00:00.682Z"
   },
   {
    "duration": 16,
    "start_time": "2024-11-24T17:00:03.310Z"
   },
   {
    "duration": 12,
    "start_time": "2024-11-24T17:00:09.797Z"
   },
   {
    "duration": 5,
    "start_time": "2024-11-24T17:00:22.817Z"
   },
   {
    "duration": 12,
    "start_time": "2024-11-24T17:00:28.638Z"
   },
   {
    "duration": 14,
    "start_time": "2024-11-24T17:00:36.232Z"
   },
   {
    "duration": 13,
    "start_time": "2024-11-24T17:00:48.271Z"
   },
   {
    "duration": 5,
    "start_time": "2024-11-24T17:01:02.786Z"
   },
   {
    "duration": 3,
    "start_time": "2024-11-24T17:01:06.371Z"
   },
   {
    "duration": 47,
    "start_time": "2024-11-24T17:01:10.609Z"
   },
   {
    "duration": 42,
    "start_time": "2024-11-24T17:01:14.760Z"
   },
   {
    "duration": 19,
    "start_time": "2024-11-24T17:02:04.242Z"
   },
   {
    "duration": 6,
    "start_time": "2024-11-24T17:02:21.564Z"
   },
   {
    "duration": 12,
    "start_time": "2024-11-24T17:02:26.264Z"
   },
   {
    "duration": 5,
    "start_time": "2024-11-24T17:02:30.784Z"
   },
   {
    "duration": 3,
    "start_time": "2024-11-24T17:02:34.046Z"
   },
   {
    "duration": 18,
    "start_time": "2024-11-24T17:02:37.052Z"
   },
   {
    "duration": 5,
    "start_time": "2024-11-24T17:02:39.606Z"
   },
   {
    "duration": 17,
    "start_time": "2024-11-24T17:02:41.902Z"
   },
   {
    "duration": 16,
    "start_time": "2024-11-24T17:02:49.175Z"
   },
   {
    "duration": 13,
    "start_time": "2024-11-24T17:03:07.364Z"
   },
   {
    "duration": 15,
    "start_time": "2024-11-24T17:03:24.284Z"
   },
   {
    "duration": 16,
    "start_time": "2024-11-24T17:03:29.040Z"
   },
   {
    "duration": 13,
    "start_time": "2024-11-24T17:03:37.653Z"
   },
   {
    "duration": 4,
    "start_time": "2024-11-24T17:03:45.678Z"
   },
   {
    "duration": 126,
    "start_time": "2024-11-24T17:03:50.644Z"
   },
   {
    "duration": 5,
    "start_time": "2024-11-24T17:03:56.930Z"
   },
   {
    "duration": 112,
    "start_time": "2024-11-24T17:04:00.362Z"
   },
   {
    "duration": 6,
    "start_time": "2024-11-24T17:04:06.225Z"
   },
   {
    "duration": 3,
    "start_time": "2024-11-24T17:04:09.470Z"
   },
   {
    "duration": 17,
    "start_time": "2024-11-24T17:04:13.089Z"
   },
   {
    "duration": 138,
    "start_time": "2024-11-24T17:04:16.882Z"
   },
   {
    "duration": 6,
    "start_time": "2024-11-24T17:04:23.108Z"
   },
   {
    "duration": 6,
    "start_time": "2024-11-24T17:04:28.671Z"
   },
   {
    "duration": 20,
    "start_time": "2024-11-24T17:05:58.993Z"
   },
   {
    "duration": 94,
    "start_time": "2024-11-24T17:06:39.841Z"
   },
   {
    "duration": 2,
    "start_time": "2024-11-24T17:06:55.971Z"
   },
   {
    "duration": 24,
    "start_time": "2024-11-24T17:06:55.981Z"
   },
   {
    "duration": 12,
    "start_time": "2024-11-24T17:06:56.007Z"
   },
   {
    "duration": 13,
    "start_time": "2024-11-24T17:06:56.021Z"
   },
   {
    "duration": 8,
    "start_time": "2024-11-24T17:06:56.035Z"
   },
   {
    "duration": 3,
    "start_time": "2024-11-24T17:06:56.046Z"
   },
   {
    "duration": 4,
    "start_time": "2024-11-24T17:06:56.051Z"
   },
   {
    "duration": 28,
    "start_time": "2024-11-24T17:06:56.057Z"
   },
   {
    "duration": 12,
    "start_time": "2024-11-24T17:06:56.088Z"
   },
   {
    "duration": 45,
    "start_time": "2024-11-24T17:06:56.103Z"
   },
   {
    "duration": 18,
    "start_time": "2024-11-24T17:06:56.150Z"
   },
   {
    "duration": 15,
    "start_time": "2024-11-24T17:06:56.170Z"
   },
   {
    "duration": 6,
    "start_time": "2024-11-24T17:06:56.187Z"
   },
   {
    "duration": 12,
    "start_time": "2024-11-24T17:06:56.196Z"
   },
   {
    "duration": 15,
    "start_time": "2024-11-24T17:06:56.246Z"
   },
   {
    "duration": 6,
    "start_time": "2024-11-24T17:06:56.263Z"
   },
   {
    "duration": 4,
    "start_time": "2024-11-24T17:06:56.272Z"
   },
   {
    "duration": 19,
    "start_time": "2024-11-24T17:06:56.277Z"
   },
   {
    "duration": 6,
    "start_time": "2024-11-24T17:06:56.298Z"
   },
   {
    "duration": 48,
    "start_time": "2024-11-24T17:06:56.306Z"
   },
   {
    "duration": 5,
    "start_time": "2024-11-24T17:06:56.356Z"
   },
   {
    "duration": 4,
    "start_time": "2024-11-24T17:06:56.363Z"
   },
   {
    "duration": 21,
    "start_time": "2024-11-24T17:06:56.369Z"
   },
   {
    "duration": 6,
    "start_time": "2024-11-24T17:06:56.392Z"
   },
   {
    "duration": 52,
    "start_time": "2024-11-24T17:06:56.400Z"
   },
   {
    "duration": 17,
    "start_time": "2024-11-24T17:06:56.454Z"
   },
   {
    "duration": 18,
    "start_time": "2024-11-24T17:06:56.473Z"
   },
   {
    "duration": 15,
    "start_time": "2024-11-24T17:06:56.492Z"
   },
   {
    "duration": 35,
    "start_time": "2024-11-24T17:06:56.509Z"
   },
   {
    "duration": 137,
    "start_time": "2024-11-24T17:06:56.546Z"
   },
   {
    "duration": 6,
    "start_time": "2024-11-24T17:06:56.685Z"
   },
   {
    "duration": 135,
    "start_time": "2024-11-24T17:06:56.693Z"
   },
   {
    "duration": 16,
    "start_time": "2024-11-24T17:06:56.829Z"
   },
   {
    "duration": 4,
    "start_time": "2024-11-24T17:06:56.847Z"
   },
   {
    "duration": 21,
    "start_time": "2024-11-24T17:06:56.853Z"
   },
   {
    "duration": 162,
    "start_time": "2024-11-24T17:06:56.876Z"
   },
   {
    "duration": 7,
    "start_time": "2024-11-24T17:06:57.043Z"
   },
   {
    "duration": 5,
    "start_time": "2024-11-24T17:06:57.052Z"
   },
   {
    "duration": 3,
    "start_time": "2024-11-24T17:06:57.061Z"
   },
   {
    "duration": 4,
    "start_time": "2024-11-24T17:06:57.067Z"
   },
   {
    "duration": 4,
    "start_time": "2024-11-24T17:06:57.073Z"
   },
   {
    "duration": 5,
    "start_time": "2024-11-24T17:07:10.662Z"
   },
   {
    "duration": 4,
    "start_time": "2024-11-24T17:07:14.198Z"
   },
   {
    "duration": 5,
    "start_time": "2024-11-24T17:07:38.039Z"
   },
   {
    "duration": 5,
    "start_time": "2024-11-24T17:09:18.861Z"
   },
   {
    "duration": 5,
    "start_time": "2024-11-24T17:09:39.993Z"
   },
   {
    "duration": 91,
    "start_time": "2024-11-24T17:09:43.526Z"
   },
   {
    "duration": 94,
    "start_time": "2024-11-24T17:09:53.455Z"
   },
   {
    "duration": 3,
    "start_time": "2024-11-24T17:09:59.963Z"
   },
   {
    "duration": 23,
    "start_time": "2024-11-24T17:09:59.969Z"
   },
   {
    "duration": 10,
    "start_time": "2024-11-24T17:09:59.993Z"
   },
   {
    "duration": 12,
    "start_time": "2024-11-24T17:10:00.006Z"
   },
   {
    "duration": 6,
    "start_time": "2024-11-24T17:10:00.019Z"
   },
   {
    "duration": 2,
    "start_time": "2024-11-24T17:10:00.043Z"
   },
   {
    "duration": 3,
    "start_time": "2024-11-24T17:10:00.047Z"
   },
   {
    "duration": 26,
    "start_time": "2024-11-24T17:10:00.052Z"
   },
   {
    "duration": 12,
    "start_time": "2024-11-24T17:10:00.082Z"
   },
   {
    "duration": 9,
    "start_time": "2024-11-24T17:10:00.097Z"
   },
   {
    "duration": 44,
    "start_time": "2024-11-24T17:10:00.108Z"
   },
   {
    "duration": 12,
    "start_time": "2024-11-24T17:10:00.153Z"
   },
   {
    "duration": 5,
    "start_time": "2024-11-24T17:10:00.166Z"
   },
   {
    "duration": 10,
    "start_time": "2024-11-24T17:10:00.172Z"
   },
   {
    "duration": 12,
    "start_time": "2024-11-24T17:10:00.184Z"
   },
   {
    "duration": 5,
    "start_time": "2024-11-24T17:10:00.198Z"
   },
   {
    "duration": 4,
    "start_time": "2024-11-24T17:10:00.204Z"
   },
   {
    "duration": 17,
    "start_time": "2024-11-24T17:10:00.243Z"
   },
   {
    "duration": 5,
    "start_time": "2024-11-24T17:10:00.262Z"
   },
   {
    "duration": 10,
    "start_time": "2024-11-24T17:10:00.270Z"
   },
   {
    "duration": 6,
    "start_time": "2024-11-24T17:10:00.281Z"
   },
   {
    "duration": 3,
    "start_time": "2024-11-24T17:10:00.289Z"
   },
   {
    "duration": 49,
    "start_time": "2024-11-24T17:10:00.294Z"
   },
   {
    "duration": 4,
    "start_time": "2024-11-24T17:10:00.348Z"
   },
   {
    "duration": 14,
    "start_time": "2024-11-24T17:10:00.354Z"
   },
   {
    "duration": 15,
    "start_time": "2024-11-24T17:10:00.369Z"
   },
   {
    "duration": 16,
    "start_time": "2024-11-24T17:10:00.385Z"
   },
   {
    "duration": 40,
    "start_time": "2024-11-24T17:10:00.403Z"
   },
   {
    "duration": 5,
    "start_time": "2024-11-24T17:10:00.445Z"
   },
   {
    "duration": 142,
    "start_time": "2024-11-24T17:10:00.451Z"
   },
   {
    "duration": 5,
    "start_time": "2024-11-24T17:10:00.595Z"
   },
   {
    "duration": 269,
    "start_time": "2024-11-24T17:10:00.602Z"
   },
   {
    "duration": 6,
    "start_time": "2024-11-24T17:10:00.873Z"
   },
   {
    "duration": 2,
    "start_time": "2024-11-24T17:10:00.881Z"
   },
   {
    "duration": 7,
    "start_time": "2024-11-24T17:10:00.885Z"
   },
   {
    "duration": 154,
    "start_time": "2024-11-24T17:10:00.893Z"
   },
   {
    "duration": 8,
    "start_time": "2024-11-24T17:10:01.049Z"
   },
   {
    "duration": 5,
    "start_time": "2024-11-24T17:10:01.060Z"
   },
   {
    "duration": 4,
    "start_time": "2024-11-24T17:10:01.067Z"
   },
   {
    "duration": 4,
    "start_time": "2024-11-24T17:10:01.073Z"
   },
   {
    "duration": 4,
    "start_time": "2024-11-24T17:10:01.079Z"
   },
   {
    "duration": 6,
    "start_time": "2024-11-24T17:11:04.262Z"
   },
   {
    "duration": 6,
    "start_time": "2024-11-24T17:11:38.584Z"
   },
   {
    "duration": 5,
    "start_time": "2024-11-24T17:12:32.334Z"
   },
   {
    "duration": 10,
    "start_time": "2024-11-24T17:12:46.402Z"
   },
   {
    "duration": 10,
    "start_time": "2024-11-24T17:13:08.222Z"
   },
   {
    "duration": 10,
    "start_time": "2024-11-24T17:13:13.433Z"
   },
   {
    "duration": 14,
    "start_time": "2024-11-24T17:14:05.173Z"
   },
   {
    "duration": 3,
    "start_time": "2024-11-24T17:14:08.627Z"
   },
   {
    "duration": 22,
    "start_time": "2024-11-24T17:14:08.632Z"
   },
   {
    "duration": 11,
    "start_time": "2024-11-24T17:14:08.656Z"
   },
   {
    "duration": 12,
    "start_time": "2024-11-24T17:14:08.669Z"
   },
   {
    "duration": 5,
    "start_time": "2024-11-24T17:14:08.683Z"
   },
   {
    "duration": 3,
    "start_time": "2024-11-24T17:14:08.690Z"
   },
   {
    "duration": 3,
    "start_time": "2024-11-24T17:14:08.695Z"
   },
   {
    "duration": 60,
    "start_time": "2024-11-24T17:14:08.700Z"
   },
   {
    "duration": 12,
    "start_time": "2024-11-24T17:14:08.762Z"
   },
   {
    "duration": 10,
    "start_time": "2024-11-24T17:14:08.776Z"
   },
   {
    "duration": 16,
    "start_time": "2024-11-24T17:14:08.790Z"
   },
   {
    "duration": 35,
    "start_time": "2024-11-24T17:14:08.808Z"
   },
   {
    "duration": 4,
    "start_time": "2024-11-24T17:14:08.846Z"
   },
   {
    "duration": 12,
    "start_time": "2024-11-24T17:14:08.852Z"
   },
   {
    "duration": 12,
    "start_time": "2024-11-24T17:14:08.866Z"
   },
   {
    "duration": 5,
    "start_time": "2024-11-24T17:14:08.880Z"
   },
   {
    "duration": 4,
    "start_time": "2024-11-24T17:14:08.886Z"
   },
   {
    "duration": 17,
    "start_time": "2024-11-24T17:14:08.891Z"
   },
   {
    "duration": 5,
    "start_time": "2024-11-24T17:14:08.942Z"
   },
   {
    "duration": 11,
    "start_time": "2024-11-24T17:14:08.950Z"
   },
   {
    "duration": 5,
    "start_time": "2024-11-24T17:14:08.963Z"
   },
   {
    "duration": 3,
    "start_time": "2024-11-24T17:14:08.970Z"
   },
   {
    "duration": 18,
    "start_time": "2024-11-24T17:14:08.975Z"
   },
   {
    "duration": 5,
    "start_time": "2024-11-24T17:14:08.994Z"
   },
   {
    "duration": 51,
    "start_time": "2024-11-24T17:14:09.001Z"
   },
   {
    "duration": 16,
    "start_time": "2024-11-24T17:14:09.054Z"
   },
   {
    "duration": 16,
    "start_time": "2024-11-24T17:14:09.072Z"
   },
   {
    "duration": 11,
    "start_time": "2024-11-24T17:14:09.089Z"
   },
   {
    "duration": 4,
    "start_time": "2024-11-24T17:14:09.105Z"
   },
   {
    "duration": 146,
    "start_time": "2024-11-24T17:14:09.111Z"
   },
   {
    "duration": 6,
    "start_time": "2024-11-24T17:14:09.259Z"
   },
   {
    "duration": 129,
    "start_time": "2024-11-24T17:14:09.267Z"
   },
   {
    "duration": 10,
    "start_time": "2024-11-24T17:14:09.399Z"
   },
   {
    "duration": 5,
    "start_time": "2024-11-24T17:14:09.411Z"
   },
   {
    "duration": 29,
    "start_time": "2024-11-24T17:14:09.419Z"
   },
   {
    "duration": 211,
    "start_time": "2024-11-24T17:14:09.451Z"
   },
   {
    "duration": 9,
    "start_time": "2024-11-24T17:14:09.665Z"
   },
   {
    "duration": 7,
    "start_time": "2024-11-24T17:14:09.677Z"
   },
   {
    "duration": 8,
    "start_time": "2024-11-24T17:14:09.686Z"
   },
   {
    "duration": 6,
    "start_time": "2024-11-24T17:14:09.697Z"
   },
   {
    "duration": 5,
    "start_time": "2024-11-24T17:14:09.742Z"
   },
   {
    "duration": 16,
    "start_time": "2024-11-24T17:14:09.750Z"
   },
   {
    "duration": 8,
    "start_time": "2024-11-24T17:14:32.433Z"
   },
   {
    "duration": 8,
    "start_time": "2024-11-24T17:14:35.411Z"
   },
   {
    "duration": 8,
    "start_time": "2024-11-24T17:14:53.453Z"
   },
   {
    "duration": 13,
    "start_time": "2024-11-24T17:15:57.807Z"
   },
   {
    "duration": 28,
    "start_time": "2024-11-24T17:16:07.488Z"
   },
   {
    "duration": 20,
    "start_time": "2024-11-24T17:17:37.166Z"
   },
   {
    "duration": 5,
    "start_time": "2024-11-24T17:19:07.852Z"
   },
   {
    "duration": 13,
    "start_time": "2024-11-24T17:19:23.137Z"
   },
   {
    "duration": 13,
    "start_time": "2024-11-24T17:19:29.495Z"
   },
   {
    "duration": 5,
    "start_time": "2024-11-24T17:19:53.407Z"
   },
   {
    "duration": 4,
    "start_time": "2024-11-24T17:33:09.698Z"
   },
   {
    "duration": 3,
    "start_time": "2024-11-24T17:33:49.014Z"
   },
   {
    "duration": 14,
    "start_time": "2024-11-24T17:34:04.214Z"
   },
   {
    "duration": 18,
    "start_time": "2024-11-24T17:41:08.548Z"
   },
   {
    "duration": 2,
    "start_time": "2024-11-24T17:49:05.717Z"
   },
   {
    "duration": 24,
    "start_time": "2024-11-24T17:49:05.722Z"
   },
   {
    "duration": 13,
    "start_time": "2024-11-24T17:49:05.748Z"
   },
   {
    "duration": 14,
    "start_time": "2024-11-24T17:49:05.764Z"
   },
   {
    "duration": 6,
    "start_time": "2024-11-24T17:49:05.782Z"
   },
   {
    "duration": 4,
    "start_time": "2024-11-24T17:49:05.790Z"
   },
   {
    "duration": 5,
    "start_time": "2024-11-24T17:49:05.795Z"
   },
   {
    "duration": 73,
    "start_time": "2024-11-24T17:49:05.802Z"
   },
   {
    "duration": 14,
    "start_time": "2024-11-24T17:49:05.878Z"
   },
   {
    "duration": 14,
    "start_time": "2024-11-24T17:49:05.894Z"
   },
   {
    "duration": 38,
    "start_time": "2024-11-24T17:49:05.911Z"
   },
   {
    "duration": 15,
    "start_time": "2024-11-24T17:49:05.951Z"
   },
   {
    "duration": 6,
    "start_time": "2024-11-24T17:49:05.969Z"
   },
   {
    "duration": 13,
    "start_time": "2024-11-24T17:49:05.978Z"
   },
   {
    "duration": 16,
    "start_time": "2024-11-24T17:49:05.992Z"
   },
   {
    "duration": 37,
    "start_time": "2024-11-24T17:49:06.009Z"
   },
   {
    "duration": 4,
    "start_time": "2024-11-24T17:49:06.048Z"
   },
   {
    "duration": 19,
    "start_time": "2024-11-24T17:49:06.054Z"
   },
   {
    "duration": 6,
    "start_time": "2024-11-24T17:49:06.074Z"
   },
   {
    "duration": 13,
    "start_time": "2024-11-24T17:49:06.082Z"
   },
   {
    "duration": 7,
    "start_time": "2024-11-24T17:49:06.096Z"
   },
   {
    "duration": 41,
    "start_time": "2024-11-24T17:49:06.105Z"
   },
   {
    "duration": 22,
    "start_time": "2024-11-24T17:49:06.148Z"
   },
   {
    "duration": 6,
    "start_time": "2024-11-24T17:49:06.172Z"
   },
   {
    "duration": 17,
    "start_time": "2024-11-24T17:49:06.180Z"
   },
   {
    "duration": 46,
    "start_time": "2024-11-24T17:49:06.200Z"
   },
   {
    "duration": 17,
    "start_time": "2024-11-24T17:49:06.248Z"
   },
   {
    "duration": 13,
    "start_time": "2024-11-24T17:49:06.267Z"
   },
   {
    "duration": 5,
    "start_time": "2024-11-24T17:49:06.283Z"
   },
   {
    "duration": 150,
    "start_time": "2024-11-24T17:49:06.289Z"
   },
   {
    "duration": 6,
    "start_time": "2024-11-24T17:49:06.443Z"
   },
   {
    "duration": 132,
    "start_time": "2024-11-24T17:49:06.451Z"
   },
   {
    "duration": 7,
    "start_time": "2024-11-24T17:49:06.585Z"
   },
   {
    "duration": 2,
    "start_time": "2024-11-24T17:49:06.594Z"
   },
   {
    "duration": 6,
    "start_time": "2024-11-24T17:49:06.599Z"
   },
   {
    "duration": 159,
    "start_time": "2024-11-24T17:49:06.606Z"
   },
   {
    "duration": 6,
    "start_time": "2024-11-24T17:49:06.768Z"
   },
   {
    "duration": 5,
    "start_time": "2024-11-24T17:49:06.776Z"
   },
   {
    "duration": 3,
    "start_time": "2024-11-24T17:49:06.783Z"
   },
   {
    "duration": 4,
    "start_time": "2024-11-24T17:49:06.788Z"
   },
   {
    "duration": 4,
    "start_time": "2024-11-24T17:49:06.796Z"
   },
   {
    "duration": 5,
    "start_time": "2024-11-24T17:49:06.801Z"
   },
   {
    "duration": 15,
    "start_time": "2024-11-24T17:49:06.844Z"
   },
   {
    "duration": 35,
    "start_time": "2024-11-24T17:49:20.631Z"
   },
   {
    "duration": 3,
    "start_time": "2024-11-24T17:50:29.484Z"
   },
   {
    "duration": 4,
    "start_time": "2024-11-24T17:50:40.392Z"
   },
   {
    "duration": 17,
    "start_time": "2024-11-24T17:50:42.106Z"
   },
   {
    "duration": 2,
    "start_time": "2024-11-24T17:50:45.534Z"
   },
   {
    "duration": 24,
    "start_time": "2024-11-24T17:50:45.548Z"
   },
   {
    "duration": 12,
    "start_time": "2024-11-24T17:50:45.574Z"
   },
   {
    "duration": 12,
    "start_time": "2024-11-24T17:50:45.588Z"
   },
   {
    "duration": 6,
    "start_time": "2024-11-24T17:50:45.601Z"
   },
   {
    "duration": 3,
    "start_time": "2024-11-24T17:50:45.609Z"
   },
   {
    "duration": 30,
    "start_time": "2024-11-24T17:50:45.613Z"
   },
   {
    "duration": 31,
    "start_time": "2024-11-24T17:50:45.644Z"
   },
   {
    "duration": 12,
    "start_time": "2024-11-24T17:50:45.676Z"
   },
   {
    "duration": 10,
    "start_time": "2024-11-24T17:50:45.690Z"
   },
   {
    "duration": 42,
    "start_time": "2024-11-24T17:50:45.702Z"
   },
   {
    "duration": 13,
    "start_time": "2024-11-24T17:50:45.745Z"
   },
   {
    "duration": 5,
    "start_time": "2024-11-24T17:50:45.759Z"
   },
   {
    "duration": 12,
    "start_time": "2024-11-24T17:50:45.766Z"
   },
   {
    "duration": 13,
    "start_time": "2024-11-24T17:50:45.781Z"
   },
   {
    "duration": 6,
    "start_time": "2024-11-24T17:50:45.795Z"
   },
   {
    "duration": 4,
    "start_time": "2024-11-24T17:50:45.802Z"
   },
   {
    "duration": 52,
    "start_time": "2024-11-24T17:50:45.807Z"
   },
   {
    "duration": 5,
    "start_time": "2024-11-24T17:50:45.861Z"
   },
   {
    "duration": 12,
    "start_time": "2024-11-24T17:50:45.869Z"
   },
   {
    "duration": 6,
    "start_time": "2024-11-24T17:50:45.882Z"
   },
   {
    "duration": 4,
    "start_time": "2024-11-24T17:50:45.889Z"
   },
   {
    "duration": 54,
    "start_time": "2024-11-24T17:50:45.894Z"
   },
   {
    "duration": 5,
    "start_time": "2024-11-24T17:50:45.950Z"
   },
   {
    "duration": 16,
    "start_time": "2024-11-24T17:50:45.957Z"
   },
   {
    "duration": 16,
    "start_time": "2024-11-24T17:50:45.974Z"
   },
   {
    "duration": 15,
    "start_time": "2024-11-24T17:50:45.992Z"
   },
   {
    "duration": 41,
    "start_time": "2024-11-24T17:50:46.008Z"
   },
   {
    "duration": 5,
    "start_time": "2024-11-24T17:50:46.050Z"
   },
   {
    "duration": 131,
    "start_time": "2024-11-24T17:50:46.057Z"
   },
   {
    "duration": 5,
    "start_time": "2024-11-24T17:50:46.190Z"
   },
   {
    "duration": 127,
    "start_time": "2024-11-24T17:50:46.197Z"
   },
   {
    "duration": 7,
    "start_time": "2024-11-24T17:50:46.326Z"
   },
   {
    "duration": 3,
    "start_time": "2024-11-24T17:50:46.343Z"
   },
   {
    "duration": 5,
    "start_time": "2024-11-24T17:50:46.348Z"
   },
   {
    "duration": 144,
    "start_time": "2024-11-24T17:50:46.355Z"
   },
   {
    "duration": 6,
    "start_time": "2024-11-24T17:50:46.501Z"
   },
   {
    "duration": 5,
    "start_time": "2024-11-24T17:50:46.509Z"
   },
   {
    "duration": 5,
    "start_time": "2024-11-24T17:50:46.515Z"
   },
   {
    "duration": 24,
    "start_time": "2024-11-24T17:50:46.521Z"
   },
   {
    "duration": 4,
    "start_time": "2024-11-24T17:50:46.547Z"
   },
   {
    "duration": 6,
    "start_time": "2024-11-24T17:50:46.556Z"
   },
   {
    "duration": 28,
    "start_time": "2024-11-24T17:50:46.563Z"
   },
   {
    "duration": 25,
    "start_time": "2024-11-24T17:50:51.097Z"
   },
   {
    "duration": 3,
    "start_time": "2024-11-24T17:51:31.148Z"
   },
   {
    "duration": 19,
    "start_time": "2024-11-24T17:51:34.845Z"
   },
   {
    "duration": 23,
    "start_time": "2024-11-24T17:51:46.992Z"
   },
   {
    "duration": 4,
    "start_time": "2024-11-24T17:52:21.253Z"
   },
   {
    "duration": 24,
    "start_time": "2024-11-24T17:52:25.083Z"
   },
   {
    "duration": 42,
    "start_time": "2024-11-24T17:53:49.362Z"
   },
   {
    "duration": 4,
    "start_time": "2024-11-24T17:54:25.724Z"
   },
   {
    "duration": 5,
    "start_time": "2024-11-24T17:54:27.191Z"
   },
   {
    "duration": 8,
    "start_time": "2024-11-24T17:54:35.125Z"
   },
   {
    "duration": 3,
    "start_time": "2024-11-24T17:54:46.691Z"
   },
   {
    "duration": 5,
    "start_time": "2024-11-24T17:55:02.569Z"
   },
   {
    "duration": 3,
    "start_time": "2024-11-24T17:55:12.774Z"
   },
   {
    "duration": 24,
    "start_time": "2024-11-24T17:55:16.210Z"
   },
   {
    "duration": 12,
    "start_time": "2024-11-24T17:55:17.244Z"
   },
   {
    "duration": 13,
    "start_time": "2024-11-24T17:55:18.355Z"
   },
   {
    "duration": 13,
    "start_time": "2024-11-24T17:55:21.626Z"
   },
   {
    "duration": 6,
    "start_time": "2024-11-24T17:55:29.745Z"
   },
   {
    "duration": 3,
    "start_time": "2024-11-24T17:55:37.168Z"
   },
   {
    "duration": 4,
    "start_time": "2024-11-24T17:55:39.795Z"
   },
   {
    "duration": 31,
    "start_time": "2024-11-24T17:55:42.399Z"
   },
   {
    "duration": 12,
    "start_time": "2024-11-24T17:55:49.724Z"
   },
   {
    "duration": 13,
    "start_time": "2024-11-24T17:55:52.316Z"
   },
   {
    "duration": 5,
    "start_time": "2024-11-24T17:55:56.426Z"
   },
   {
    "duration": 13,
    "start_time": "2024-11-24T17:55:58.720Z"
   },
   {
    "duration": 14,
    "start_time": "2024-11-24T17:56:04.290Z"
   },
   {
    "duration": 6,
    "start_time": "2024-11-24T17:56:08.614Z"
   },
   {
    "duration": 4,
    "start_time": "2024-11-24T17:56:11.111Z"
   },
   {
    "duration": 18,
    "start_time": "2024-11-24T17:56:14.629Z"
   },
   {
    "duration": 6,
    "start_time": "2024-11-24T17:56:24.897Z"
   },
   {
    "duration": 13,
    "start_time": "2024-11-24T17:56:27.631Z"
   },
   {
    "duration": 6,
    "start_time": "2024-11-24T17:56:30.665Z"
   },
   {
    "duration": 4,
    "start_time": "2024-11-24T17:56:44.339Z"
   },
   {
    "duration": 6,
    "start_time": "2024-11-24T17:56:50.399Z"
   },
   {
    "duration": 6,
    "start_time": "2024-11-24T17:57:03.348Z"
   },
   {
    "duration": 6,
    "start_time": "2024-11-24T17:57:14.491Z"
   },
   {
    "duration": 18,
    "start_time": "2024-11-24T17:57:28.919Z"
   },
   {
    "duration": 25,
    "start_time": "2024-11-24T17:57:38.100Z"
   },
   {
    "duration": 2,
    "start_time": "2024-11-24T17:57:46.030Z"
   },
   {
    "duration": 25,
    "start_time": "2024-11-24T17:57:46.037Z"
   },
   {
    "duration": 12,
    "start_time": "2024-11-24T17:57:46.064Z"
   },
   {
    "duration": 13,
    "start_time": "2024-11-24T17:57:46.078Z"
   },
   {
    "duration": 6,
    "start_time": "2024-11-24T17:57:46.093Z"
   },
   {
    "duration": 3,
    "start_time": "2024-11-24T17:57:46.101Z"
   },
   {
    "duration": 4,
    "start_time": "2024-11-24T17:57:46.106Z"
   },
   {
    "duration": 61,
    "start_time": "2024-11-24T17:57:46.112Z"
   },
   {
    "duration": 14,
    "start_time": "2024-11-24T17:57:46.174Z"
   },
   {
    "duration": 11,
    "start_time": "2024-11-24T17:57:46.189Z"
   },
   {
    "duration": 12,
    "start_time": "2024-11-24T17:57:46.202Z"
   },
   {
    "duration": 29,
    "start_time": "2024-11-24T17:57:46.216Z"
   },
   {
    "duration": 10,
    "start_time": "2024-11-24T17:57:46.247Z"
   },
   {
    "duration": 14,
    "start_time": "2024-11-24T17:57:46.259Z"
   },
   {
    "duration": 5,
    "start_time": "2024-11-24T17:57:46.277Z"
   },
   {
    "duration": 5,
    "start_time": "2024-11-24T17:57:46.283Z"
   },
   {
    "duration": 17,
    "start_time": "2024-11-24T17:57:46.290Z"
   },
   {
    "duration": 37,
    "start_time": "2024-11-24T17:57:46.309Z"
   },
   {
    "duration": 13,
    "start_time": "2024-11-24T17:57:46.348Z"
   },
   {
    "duration": 5,
    "start_time": "2024-11-24T17:57:46.362Z"
   },
   {
    "duration": 4,
    "start_time": "2024-11-24T17:57:46.369Z"
   },
   {
    "duration": 6,
    "start_time": "2024-11-24T17:57:46.375Z"
   },
   {
    "duration": 6,
    "start_time": "2024-11-24T17:57:46.383Z"
   },
   {
    "duration": 52,
    "start_time": "2024-11-24T17:57:46.391Z"
   },
   {
    "duration": 19,
    "start_time": "2024-11-24T17:57:46.445Z"
   },
   {
    "duration": 20,
    "start_time": "2024-11-24T17:57:46.466Z"
   },
   {
    "duration": 12,
    "start_time": "2024-11-24T17:57:46.488Z"
   },
   {
    "duration": 4,
    "start_time": "2024-11-24T17:57:46.501Z"
   },
   {
    "duration": 172,
    "start_time": "2024-11-24T17:57:46.508Z"
   },
   {
    "duration": 5,
    "start_time": "2024-11-24T17:57:46.682Z"
   },
   {
    "duration": 124,
    "start_time": "2024-11-24T17:57:46.689Z"
   },
   {
    "duration": 6,
    "start_time": "2024-11-24T17:57:46.816Z"
   },
   {
    "duration": 3,
    "start_time": "2024-11-24T17:57:46.824Z"
   },
   {
    "duration": 19,
    "start_time": "2024-11-24T17:57:46.828Z"
   },
   {
    "duration": 142,
    "start_time": "2024-11-24T17:57:46.849Z"
   },
   {
    "duration": 7,
    "start_time": "2024-11-24T17:57:46.992Z"
   },
   {
    "duration": 4,
    "start_time": "2024-11-24T17:57:47.001Z"
   },
   {
    "duration": 4,
    "start_time": "2024-11-24T17:57:47.007Z"
   },
   {
    "duration": 4,
    "start_time": "2024-11-24T17:57:47.012Z"
   },
   {
    "duration": 3,
    "start_time": "2024-11-24T17:57:47.042Z"
   },
   {
    "duration": 5,
    "start_time": "2024-11-24T17:57:47.047Z"
   },
   {
    "duration": 25,
    "start_time": "2024-11-24T17:57:47.057Z"
   },
   {
    "duration": 2,
    "start_time": "2024-11-24T17:58:24.881Z"
   },
   {
    "duration": 23,
    "start_time": "2024-11-24T17:58:24.886Z"
   },
   {
    "duration": 11,
    "start_time": "2024-11-24T17:58:24.910Z"
   },
   {
    "duration": 12,
    "start_time": "2024-11-24T17:58:24.924Z"
   },
   {
    "duration": 6,
    "start_time": "2024-11-24T17:58:24.938Z"
   },
   {
    "duration": 2,
    "start_time": "2024-11-24T17:58:24.946Z"
   },
   {
    "duration": 4,
    "start_time": "2024-11-24T17:58:24.950Z"
   },
   {
    "duration": 28,
    "start_time": "2024-11-24T17:58:24.956Z"
   },
   {
    "duration": 12,
    "start_time": "2024-11-24T17:58:24.985Z"
   },
   {
    "duration": 10,
    "start_time": "2024-11-24T17:58:25.001Z"
   },
   {
    "duration": 12,
    "start_time": "2024-11-24T17:58:25.043Z"
   },
   {
    "duration": 5,
    "start_time": "2024-11-24T17:58:25.057Z"
   },
   {
    "duration": 10,
    "start_time": "2024-11-24T17:58:25.064Z"
   },
   {
    "duration": 12,
    "start_time": "2024-11-24T17:58:25.076Z"
   },
   {
    "duration": 5,
    "start_time": "2024-11-24T17:58:25.090Z"
   },
   {
    "duration": 4,
    "start_time": "2024-11-24T17:58:25.097Z"
   },
   {
    "duration": 50,
    "start_time": "2024-11-24T17:58:25.104Z"
   },
   {
    "duration": 6,
    "start_time": "2024-11-24T17:58:25.156Z"
   },
   {
    "duration": 13,
    "start_time": "2024-11-24T17:58:25.164Z"
   },
   {
    "duration": 6,
    "start_time": "2024-11-24T17:58:25.178Z"
   },
   {
    "duration": 5,
    "start_time": "2024-11-24T17:58:25.185Z"
   },
   {
    "duration": 8,
    "start_time": "2024-11-24T17:58:25.193Z"
   },
   {
    "duration": 6,
    "start_time": "2024-11-24T17:58:25.203Z"
   },
   {
    "duration": 17,
    "start_time": "2024-11-24T17:58:25.244Z"
   },
   {
    "duration": 16,
    "start_time": "2024-11-24T17:58:25.263Z"
   },
   {
    "duration": 15,
    "start_time": "2024-11-24T17:58:25.281Z"
   },
   {
    "duration": 12,
    "start_time": "2024-11-24T17:58:25.298Z"
   },
   {
    "duration": 5,
    "start_time": "2024-11-24T17:58:25.342Z"
   },
   {
    "duration": 131,
    "start_time": "2024-11-24T17:58:25.349Z"
   },
   {
    "duration": 6,
    "start_time": "2024-11-24T17:58:25.482Z"
   },
   {
    "duration": 127,
    "start_time": "2024-11-24T17:58:25.489Z"
   },
   {
    "duration": 7,
    "start_time": "2024-11-24T17:58:25.618Z"
   },
   {
    "duration": 3,
    "start_time": "2024-11-24T17:58:25.626Z"
   },
   {
    "duration": 7,
    "start_time": "2024-11-24T17:58:25.642Z"
   },
   {
    "duration": 140,
    "start_time": "2024-11-24T17:58:25.651Z"
   },
   {
    "duration": 6,
    "start_time": "2024-11-24T17:58:25.793Z"
   },
   {
    "duration": 5,
    "start_time": "2024-11-24T17:58:25.801Z"
   },
   {
    "duration": 4,
    "start_time": "2024-11-24T17:58:25.807Z"
   },
   {
    "duration": 5,
    "start_time": "2024-11-24T17:58:25.812Z"
   },
   {
    "duration": 3,
    "start_time": "2024-11-24T17:58:25.843Z"
   },
   {
    "duration": 5,
    "start_time": "2024-11-24T17:58:25.848Z"
   },
   {
    "duration": 28,
    "start_time": "2024-11-24T17:58:25.855Z"
   },
   {
    "duration": 3,
    "start_time": "2024-11-24T17:58:35.577Z"
   },
   {
    "duration": 23,
    "start_time": "2024-11-24T17:58:36.245Z"
   },
   {
    "duration": 12,
    "start_time": "2024-11-24T17:58:36.963Z"
   },
   {
    "duration": 13,
    "start_time": "2024-11-24T17:58:37.634Z"
   },
   {
    "duration": 7,
    "start_time": "2024-11-24T17:58:38.861Z"
   },
   {
    "duration": 4,
    "start_time": "2024-11-24T17:58:42.968Z"
   },
   {
    "duration": 4,
    "start_time": "2024-11-24T17:58:44.246Z"
   },
   {
    "duration": 30,
    "start_time": "2024-11-24T17:58:44.973Z"
   },
   {
    "duration": 13,
    "start_time": "2024-11-24T17:58:45.672Z"
   },
   {
    "duration": 11,
    "start_time": "2024-11-24T17:58:46.221Z"
   },
   {
    "duration": 13,
    "start_time": "2024-11-24T17:58:48.350Z"
   },
   {
    "duration": 6,
    "start_time": "2024-11-24T17:58:49.140Z"
   },
   {
    "duration": 12,
    "start_time": "2024-11-24T17:58:54.515Z"
   },
   {
    "duration": 14,
    "start_time": "2024-11-24T17:59:01.490Z"
   },
   {
    "duration": 5,
    "start_time": "2024-11-24T17:59:03.106Z"
   },
   {
    "duration": 4,
    "start_time": "2024-11-24T17:59:04.583Z"
   },
   {
    "duration": 17,
    "start_time": "2024-11-24T17:59:06.096Z"
   },
   {
    "duration": 6,
    "start_time": "2024-11-24T17:59:13.436Z"
   },
   {
    "duration": 11,
    "start_time": "2024-11-24T17:59:14.001Z"
   },
   {
    "duration": 6,
    "start_time": "2024-11-24T17:59:15.326Z"
   },
   {
    "duration": 3,
    "start_time": "2024-11-24T17:59:17.446Z"
   },
   {
    "duration": 6,
    "start_time": "2024-11-24T17:59:18.574Z"
   },
   {
    "duration": 6,
    "start_time": "2024-11-24T17:59:25.059Z"
   },
   {
    "duration": 17,
    "start_time": "2024-11-24T17:59:28.132Z"
   },
   {
    "duration": 18,
    "start_time": "2024-11-24T17:59:32.190Z"
   },
   {
    "duration": 12,
    "start_time": "2024-11-24T18:00:25.894Z"
   },
   {
    "duration": 10,
    "start_time": "2024-11-24T18:00:35.219Z"
   },
   {
    "duration": 13,
    "start_time": "2024-11-24T18:00:41.809Z"
   },
   {
    "duration": 3,
    "start_time": "2024-11-24T18:00:52.533Z"
   },
   {
    "duration": 14,
    "start_time": "2024-11-24T18:01:03.340Z"
   },
   {
    "duration": 6,
    "start_time": "2024-11-24T18:01:10.589Z"
   },
   {
    "duration": 6,
    "start_time": "2024-11-24T18:17:33.137Z"
   },
   {
    "duration": 258,
    "start_time": "2024-11-24T18:17:37.429Z"
   },
   {
    "duration": 7,
    "start_time": "2024-11-24T18:17:46.697Z"
   },
   {
    "duration": 8,
    "start_time": "2024-11-24T18:22:35.101Z"
   },
   {
    "duration": 4,
    "start_time": "2024-11-24T18:24:06.841Z"
   },
   {
    "duration": 4,
    "start_time": "2024-11-24T18:24:33.816Z"
   },
   {
    "duration": 6,
    "start_time": "2024-11-24T18:24:43.186Z"
   },
   {
    "duration": 6,
    "start_time": "2024-11-24T18:24:53.686Z"
   },
   {
    "duration": 81,
    "start_time": "2024-11-24T18:25:30.105Z"
   },
   {
    "duration": 6,
    "start_time": "2024-11-24T18:25:36.406Z"
   },
   {
    "duration": 2,
    "start_time": "2024-11-24T18:25:45.193Z"
   },
   {
    "duration": 27,
    "start_time": "2024-11-24T18:25:45.198Z"
   },
   {
    "duration": 11,
    "start_time": "2024-11-24T18:25:45.227Z"
   },
   {
    "duration": 12,
    "start_time": "2024-11-24T18:25:45.241Z"
   },
   {
    "duration": 6,
    "start_time": "2024-11-24T18:25:45.254Z"
   },
   {
    "duration": 3,
    "start_time": "2024-11-24T18:25:45.262Z"
   },
   {
    "duration": 4,
    "start_time": "2024-11-24T18:25:45.267Z"
   },
   {
    "duration": 29,
    "start_time": "2024-11-24T18:25:45.273Z"
   },
   {
    "duration": 41,
    "start_time": "2024-11-24T18:25:45.305Z"
   },
   {
    "duration": 10,
    "start_time": "2024-11-24T18:25:45.347Z"
   },
   {
    "duration": 12,
    "start_time": "2024-11-24T18:25:45.359Z"
   },
   {
    "duration": 5,
    "start_time": "2024-11-24T18:25:45.373Z"
   },
   {
    "duration": 11,
    "start_time": "2024-11-24T18:25:45.379Z"
   },
   {
    "duration": 14,
    "start_time": "2024-11-24T18:25:45.392Z"
   },
   {
    "duration": 5,
    "start_time": "2024-11-24T18:25:45.443Z"
   },
   {
    "duration": 3,
    "start_time": "2024-11-24T18:25:45.450Z"
   },
   {
    "duration": 17,
    "start_time": "2024-11-24T18:25:45.455Z"
   },
   {
    "duration": 6,
    "start_time": "2024-11-24T18:25:45.473Z"
   },
   {
    "duration": 11,
    "start_time": "2024-11-24T18:25:45.481Z"
   },
   {
    "duration": 6,
    "start_time": "2024-11-24T18:25:45.493Z"
   },
   {
    "duration": 3,
    "start_time": "2024-11-24T18:25:45.501Z"
   },
   {
    "duration": 42,
    "start_time": "2024-11-24T18:25:45.505Z"
   },
   {
    "duration": 6,
    "start_time": "2024-11-24T18:25:45.549Z"
   },
   {
    "duration": 17,
    "start_time": "2024-11-24T18:25:45.559Z"
   },
   {
    "duration": 16,
    "start_time": "2024-11-24T18:25:45.577Z"
   },
   {
    "duration": 10,
    "start_time": "2024-11-24T18:25:45.595Z"
   },
   {
    "duration": 36,
    "start_time": "2024-11-24T18:25:45.607Z"
   },
   {
    "duration": 15,
    "start_time": "2024-11-24T18:25:45.644Z"
   },
   {
    "duration": 12,
    "start_time": "2024-11-24T18:25:45.661Z"
   },
   {
    "duration": 5,
    "start_time": "2024-11-24T18:25:45.674Z"
   },
   {
    "duration": 141,
    "start_time": "2024-11-24T18:25:45.680Z"
   },
   {
    "duration": 6,
    "start_time": "2024-11-24T18:25:45.824Z"
   },
   {
    "duration": 139,
    "start_time": "2024-11-24T18:25:45.832Z"
   },
   {
    "duration": 6,
    "start_time": "2024-11-24T18:25:45.973Z"
   },
   {
    "duration": 4,
    "start_time": "2024-11-24T18:25:45.981Z"
   },
   {
    "duration": 3,
    "start_time": "2024-11-24T18:25:45.987Z"
   },
   {
    "duration": 4,
    "start_time": "2024-11-24T18:25:45.992Z"
   },
   {
    "duration": 3,
    "start_time": "2024-11-24T18:25:45.999Z"
   },
   {
    "duration": 39,
    "start_time": "2024-11-24T18:25:46.004Z"
   },
   {
    "duration": 27,
    "start_time": "2024-11-24T18:25:46.044Z"
   },
   {
    "duration": 0,
    "start_time": "2024-11-24T18:25:46.072Z"
   },
   {
    "duration": 28,
    "start_time": "2024-11-24T18:26:13.587Z"
   },
   {
    "duration": 28,
    "start_time": "2024-11-24T18:28:17.382Z"
   },
   {
    "duration": 3,
    "start_time": "2024-11-24T18:28:53.230Z"
   },
   {
    "duration": 3,
    "start_time": "2024-11-24T18:29:14.798Z"
   },
   {
    "duration": 4,
    "start_time": "2024-11-24T18:31:16.407Z"
   },
   {
    "duration": 19,
    "start_time": "2024-11-24T18:35:09.930Z"
   },
   {
    "duration": 3,
    "start_time": "2024-11-24T18:35:19.685Z"
   },
   {
    "duration": 14,
    "start_time": "2024-11-24T18:35:59.654Z"
   },
   {
    "duration": 5,
    "start_time": "2024-11-24T18:37:52.123Z"
   },
   {
    "duration": 95,
    "start_time": "2024-11-24T18:37:54.887Z"
   },
   {
    "duration": 93,
    "start_time": "2024-11-24T18:37:57.654Z"
   },
   {
    "duration": 3,
    "start_time": "2024-11-24T18:38:00.816Z"
   },
   {
    "duration": 23,
    "start_time": "2024-11-24T18:38:00.822Z"
   },
   {
    "duration": 13,
    "start_time": "2024-11-24T18:38:00.847Z"
   },
   {
    "duration": 13,
    "start_time": "2024-11-24T18:38:00.861Z"
   },
   {
    "duration": 7,
    "start_time": "2024-11-24T18:38:00.877Z"
   },
   {
    "duration": 3,
    "start_time": "2024-11-24T18:38:00.886Z"
   },
   {
    "duration": 6,
    "start_time": "2024-11-24T18:38:00.891Z"
   },
   {
    "duration": 70,
    "start_time": "2024-11-24T18:38:00.898Z"
   },
   {
    "duration": 12,
    "start_time": "2024-11-24T18:38:00.970Z"
   },
   {
    "duration": 12,
    "start_time": "2024-11-24T18:38:00.984Z"
   },
   {
    "duration": 13,
    "start_time": "2024-11-24T18:38:00.997Z"
   },
   {
    "duration": 31,
    "start_time": "2024-11-24T18:38:01.012Z"
   },
   {
    "duration": 15,
    "start_time": "2024-11-24T18:38:01.045Z"
   },
   {
    "duration": 14,
    "start_time": "2024-11-24T18:38:01.065Z"
   },
   {
    "duration": 5,
    "start_time": "2024-11-24T18:38:01.080Z"
   },
   {
    "duration": 4,
    "start_time": "2024-11-24T18:38:01.087Z"
   },
   {
    "duration": 17,
    "start_time": "2024-11-24T18:38:01.092Z"
   },
   {
    "duration": 8,
    "start_time": "2024-11-24T18:38:01.143Z"
   },
   {
    "duration": 12,
    "start_time": "2024-11-24T18:38:01.153Z"
   },
   {
    "duration": 5,
    "start_time": "2024-11-24T18:38:01.168Z"
   },
   {
    "duration": 4,
    "start_time": "2024-11-24T18:38:01.175Z"
   },
   {
    "duration": 6,
    "start_time": "2024-11-24T18:38:01.181Z"
   },
   {
    "duration": 5,
    "start_time": "2024-11-24T18:38:01.189Z"
   },
   {
    "duration": 16,
    "start_time": "2024-11-24T18:38:01.195Z"
   },
   {
    "duration": 19,
    "start_time": "2024-11-24T18:38:01.243Z"
   },
   {
    "duration": 12,
    "start_time": "2024-11-24T18:38:01.263Z"
   },
   {
    "duration": 4,
    "start_time": "2024-11-24T18:38:01.277Z"
   },
   {
    "duration": 17,
    "start_time": "2024-11-24T18:38:01.283Z"
   },
   {
    "duration": 46,
    "start_time": "2024-11-24T18:38:01.302Z"
   },
   {
    "duration": 4,
    "start_time": "2024-11-24T18:38:01.350Z"
   },
   {
    "duration": 133,
    "start_time": "2024-11-24T18:38:01.356Z"
   },
   {
    "duration": 6,
    "start_time": "2024-11-24T18:38:01.491Z"
   },
   {
    "duration": 143,
    "start_time": "2024-11-24T18:38:01.499Z"
   },
   {
    "duration": 6,
    "start_time": "2024-11-24T18:38:01.644Z"
   },
   {
    "duration": 5,
    "start_time": "2024-11-24T18:38:01.652Z"
   },
   {
    "duration": 4,
    "start_time": "2024-11-24T18:38:01.659Z"
   },
   {
    "duration": 4,
    "start_time": "2024-11-24T18:38:01.665Z"
   },
   {
    "duration": 4,
    "start_time": "2024-11-24T18:38:01.670Z"
   },
   {
    "duration": 14,
    "start_time": "2024-11-24T18:38:01.675Z"
   },
   {
    "duration": 4,
    "start_time": "2024-11-24T18:38:01.691Z"
   },
   {
    "duration": 68,
    "start_time": "2024-11-24T18:38:01.699Z"
   },
   {
    "duration": 0,
    "start_time": "2024-11-24T18:38:01.768Z"
   },
   {
    "duration": 7,
    "start_time": "2024-11-24T18:38:22.164Z"
   },
   {
    "duration": 5,
    "start_time": "2024-11-24T18:38:25.596Z"
   },
   {
    "duration": 3,
    "start_time": "2024-11-24T18:38:41.609Z"
   },
   {
    "duration": 25,
    "start_time": "2024-11-24T18:38:41.630Z"
   },
   {
    "duration": 12,
    "start_time": "2024-11-24T18:38:41.657Z"
   },
   {
    "duration": 13,
    "start_time": "2024-11-24T18:38:41.670Z"
   },
   {
    "duration": 6,
    "start_time": "2024-11-24T18:38:41.684Z"
   },
   {
    "duration": 3,
    "start_time": "2024-11-24T18:38:41.693Z"
   },
   {
    "duration": 4,
    "start_time": "2024-11-24T18:38:41.698Z"
   },
   {
    "duration": 61,
    "start_time": "2024-11-24T18:38:41.703Z"
   },
   {
    "duration": 12,
    "start_time": "2024-11-24T18:38:41.766Z"
   },
   {
    "duration": 11,
    "start_time": "2024-11-24T18:38:41.780Z"
   },
   {
    "duration": 11,
    "start_time": "2024-11-24T18:38:41.793Z"
   },
   {
    "duration": 5,
    "start_time": "2024-11-24T18:38:41.805Z"
   },
   {
    "duration": 36,
    "start_time": "2024-11-24T18:38:41.812Z"
   },
   {
    "duration": 14,
    "start_time": "2024-11-24T18:38:41.850Z"
   },
   {
    "duration": 6,
    "start_time": "2024-11-24T18:38:41.868Z"
   },
   {
    "duration": 4,
    "start_time": "2024-11-24T18:38:41.875Z"
   },
   {
    "duration": 17,
    "start_time": "2024-11-24T18:38:41.880Z"
   },
   {
    "duration": 6,
    "start_time": "2024-11-24T18:38:41.899Z"
   },
   {
    "duration": 48,
    "start_time": "2024-11-24T18:38:41.906Z"
   },
   {
    "duration": 5,
    "start_time": "2024-11-24T18:38:41.956Z"
   },
   {
    "duration": 3,
    "start_time": "2024-11-24T18:38:41.964Z"
   },
   {
    "duration": 5,
    "start_time": "2024-11-24T18:38:41.969Z"
   },
   {
    "duration": 5,
    "start_time": "2024-11-24T18:38:41.976Z"
   },
   {
    "duration": 16,
    "start_time": "2024-11-24T18:38:41.983Z"
   },
   {
    "duration": 48,
    "start_time": "2024-11-24T18:38:42.000Z"
   },
   {
    "duration": 12,
    "start_time": "2024-11-24T18:38:42.050Z"
   },
   {
    "duration": 3,
    "start_time": "2024-11-24T18:38:42.064Z"
   },
   {
    "duration": 15,
    "start_time": "2024-11-24T18:38:42.069Z"
   },
   {
    "duration": 11,
    "start_time": "2024-11-24T18:38:42.086Z"
   },
   {
    "duration": 4,
    "start_time": "2024-11-24T18:38:42.099Z"
   },
   {
    "duration": 153,
    "start_time": "2024-11-24T18:38:42.105Z"
   },
   {
    "duration": 6,
    "start_time": "2024-11-24T18:38:42.261Z"
   },
   {
    "duration": 140,
    "start_time": "2024-11-24T18:38:42.269Z"
   },
   {
    "duration": 6,
    "start_time": "2024-11-24T18:38:42.411Z"
   },
   {
    "duration": 6,
    "start_time": "2024-11-24T18:38:42.419Z"
   },
   {
    "duration": 3,
    "start_time": "2024-11-24T18:38:42.442Z"
   },
   {
    "duration": 4,
    "start_time": "2024-11-24T18:38:42.448Z"
   },
   {
    "duration": 4,
    "start_time": "2024-11-24T18:38:42.454Z"
   },
   {
    "duration": 13,
    "start_time": "2024-11-24T18:38:42.460Z"
   },
   {
    "duration": 4,
    "start_time": "2024-11-24T18:38:42.475Z"
   },
   {
    "duration": 15,
    "start_time": "2024-11-24T18:38:42.481Z"
   },
   {
    "duration": 43,
    "start_time": "2024-11-24T18:38:42.501Z"
   },
   {
    "duration": 6,
    "start_time": "2024-11-24T18:38:58.952Z"
   },
   {
    "duration": 7,
    "start_time": "2024-11-24T18:39:15.666Z"
   },
   {
    "duration": 139,
    "start_time": "2024-11-24T18:39:19.233Z"
   },
   {
    "duration": 6,
    "start_time": "2024-11-24T18:39:24.353Z"
   },
   {
    "duration": 5,
    "start_time": "2024-11-24T18:39:42.010Z"
   },
   {
    "duration": 3,
    "start_time": "2024-11-24T18:39:48.596Z"
   },
   {
    "duration": 14,
    "start_time": "2024-11-24T18:40:11.910Z"
   },
   {
    "duration": 23,
    "start_time": "2024-11-24T18:41:04.211Z"
   },
   {
    "duration": 3,
    "start_time": "2024-11-24T18:43:39.945Z"
   },
   {
    "duration": 14,
    "start_time": "2024-11-24T18:43:52.542Z"
   },
   {
    "duration": 6,
    "start_time": "2024-11-24T18:44:40.627Z"
   },
   {
    "duration": 18,
    "start_time": "2024-11-24T18:45:11.897Z"
   },
   {
    "duration": 15,
    "start_time": "2024-11-24T18:45:24.292Z"
   },
   {
    "duration": 13,
    "start_time": "2024-11-24T18:45:31.806Z"
   },
   {
    "duration": 8,
    "start_time": "2024-11-24T18:49:25.731Z"
   },
   {
    "duration": 2511,
    "start_time": "2024-11-26T00:01:05.550Z"
   },
   {
    "duration": 33,
    "start_time": "2024-11-26T00:01:08.063Z"
   },
   {
    "duration": 11,
    "start_time": "2024-11-26T00:01:08.098Z"
   },
   {
    "duration": 17,
    "start_time": "2024-11-26T00:01:08.113Z"
   },
   {
    "duration": 8,
    "start_time": "2024-11-26T00:01:08.132Z"
   },
   {
    "duration": 3,
    "start_time": "2024-11-26T00:01:08.142Z"
   },
   {
    "duration": 4,
    "start_time": "2024-11-26T00:01:08.147Z"
   },
   {
    "duration": 52,
    "start_time": "2024-11-26T00:01:08.153Z"
   },
   {
    "duration": 12,
    "start_time": "2024-11-26T00:01:08.206Z"
   },
   {
    "duration": 10,
    "start_time": "2024-11-26T00:01:08.220Z"
   },
   {
    "duration": 12,
    "start_time": "2024-11-26T00:01:08.231Z"
   },
   {
    "duration": 7,
    "start_time": "2024-11-26T00:01:08.244Z"
   },
   {
    "duration": 39,
    "start_time": "2024-11-26T00:01:08.256Z"
   },
   {
    "duration": 14,
    "start_time": "2024-11-26T00:01:08.297Z"
   },
   {
    "duration": 5,
    "start_time": "2024-11-26T00:01:08.312Z"
   },
   {
    "duration": 3,
    "start_time": "2024-11-26T00:01:08.319Z"
   },
   {
    "duration": 17,
    "start_time": "2024-11-26T00:01:08.324Z"
   },
   {
    "duration": 6,
    "start_time": "2024-11-26T00:01:08.343Z"
   },
   {
    "duration": 43,
    "start_time": "2024-11-26T00:01:08.351Z"
   },
   {
    "duration": 6,
    "start_time": "2024-11-26T00:01:08.395Z"
   },
   {
    "duration": 3,
    "start_time": "2024-11-26T00:01:08.402Z"
   },
   {
    "duration": 6,
    "start_time": "2024-11-26T00:01:08.407Z"
   },
   {
    "duration": 6,
    "start_time": "2024-11-26T00:01:08.415Z"
   },
   {
    "duration": 15,
    "start_time": "2024-11-26T00:01:08.422Z"
   },
   {
    "duration": 47,
    "start_time": "2024-11-26T00:01:08.439Z"
   },
   {
    "duration": 10,
    "start_time": "2024-11-26T00:01:08.488Z"
   },
   {
    "duration": 4,
    "start_time": "2024-11-26T00:01:08.499Z"
   },
   {
    "duration": 15,
    "start_time": "2024-11-26T00:01:08.506Z"
   },
   {
    "duration": 11,
    "start_time": "2024-11-26T00:01:08.523Z"
   },
   {
    "duration": 8,
    "start_time": "2024-11-26T00:01:08.535Z"
   },
   {
    "duration": 4,
    "start_time": "2024-11-26T00:01:08.544Z"
   },
   {
    "duration": 170,
    "start_time": "2024-11-26T00:01:08.550Z"
   },
   {
    "duration": 7,
    "start_time": "2024-11-26T00:01:08.722Z"
   },
   {
    "duration": 148,
    "start_time": "2024-11-26T00:01:08.730Z"
   },
   {
    "duration": 278,
    "start_time": "2024-11-26T00:01:08.879Z"
   },
   {
    "duration": 0,
    "start_time": "2024-11-26T00:01:09.160Z"
   },
   {
    "duration": 0,
    "start_time": "2024-11-26T00:01:09.161Z"
   },
   {
    "duration": 0,
    "start_time": "2024-11-26T00:01:09.162Z"
   },
   {
    "duration": 0,
    "start_time": "2024-11-26T00:01:09.163Z"
   },
   {
    "duration": 0,
    "start_time": "2024-11-26T00:01:09.165Z"
   },
   {
    "duration": 0,
    "start_time": "2024-11-26T00:01:09.166Z"
   },
   {
    "duration": 0,
    "start_time": "2024-11-26T00:01:09.168Z"
   },
   {
    "duration": 13,
    "start_time": "2024-11-26T00:01:26.344Z"
   },
   {
    "duration": 3,
    "start_time": "2024-11-26T00:01:32.428Z"
   },
   {
    "duration": 23,
    "start_time": "2024-11-26T00:01:32.433Z"
   },
   {
    "duration": 11,
    "start_time": "2024-11-26T00:01:32.457Z"
   },
   {
    "duration": 12,
    "start_time": "2024-11-26T00:01:32.470Z"
   },
   {
    "duration": 5,
    "start_time": "2024-11-26T00:01:32.485Z"
   },
   {
    "duration": 2,
    "start_time": "2024-11-26T00:01:32.492Z"
   },
   {
    "duration": 4,
    "start_time": "2024-11-26T00:01:32.496Z"
   },
   {
    "duration": 26,
    "start_time": "2024-11-26T00:01:32.501Z"
   },
   {
    "duration": 11,
    "start_time": "2024-11-26T00:01:32.528Z"
   },
   {
    "duration": 10,
    "start_time": "2024-11-26T00:01:32.541Z"
   },
   {
    "duration": 39,
    "start_time": "2024-11-26T00:01:32.552Z"
   },
   {
    "duration": 6,
    "start_time": "2024-11-26T00:01:32.592Z"
   },
   {
    "duration": 11,
    "start_time": "2024-11-26T00:01:32.600Z"
   },
   {
    "duration": 13,
    "start_time": "2024-11-26T00:01:32.614Z"
   },
   {
    "duration": 5,
    "start_time": "2024-11-26T00:01:32.628Z"
   },
   {
    "duration": 4,
    "start_time": "2024-11-26T00:01:32.634Z"
   },
   {
    "duration": 58,
    "start_time": "2024-11-26T00:01:32.640Z"
   },
   {
    "duration": 7,
    "start_time": "2024-11-26T00:01:32.700Z"
   },
   {
    "duration": 9,
    "start_time": "2024-11-26T00:01:32.709Z"
   },
   {
    "duration": 5,
    "start_time": "2024-11-26T00:01:32.720Z"
   },
   {
    "duration": 4,
    "start_time": "2024-11-26T00:01:32.727Z"
   },
   {
    "duration": 6,
    "start_time": "2024-11-26T00:01:32.732Z"
   },
   {
    "duration": 5,
    "start_time": "2024-11-26T00:01:32.740Z"
   },
   {
    "duration": 45,
    "start_time": "2024-11-26T00:01:32.747Z"
   },
   {
    "duration": 15,
    "start_time": "2024-11-26T00:01:32.793Z"
   },
   {
    "duration": 10,
    "start_time": "2024-11-26T00:01:32.810Z"
   },
   {
    "duration": 4,
    "start_time": "2024-11-26T00:01:32.821Z"
   },
   {
    "duration": 14,
    "start_time": "2024-11-26T00:01:32.826Z"
   },
   {
    "duration": 49,
    "start_time": "2024-11-26T00:01:32.842Z"
   },
   {
    "duration": 7,
    "start_time": "2024-11-26T00:01:32.892Z"
   },
   {
    "duration": 4,
    "start_time": "2024-11-26T00:01:32.901Z"
   },
   {
    "duration": 144,
    "start_time": "2024-11-26T00:01:32.907Z"
   },
   {
    "duration": 6,
    "start_time": "2024-11-26T00:01:33.053Z"
   },
   {
    "duration": 168,
    "start_time": "2024-11-26T00:01:33.061Z"
   },
   {
    "duration": 12,
    "start_time": "2024-11-26T00:01:33.231Z"
   },
   {
    "duration": 0,
    "start_time": "2024-11-26T00:01:33.245Z"
   },
   {
    "duration": 0,
    "start_time": "2024-11-26T00:01:33.247Z"
   },
   {
    "duration": 0,
    "start_time": "2024-11-26T00:01:33.248Z"
   },
   {
    "duration": 0,
    "start_time": "2024-11-26T00:01:33.249Z"
   },
   {
    "duration": 0,
    "start_time": "2024-11-26T00:01:33.251Z"
   },
   {
    "duration": 0,
    "start_time": "2024-11-26T00:01:33.251Z"
   },
   {
    "duration": 0,
    "start_time": "2024-11-26T00:01:33.254Z"
   },
   {
    "duration": 2,
    "start_time": "2024-11-26T00:01:43.680Z"
   },
   {
    "duration": 22,
    "start_time": "2024-11-26T00:01:44.744Z"
   },
   {
    "duration": 11,
    "start_time": "2024-11-26T00:01:45.425Z"
   },
   {
    "duration": 12,
    "start_time": "2024-11-26T00:01:46.179Z"
   },
   {
    "duration": 10,
    "start_time": "2024-11-26T00:01:46.762Z"
   },
   {
    "duration": 3,
    "start_time": "2024-11-26T00:01:47.766Z"
   },
   {
    "duration": 4,
    "start_time": "2024-11-26T00:01:48.243Z"
   },
   {
    "duration": 27,
    "start_time": "2024-11-26T00:01:48.728Z"
   },
   {
    "duration": 13,
    "start_time": "2024-11-26T00:01:49.245Z"
   },
   {
    "duration": 11,
    "start_time": "2024-11-26T00:01:49.701Z"
   },
   {
    "duration": 12,
    "start_time": "2024-11-26T00:01:50.735Z"
   },
   {
    "duration": 5,
    "start_time": "2024-11-26T00:01:51.183Z"
   },
   {
    "duration": 12,
    "start_time": "2024-11-26T00:01:51.979Z"
   },
   {
    "duration": 14,
    "start_time": "2024-11-26T00:01:52.907Z"
   },
   {
    "duration": 6,
    "start_time": "2024-11-26T00:01:53.404Z"
   },
   {
    "duration": 4,
    "start_time": "2024-11-26T00:01:53.674Z"
   },
   {
    "duration": 17,
    "start_time": "2024-11-26T00:01:53.974Z"
   },
   {
    "duration": 5,
    "start_time": "2024-11-26T00:01:54.279Z"
   },
   {
    "duration": 11,
    "start_time": "2024-11-26T00:01:54.602Z"
   },
   {
    "duration": 6,
    "start_time": "2024-11-26T00:01:55.184Z"
   },
   {
    "duration": 3,
    "start_time": "2024-11-26T00:01:55.932Z"
   },
   {
    "duration": 6,
    "start_time": "2024-11-26T00:01:56.635Z"
   },
   {
    "duration": 6,
    "start_time": "2024-11-26T00:01:57.324Z"
   },
   {
    "duration": 16,
    "start_time": "2024-11-26T00:01:58.261Z"
   },
   {
    "duration": 17,
    "start_time": "2024-11-26T00:01:58.736Z"
   },
   {
    "duration": 11,
    "start_time": "2024-11-26T00:01:59.292Z"
   },
   {
    "duration": 3,
    "start_time": "2024-11-26T00:01:59.783Z"
   },
   {
    "duration": 15,
    "start_time": "2024-11-26T00:02:00.387Z"
   },
   {
    "duration": 11,
    "start_time": "2024-11-26T00:02:00.908Z"
   },
   {
    "duration": 7,
    "start_time": "2024-11-26T00:02:04.138Z"
   },
   {
    "duration": 4,
    "start_time": "2024-11-26T00:02:05.913Z"
   },
   {
    "duration": 117,
    "start_time": "2024-11-26T00:02:06.601Z"
   },
   {
    "duration": 6,
    "start_time": "2024-11-26T00:02:08.292Z"
   },
   {
    "duration": 138,
    "start_time": "2024-11-26T00:02:08.914Z"
   },
   {
    "duration": 13,
    "start_time": "2024-11-26T00:02:10.812Z"
   },
   {
    "duration": 6,
    "start_time": "2024-11-26T00:02:29.427Z"
   },
   {
    "duration": 6,
    "start_time": "2024-11-26T00:02:30.456Z"
   },
   {
    "duration": 4,
    "start_time": "2024-11-26T00:02:33.640Z"
   },
   {
    "duration": 4,
    "start_time": "2024-11-26T00:02:37.205Z"
   },
   {
    "duration": 4,
    "start_time": "2024-11-26T00:02:38.578Z"
   },
   {
    "duration": 4,
    "start_time": "2024-11-26T00:02:41.262Z"
   },
   {
    "duration": 3,
    "start_time": "2024-11-26T00:02:50.388Z"
   },
   {
    "duration": 23,
    "start_time": "2024-11-26T00:02:50.395Z"
   },
   {
    "duration": 10,
    "start_time": "2024-11-26T00:02:50.421Z"
   },
   {
    "duration": 13,
    "start_time": "2024-11-26T00:02:50.432Z"
   },
   {
    "duration": 6,
    "start_time": "2024-11-26T00:02:50.447Z"
   },
   {
    "duration": 2,
    "start_time": "2024-11-26T00:02:50.487Z"
   },
   {
    "duration": 4,
    "start_time": "2024-11-26T00:02:50.491Z"
   },
   {
    "duration": 28,
    "start_time": "2024-11-26T00:02:50.497Z"
   },
   {
    "duration": 11,
    "start_time": "2024-11-26T00:02:50.527Z"
   },
   {
    "duration": 10,
    "start_time": "2024-11-26T00:02:50.540Z"
   },
   {
    "duration": 44,
    "start_time": "2024-11-26T00:02:50.552Z"
   },
   {
    "duration": 6,
    "start_time": "2024-11-26T00:02:50.598Z"
   },
   {
    "duration": 10,
    "start_time": "2024-11-26T00:02:50.605Z"
   },
   {
    "duration": 13,
    "start_time": "2024-11-26T00:02:50.617Z"
   },
   {
    "duration": 5,
    "start_time": "2024-11-26T00:02:50.634Z"
   },
   {
    "duration": 3,
    "start_time": "2024-11-26T00:02:50.641Z"
   },
   {
    "duration": 49,
    "start_time": "2024-11-26T00:02:50.645Z"
   },
   {
    "duration": 6,
    "start_time": "2024-11-26T00:02:50.696Z"
   },
   {
    "duration": 11,
    "start_time": "2024-11-26T00:02:50.704Z"
   },
   {
    "duration": 5,
    "start_time": "2024-11-26T00:02:50.716Z"
   },
   {
    "duration": 3,
    "start_time": "2024-11-26T00:02:50.723Z"
   },
   {
    "duration": 7,
    "start_time": "2024-11-26T00:02:50.728Z"
   },
   {
    "duration": 6,
    "start_time": "2024-11-26T00:02:50.736Z"
   },
   {
    "duration": 51,
    "start_time": "2024-11-26T00:02:50.744Z"
   },
   {
    "duration": 14,
    "start_time": "2024-11-26T00:02:50.797Z"
   },
   {
    "duration": 9,
    "start_time": "2024-11-26T00:02:50.813Z"
   },
   {
    "duration": 4,
    "start_time": "2024-11-26T00:02:50.823Z"
   },
   {
    "duration": 15,
    "start_time": "2024-11-26T00:02:50.829Z"
   },
   {
    "duration": 11,
    "start_time": "2024-11-26T00:02:50.846Z"
   },
   {
    "duration": 7,
    "start_time": "2024-11-26T00:02:50.886Z"
   },
   {
    "duration": 6,
    "start_time": "2024-11-26T00:02:50.894Z"
   },
   {
    "duration": 135,
    "start_time": "2024-11-26T00:02:50.901Z"
   },
   {
    "duration": 5,
    "start_time": "2024-11-26T00:02:51.038Z"
   },
   {
    "duration": 143,
    "start_time": "2024-11-26T00:02:51.045Z"
   },
   {
    "duration": 6,
    "start_time": "2024-11-26T00:02:51.190Z"
   },
   {
    "duration": 6,
    "start_time": "2024-11-26T00:02:51.197Z"
   },
   {
    "duration": 4,
    "start_time": "2024-11-26T00:02:51.204Z"
   },
   {
    "duration": 4,
    "start_time": "2024-11-26T00:02:51.210Z"
   },
   {
    "duration": 4,
    "start_time": "2024-11-26T00:02:51.215Z"
   },
   {
    "duration": 3,
    "start_time": "2024-11-26T00:02:51.221Z"
   },
   {
    "duration": 346,
    "start_time": "2024-11-26T00:02:51.226Z"
   },
   {
    "duration": 0,
    "start_time": "2024-11-26T00:02:51.574Z"
   },
   {
    "duration": 4,
    "start_time": "2024-11-26T00:03:24.436Z"
   },
   {
    "duration": 5,
    "start_time": "2024-11-26T00:03:29.195Z"
   },
   {
    "duration": 4,
    "start_time": "2024-11-26T00:03:29.915Z"
   },
   {
    "duration": 4,
    "start_time": "2024-11-26T00:03:31.524Z"
   },
   {
    "duration": 5,
    "start_time": "2024-11-26T00:03:33.687Z"
   },
   {
    "duration": 4,
    "start_time": "2024-11-26T00:03:34.420Z"
   },
   {
    "duration": 3,
    "start_time": "2024-11-26T00:03:38.268Z"
   },
   {
    "duration": 425,
    "start_time": "2024-11-26T00:05:02.486Z"
   },
   {
    "duration": 3,
    "start_time": "2024-11-26T00:05:06.431Z"
   },
   {
    "duration": 22,
    "start_time": "2024-11-26T00:05:06.436Z"
   },
   {
    "duration": 11,
    "start_time": "2024-11-26T00:05:06.460Z"
   },
   {
    "duration": 13,
    "start_time": "2024-11-26T00:05:06.472Z"
   },
   {
    "duration": 5,
    "start_time": "2024-11-26T00:05:06.488Z"
   },
   {
    "duration": 2,
    "start_time": "2024-11-26T00:05:06.495Z"
   },
   {
    "duration": 4,
    "start_time": "2024-11-26T00:05:06.499Z"
   },
   {
    "duration": 26,
    "start_time": "2024-11-26T00:05:06.505Z"
   },
   {
    "duration": 12,
    "start_time": "2024-11-26T00:05:06.532Z"
   },
   {
    "duration": 43,
    "start_time": "2024-11-26T00:05:06.545Z"
   },
   {
    "duration": 11,
    "start_time": "2024-11-26T00:05:06.592Z"
   },
   {
    "duration": 5,
    "start_time": "2024-11-26T00:05:06.605Z"
   },
   {
    "duration": 11,
    "start_time": "2024-11-26T00:05:06.611Z"
   },
   {
    "duration": 13,
    "start_time": "2024-11-26T00:05:06.624Z"
   },
   {
    "duration": 5,
    "start_time": "2024-11-26T00:05:06.638Z"
   },
   {
    "duration": 3,
    "start_time": "2024-11-26T00:05:06.645Z"
   },
   {
    "duration": 17,
    "start_time": "2024-11-26T00:05:06.686Z"
   },
   {
    "duration": 5,
    "start_time": "2024-11-26T00:05:06.705Z"
   },
   {
    "duration": 10,
    "start_time": "2024-11-26T00:05:06.713Z"
   },
   {
    "duration": 5,
    "start_time": "2024-11-26T00:05:06.724Z"
   },
   {
    "duration": 4,
    "start_time": "2024-11-26T00:05:06.731Z"
   },
   {
    "duration": 6,
    "start_time": "2024-11-26T00:05:06.737Z"
   },
   {
    "duration": 42,
    "start_time": "2024-11-26T00:05:06.745Z"
   },
   {
    "duration": 16,
    "start_time": "2024-11-26T00:05:06.789Z"
   },
   {
    "duration": 15,
    "start_time": "2024-11-26T00:05:06.806Z"
   },
   {
    "duration": 11,
    "start_time": "2024-11-26T00:05:06.823Z"
   },
   {
    "duration": 4,
    "start_time": "2024-11-26T00:05:06.835Z"
   },
   {
    "duration": 15,
    "start_time": "2024-11-26T00:05:06.840Z"
   },
   {
    "duration": 11,
    "start_time": "2024-11-26T00:05:06.888Z"
   },
   {
    "duration": 6,
    "start_time": "2024-11-26T00:05:06.900Z"
   },
   {
    "duration": 4,
    "start_time": "2024-11-26T00:05:06.908Z"
   },
   {
    "duration": 149,
    "start_time": "2024-11-26T00:05:06.914Z"
   },
   {
    "duration": 5,
    "start_time": "2024-11-26T00:05:07.065Z"
   },
   {
    "duration": 142,
    "start_time": "2024-11-26T00:05:07.072Z"
   },
   {
    "duration": 6,
    "start_time": "2024-11-26T00:05:07.216Z"
   },
   {
    "duration": 5,
    "start_time": "2024-11-26T00:05:07.224Z"
   },
   {
    "duration": 3,
    "start_time": "2024-11-26T00:05:07.231Z"
   },
   {
    "duration": 3,
    "start_time": "2024-11-26T00:05:07.236Z"
   },
   {
    "duration": 4,
    "start_time": "2024-11-26T00:05:07.241Z"
   },
   {
    "duration": 3,
    "start_time": "2024-11-26T00:05:07.247Z"
   },
   {
    "duration": 26,
    "start_time": "2024-11-26T00:05:07.286Z"
   },
   {
    "duration": 0,
    "start_time": "2024-11-26T00:05:07.314Z"
   },
   {
    "duration": 5,
    "start_time": "2024-11-26T00:06:02.249Z"
   },
   {
    "duration": 4,
    "start_time": "2024-11-26T00:06:03.399Z"
   },
   {
    "duration": 3,
    "start_time": "2024-11-26T00:06:05.174Z"
   },
   {
    "duration": 4,
    "start_time": "2024-11-26T00:06:06.897Z"
   },
   {
    "duration": 5,
    "start_time": "2024-11-26T00:06:08.489Z"
   },
   {
    "duration": 4,
    "start_time": "2024-11-26T00:06:11.920Z"
   },
   {
    "duration": 3,
    "start_time": "2024-11-26T00:06:16.080Z"
   },
   {
    "duration": 4,
    "start_time": "2024-11-26T00:07:16.559Z"
   },
   {
    "duration": 5,
    "start_time": "2024-11-26T00:07:29.876Z"
   },
   {
    "duration": 13,
    "start_time": "2024-11-26T00:07:43.705Z"
   },
   {
    "duration": 7,
    "start_time": "2024-11-26T00:07:58.676Z"
   },
   {
    "duration": 91,
    "start_time": "2024-11-26T00:08:06.208Z"
   },
   {
    "duration": 4,
    "start_time": "2024-11-26T00:08:11.275Z"
   },
   {
    "duration": 42,
    "start_time": "2024-11-26T00:08:13.796Z"
   },
   {
    "duration": 2,
    "start_time": "2024-11-26T00:08:16.156Z"
   },
   {
    "duration": 23,
    "start_time": "2024-11-26T00:08:16.161Z"
   },
   {
    "duration": 9,
    "start_time": "2024-11-26T00:08:16.186Z"
   },
   {
    "duration": 11,
    "start_time": "2024-11-26T00:08:16.197Z"
   },
   {
    "duration": 7,
    "start_time": "2024-11-26T00:08:16.211Z"
   },
   {
    "duration": 4,
    "start_time": "2024-11-26T00:08:16.219Z"
   },
   {
    "duration": 5,
    "start_time": "2024-11-26T00:08:16.224Z"
   },
   {
    "duration": 65,
    "start_time": "2024-11-26T00:08:16.230Z"
   },
   {
    "duration": 12,
    "start_time": "2024-11-26T00:08:16.297Z"
   },
   {
    "duration": 10,
    "start_time": "2024-11-26T00:08:16.311Z"
   },
   {
    "duration": 11,
    "start_time": "2024-11-26T00:08:16.324Z"
   },
   {
    "duration": 4,
    "start_time": "2024-11-26T00:08:16.337Z"
   },
   {
    "duration": 10,
    "start_time": "2024-11-26T00:08:16.343Z"
   },
   {
    "duration": 41,
    "start_time": "2024-11-26T00:08:16.355Z"
   },
   {
    "duration": 5,
    "start_time": "2024-11-26T00:08:16.398Z"
   },
   {
    "duration": 3,
    "start_time": "2024-11-26T00:08:16.405Z"
   },
   {
    "duration": 16,
    "start_time": "2024-11-26T00:08:16.410Z"
   },
   {
    "duration": 5,
    "start_time": "2024-11-26T00:08:16.428Z"
   },
   {
    "duration": 10,
    "start_time": "2024-11-26T00:08:16.434Z"
   },
   {
    "duration": 41,
    "start_time": "2024-11-26T00:08:16.446Z"
   },
   {
    "duration": 3,
    "start_time": "2024-11-26T00:08:16.489Z"
   },
   {
    "duration": 7,
    "start_time": "2024-11-26T00:08:16.494Z"
   },
   {
    "duration": 6,
    "start_time": "2024-11-26T00:08:16.502Z"
   },
   {
    "duration": 15,
    "start_time": "2024-11-26T00:08:16.510Z"
   },
   {
    "duration": 15,
    "start_time": "2024-11-26T00:08:16.527Z"
   },
   {
    "duration": 43,
    "start_time": "2024-11-26T00:08:16.544Z"
   },
   {
    "duration": 4,
    "start_time": "2024-11-26T00:08:16.588Z"
   },
   {
    "duration": 15,
    "start_time": "2024-11-26T00:08:16.594Z"
   },
   {
    "duration": 12,
    "start_time": "2024-11-26T00:08:16.613Z"
   },
   {
    "duration": 6,
    "start_time": "2024-11-26T00:08:16.626Z"
   },
   {
    "duration": 4,
    "start_time": "2024-11-26T00:08:16.634Z"
   },
   {
    "duration": 157,
    "start_time": "2024-11-26T00:08:16.639Z"
   },
   {
    "duration": 6,
    "start_time": "2024-11-26T00:08:16.798Z"
   },
   {
    "duration": 142,
    "start_time": "2024-11-26T00:08:16.806Z"
   },
   {
    "duration": 6,
    "start_time": "2024-11-26T00:08:16.950Z"
   },
   {
    "duration": 4,
    "start_time": "2024-11-26T00:08:16.958Z"
   },
   {
    "duration": 23,
    "start_time": "2024-11-26T00:08:16.964Z"
   },
   {
    "duration": 4,
    "start_time": "2024-11-26T00:08:16.989Z"
   },
   {
    "duration": 5,
    "start_time": "2024-11-26T00:08:16.994Z"
   },
   {
    "duration": 13,
    "start_time": "2024-11-26T00:08:17.000Z"
   },
   {
    "duration": 0,
    "start_time": "2024-11-26T00:08:17.015Z"
   },
   {
    "duration": 0,
    "start_time": "2024-11-26T00:08:17.016Z"
   },
   {
    "duration": 4,
    "start_time": "2024-11-26T00:08:25.229Z"
   },
   {
    "duration": 17,
    "start_time": "2024-11-26T00:08:30.204Z"
   },
   {
    "duration": 14,
    "start_time": "2024-11-26T00:08:34.766Z"
   },
   {
    "duration": 9,
    "start_time": "2024-11-26T00:35:32.737Z"
   },
   {
    "duration": 119,
    "start_time": "2024-11-26T00:46:32.308Z"
   },
   {
    "duration": 99,
    "start_time": "2024-11-26T00:47:34.448Z"
   },
   {
    "duration": 6,
    "start_time": "2024-11-26T00:50:47.354Z"
   },
   {
    "duration": 455,
    "start_time": "2024-11-26T00:51:04.139Z"
   },
   {
    "duration": 257,
    "start_time": "2024-11-26T00:51:31.960Z"
   },
   {
    "duration": 3,
    "start_time": "2024-11-26T01:01:54.506Z"
   },
   {
    "duration": 130,
    "start_time": "2024-11-26T01:02:15.475Z"
   },
   {
    "duration": 16,
    "start_time": "2024-11-26T01:02:44.528Z"
   },
   {
    "duration": 15,
    "start_time": "2024-11-26T01:02:50.116Z"
   },
   {
    "duration": 8,
    "start_time": "2024-11-26T01:05:17.404Z"
   },
   {
    "duration": 4,
    "start_time": "2024-11-26T01:15:52.983Z"
   },
   {
    "duration": 407,
    "start_time": "2024-11-26T01:17:09.362Z"
   },
   {
    "duration": 402,
    "start_time": "2024-11-26T01:17:33.780Z"
   },
   {
    "duration": 832,
    "start_time": "2024-11-26T01:18:20.299Z"
   },
   {
    "duration": 216,
    "start_time": "2024-11-26T01:19:16.938Z"
   },
   {
    "duration": 699,
    "start_time": "2024-11-26T01:19:37.197Z"
   },
   {
    "duration": 163,
    "start_time": "2024-11-26T23:52:25.948Z"
   },
   {
    "duration": 2523,
    "start_time": "2024-11-26T23:52:30.055Z"
   },
   {
    "duration": 33,
    "start_time": "2024-11-26T23:52:32.581Z"
   },
   {
    "duration": 11,
    "start_time": "2024-11-26T23:52:32.616Z"
   },
   {
    "duration": 14,
    "start_time": "2024-11-26T23:52:32.629Z"
   },
   {
    "duration": 6,
    "start_time": "2024-11-26T23:52:32.645Z"
   },
   {
    "duration": 3,
    "start_time": "2024-11-26T23:52:32.653Z"
   },
   {
    "duration": 4,
    "start_time": "2024-11-26T23:52:32.657Z"
   },
   {
    "duration": 58,
    "start_time": "2024-11-26T23:52:32.663Z"
   },
   {
    "duration": 12,
    "start_time": "2024-11-26T23:52:32.723Z"
   },
   {
    "duration": 10,
    "start_time": "2024-11-26T23:52:32.736Z"
   },
   {
    "duration": 12,
    "start_time": "2024-11-26T23:52:32.747Z"
   },
   {
    "duration": 5,
    "start_time": "2024-11-26T23:52:32.761Z"
   },
   {
    "duration": 10,
    "start_time": "2024-11-26T23:52:32.768Z"
   },
   {
    "duration": 40,
    "start_time": "2024-11-26T23:52:32.781Z"
   },
   {
    "duration": 5,
    "start_time": "2024-11-26T23:52:32.823Z"
   },
   {
    "duration": 5,
    "start_time": "2024-11-26T23:52:32.829Z"
   },
   {
    "duration": 17,
    "start_time": "2024-11-26T23:52:32.835Z"
   },
   {
    "duration": 5,
    "start_time": "2024-11-26T23:52:32.853Z"
   },
   {
    "duration": 10,
    "start_time": "2024-11-26T23:52:32.860Z"
   },
   {
    "duration": 40,
    "start_time": "2024-11-26T23:52:32.872Z"
   },
   {
    "duration": 4,
    "start_time": "2024-11-26T23:52:32.914Z"
   },
   {
    "duration": 6,
    "start_time": "2024-11-26T23:52:32.920Z"
   },
   {
    "duration": 6,
    "start_time": "2024-11-26T23:52:32.927Z"
   },
   {
    "duration": 15,
    "start_time": "2024-11-26T23:52:32.935Z"
   },
   {
    "duration": 14,
    "start_time": "2024-11-26T23:52:32.952Z"
   },
   {
    "duration": 45,
    "start_time": "2024-11-26T23:52:32.968Z"
   },
   {
    "duration": 3,
    "start_time": "2024-11-26T23:52:33.015Z"
   },
   {
    "duration": 16,
    "start_time": "2024-11-26T23:52:33.020Z"
   },
   {
    "duration": 10,
    "start_time": "2024-11-26T23:52:33.038Z"
   },
   {
    "duration": 7,
    "start_time": "2024-11-26T23:52:33.050Z"
   },
   {
    "duration": 5,
    "start_time": "2024-11-26T23:52:33.058Z"
   },
   {
    "duration": 162,
    "start_time": "2024-11-26T23:52:33.065Z"
   },
   {
    "duration": 6,
    "start_time": "2024-11-26T23:52:33.229Z"
   },
   {
    "duration": 141,
    "start_time": "2024-11-26T23:52:33.236Z"
   },
   {
    "duration": 7,
    "start_time": "2024-11-26T23:52:33.379Z"
   },
   {
    "duration": 5,
    "start_time": "2024-11-26T23:52:33.387Z"
   },
   {
    "duration": 18,
    "start_time": "2024-11-26T23:52:33.394Z"
   },
   {
    "duration": 5,
    "start_time": "2024-11-26T23:52:33.414Z"
   },
   {
    "duration": 8,
    "start_time": "2024-11-26T23:52:33.421Z"
   },
   {
    "duration": 5,
    "start_time": "2024-11-26T23:52:33.431Z"
   },
   {
    "duration": 16,
    "start_time": "2024-11-26T23:52:33.440Z"
   },
   {
    "duration": 15,
    "start_time": "2024-11-26T23:52:33.457Z"
   },
   {
    "duration": 38,
    "start_time": "2024-11-26T23:52:33.475Z"
   },
   {
    "duration": 426,
    "start_time": "2024-11-26T23:52:33.515Z"
   },
   {
    "duration": 258,
    "start_time": "2024-11-26T23:52:33.943Z"
   },
   {
    "duration": 21,
    "start_time": "2024-11-26T23:52:34.203Z"
   },
   {
    "duration": 8,
    "start_time": "2024-11-26T23:52:34.226Z"
   },
   {
    "duration": 808,
    "start_time": "2024-11-26T23:52:34.236Z"
   },
   {
    "duration": 3,
    "start_time": "2024-11-26T23:52:43.283Z"
   },
   {
    "duration": 22,
    "start_time": "2024-11-26T23:52:43.896Z"
   },
   {
    "duration": 11,
    "start_time": "2024-11-26T23:52:44.619Z"
   },
   {
    "duration": 14,
    "start_time": "2024-11-26T23:52:45.966Z"
   },
   {
    "duration": 3,
    "start_time": "2024-11-26T23:52:48.298Z"
   },
   {
    "duration": 23,
    "start_time": "2024-11-26T23:52:48.303Z"
   },
   {
    "duration": 11,
    "start_time": "2024-11-26T23:52:48.328Z"
   },
   {
    "duration": 14,
    "start_time": "2024-11-26T23:52:48.341Z"
   },
   {
    "duration": 6,
    "start_time": "2024-11-26T23:52:48.358Z"
   },
   {
    "duration": 4,
    "start_time": "2024-11-26T23:52:48.365Z"
   },
   {
    "duration": 42,
    "start_time": "2024-11-26T23:52:48.370Z"
   },
   {
    "duration": 26,
    "start_time": "2024-11-26T23:52:48.415Z"
   },
   {
    "duration": 12,
    "start_time": "2024-11-26T23:52:48.442Z"
   },
   {
    "duration": 10,
    "start_time": "2024-11-26T23:52:48.456Z"
   },
   {
    "duration": 12,
    "start_time": "2024-11-26T23:52:48.467Z"
   },
   {
    "duration": 33,
    "start_time": "2024-11-26T23:52:48.480Z"
   },
   {
    "duration": 14,
    "start_time": "2024-11-26T23:52:48.515Z"
   },
   {
    "duration": 14,
    "start_time": "2024-11-26T23:52:48.532Z"
   },
   {
    "duration": 6,
    "start_time": "2024-11-26T23:52:48.548Z"
   },
   {
    "duration": 4,
    "start_time": "2024-11-26T23:52:48.556Z"
   },
   {
    "duration": 18,
    "start_time": "2024-11-26T23:52:48.561Z"
   },
   {
    "duration": 6,
    "start_time": "2024-11-26T23:52:48.611Z"
   },
   {
    "duration": 10,
    "start_time": "2024-11-26T23:52:48.619Z"
   },
   {
    "duration": 5,
    "start_time": "2024-11-26T23:52:48.631Z"
   },
   {
    "duration": 5,
    "start_time": "2024-11-26T23:52:48.638Z"
   },
   {
    "duration": 5,
    "start_time": "2024-11-26T23:52:48.644Z"
   },
   {
    "duration": 7,
    "start_time": "2024-11-26T23:52:48.651Z"
   },
   {
    "duration": 52,
    "start_time": "2024-11-26T23:52:48.660Z"
   },
   {
    "duration": 17,
    "start_time": "2024-11-26T23:52:48.714Z"
   },
   {
    "duration": 10,
    "start_time": "2024-11-26T23:52:48.733Z"
   },
   {
    "duration": 3,
    "start_time": "2024-11-26T23:52:48.745Z"
   },
   {
    "duration": 16,
    "start_time": "2024-11-26T23:52:48.750Z"
   },
   {
    "duration": 47,
    "start_time": "2024-11-26T23:52:48.768Z"
   },
   {
    "duration": 8,
    "start_time": "2024-11-26T23:52:48.817Z"
   },
   {
    "duration": 4,
    "start_time": "2024-11-26T23:52:48.827Z"
   },
   {
    "duration": 138,
    "start_time": "2024-11-26T23:52:48.833Z"
   },
   {
    "duration": 5,
    "start_time": "2024-11-26T23:52:48.973Z"
   },
   {
    "duration": 138,
    "start_time": "2024-11-26T23:52:48.980Z"
   },
   {
    "duration": 6,
    "start_time": "2024-11-26T23:52:49.120Z"
   },
   {
    "duration": 5,
    "start_time": "2024-11-26T23:52:49.128Z"
   },
   {
    "duration": 4,
    "start_time": "2024-11-26T23:52:49.134Z"
   },
   {
    "duration": 4,
    "start_time": "2024-11-26T23:52:49.140Z"
   },
   {
    "duration": 4,
    "start_time": "2024-11-26T23:52:49.146Z"
   },
   {
    "duration": 4,
    "start_time": "2024-11-26T23:52:49.151Z"
   },
   {
    "duration": 54,
    "start_time": "2024-11-26T23:52:49.159Z"
   },
   {
    "duration": 18,
    "start_time": "2024-11-26T23:52:49.215Z"
   },
   {
    "duration": 10,
    "start_time": "2024-11-26T23:52:49.235Z"
   },
   {
    "duration": 308,
    "start_time": "2024-11-26T23:52:49.248Z"
   },
   {
    "duration": 360,
    "start_time": "2024-11-26T23:52:49.558Z"
   },
   {
    "duration": 16,
    "start_time": "2024-11-26T23:52:49.921Z"
   },
   {
    "duration": 14,
    "start_time": "2024-11-26T23:52:49.939Z"
   },
   {
    "duration": 756,
    "start_time": "2024-11-26T23:52:49.955Z"
   },
   {
    "duration": 4,
    "start_time": "2024-11-26T23:53:20.174Z"
   },
   {
    "duration": 264,
    "start_time": "2024-11-26T23:53:29.880Z"
   },
   {
    "duration": 4,
    "start_time": "2024-11-27T00:16:31.094Z"
   },
   {
    "duration": 15,
    "start_time": "2024-11-27T00:16:57.317Z"
   },
   {
    "duration": 852,
    "start_time": "2024-11-27T00:20:16.689Z"
   },
   {
    "duration": 806,
    "start_time": "2024-11-27T00:20:36.363Z"
   }
  ],
  "kernelspec": {
   "display_name": "Python 3",
   "language": "python",
   "name": "python3"
  },
  "language_info": {
   "codemirror_mode": {
    "name": "ipython",
    "version": 3
   },
   "file_extension": ".py",
   "mimetype": "text/x-python",
   "name": "python",
   "nbconvert_exporter": "python",
   "pygments_lexer": "ipython3",
   "version": "3.12.1"
  },
  "toc": {
   "base_numbering": 1,
   "nav_menu": {},
   "number_sections": true,
   "sideBar": true,
   "skip_h1_title": true,
   "title_cell": "Table of Contents",
   "title_sidebar": "Contents",
   "toc_cell": false,
   "toc_position": {},
   "toc_section_display": true,
   "toc_window_display": false
  }
 },
 "nbformat": 4,
 "nbformat_minor": 2
}
